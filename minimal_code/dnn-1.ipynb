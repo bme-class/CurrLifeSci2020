{
  "nbformat": 4,
  "nbformat_minor": 0,
  "metadata": {
    "colab": {
      "name": "Untitled12.ipynb",
      "provenance": [],
      "toc_visible": true
    },
    "kernelspec": {
      "name": "python3",
      "display_name": "Python 3"
    }
  },
  "cells": [
    {
      "cell_type": "code",
      "metadata": {
        "id": "YArJo3xj-OML",
        "colab_type": "code",
        "colab": {
          "base_uri": "https://localhost:8080/",
          "height": 35
        },
        "outputId": "ecaee357-2b0e-48e8-b116-0d65aad09981"
      },
      "source": [
        "%tensorflow_version 1.x\n"
      ],
      "execution_count": 1,
      "outputs": [
        {
          "output_type": "stream",
          "text": [
            "TensorFlow 1.x selected.\n"
          ],
          "name": "stdout"
        }
      ]
    },
    {
      "cell_type": "code",
      "metadata": {
        "id": "yvE3YlZ0AW8o",
        "colab_type": "code",
        "colab": {}
      },
      "source": [
        "import numpy as np\n",
        "import matplotlib.pyplot as plt\n",
        "\n",
        "from tensorflow import keras\n",
        "from tensorflow.keras import optimizers\n",
        "from tensorflow.keras.layers import Dense\n",
        "from tensorflow.keras.layers import Input\n",
        "\n",
        "import time"
      ],
      "execution_count": 2,
      "outputs": []
    },
    {
      "cell_type": "markdown",
      "metadata": {
        "id": "MaI7zb16-pOS",
        "colab_type": "text"
      },
      "source": [
        "##Data 준비 - Sin data로 학습 진행\n"
      ]
    },
    {
      "cell_type": "code",
      "metadata": {
        "id": "u4WUzIje-8mr",
        "colab_type": "code",
        "colab": {}
      },
      "source": [
        "#Data 준비\n",
        "def get_sin_data(start=0, end=10, step=0.1):\n",
        "   x = np.arange(start, end, step)\n",
        "   np.random.shuffle(x)\n",
        "   y = np.sin(x)\n",
        "\n",
        "   split_index=int(x.shape[0]*0.6)\n",
        "\n",
        "   train_x, test_x=x[:split_index], x[split_index:]\n",
        "   train_y, test_y=y[:split_index], y[split_index:]\n",
        "\n",
        "   return (train_x, train_y), (test_x, test_y)"
      ],
      "execution_count": 3,
      "outputs": []
    },
    {
      "cell_type": "code",
      "metadata": {
        "id": "BRM5Jn0V_pHX",
        "colab_type": "code",
        "colab": {
          "base_uri": "https://localhost:8080/",
          "height": 513
        },
        "outputId": "c8a84513-9e66-4ccc-c903-12c9b153377d"
      },
      "source": [
        "(train_x, train_y), (test_x, test_y)=get_sin_data(start=0, end=10, step=0.1)\n",
        "\n",
        "plt.scatter(train_x, train_y)\n",
        "plt.show()\n",
        "\n",
        "plt.scatter(test_x, test_y, color='r')\n",
        "plt.show()"
      ],
      "execution_count": 4,
      "outputs": [
        {
          "output_type": "display_data",
          "data": {
            "image/png": "[encoded data removed]",
            "text/plain": [
              "<Figure size 432x288 with 1 Axes>"
            ]
          },
          "metadata": {
            "tags": [],
            "needs_background": "light"
          }
        },
        {
          "output_type": "display_data",
          "data": {
            "image/png": "[encoded data removed]",
            "text/plain": [
              "<Figure size 432x288 with 1 Axes>"
            ]
          },
          "metadata": {
            "tags": [],
            "needs_background": "light"
          }
        }
      ]
    },
    {
      "cell_type": "markdown",
      "metadata": {
        "id": "mNQIkbevAo5n",
        "colab_type": "text"
      },
      "source": [
        "##실습용 DNN 최소코드"
      ]
    },
    {
      "cell_type": "code",
      "metadata": {
        "id": "d425zk8N-vG0",
        "colab_type": "code",
        "colab": {
          "base_uri": "https://localhost:8080/",
          "height": 663
        },
        "outputId": "26da489d-aa43-44ac-fed4-3716f33560b1"
      },
      "source": [
        "import numpy as np\n",
        "import matplotlib.pyplot as plt\n",
        "\n",
        "from tensorflow import keras\n",
        "from tensorflow.keras import optimizers\n",
        "from tensorflow.keras.layers import Dense\n",
        "from tensorflow.keras.layers import Input\n",
        "\n",
        "import time\n",
        "\n",
        "#모델정의\n",
        "model=keras.Sequential()\n",
        "model.add(Dense(10, activation='tanh', input_shape=(1,)))\n",
        "model.add(Dense(10, activation='tanh')) \n",
        "model.add(Dense(1))\n",
        "\n",
        "#모델 컴파일\n",
        "model.compile(optimizer='SGD', loss='mse', metrics=['mse'])\n",
        "model.summary()\n",
        "\n",
        "#학습 & 시간표시\n",
        "start_time=time.time()\n",
        "model.fit(train_x, train_y, epochs=1000, verbose=0, batch_size=20)\n",
        "print('elapsed : {}'.format(time.time()-start_time))\n",
        "\n",
        "#평가\n",
        "loss,mse=model.evaluate(test_x, test_y)\n",
        "print('loss=', loss)\n",
        "print('mse=', mse)\n",
        "\n",
        "#예측\n",
        "y_=model.predict(test_x)\n",
        "\n",
        "#출력\n",
        "plt.scatter(test_x, test_y)\n",
        "plt.scatter(test_x, y_, color='r') #예측값을 빨간색으로 출력\n",
        "plt.show()"
      ],
      "execution_count": 5,
      "outputs": [
        {
          "output_type": "stream",
          "text": [
            "WARNING:tensorflow:From /tensorflow-1.15.2/python3.6/tensorflow_core/python/ops/resource_variable_ops.py:1630: calling BaseResourceVariable.__init__ (from tensorflow.python.ops.resource_variable_ops) with constraint is deprecated and will be removed in a future version.\n",
            "Instructions for updating:\n",
            "If using Keras pass *_constraint arguments to layers.\n",
            "Model: \"sequential\"\n",
            "_________________________________________________________________\n",
            "Layer (type)                 Output Shape              Param #   \n",
            "=================================================================\n",
            "dense (Dense)                (None, 10)                20        \n",
            "_________________________________________________________________\n",
            "dense_1 (Dense)              (None, 10)                110       \n",
            "_________________________________________________________________\n",
            "dense_2 (Dense)              (None, 1)                 11        \n",
            "=================================================================\n",
            "Total params: 141\n",
            "Trainable params: 141\n",
            "Non-trainable params: 0\n",
            "_________________________________________________________________\n",
            "elapsed : 4.363752841949463\n",
            "40/40 [==============================] - 0s 418us/sample - loss: 0.1661 - mean_squared_error: 0.1661\n",
            "loss= 0.1661244213581085\n",
            "mse= 0.16612442\n"
          ],
          "name": "stdout"
        },
        {
          "output_type": "display_data",
          "data": {
            "image/png": "[encoded data removed]",
            "text/plain": [
              "<Figure size 432x288 with 1 Axes>"
            ]
          },
          "metadata": {
            "tags": [],
            "needs_background": "light"
          }
        }
      ]
    },
    {
      "cell_type": "markdown",
      "metadata": {
        "id": "WJQ9r2ShBqZc",
        "colab_type": "text"
      },
      "source": [
        "##학습 반복"
      ]
    },
    {
      "cell_type": "markdown",
      "metadata": {
        "id": "_1EmZ6vbBwsU",
        "colab_type": "text"
      },
      "source": [
        "반복학습을 위한 함수 정의"
      ]
    },
    {
      "cell_type": "code",
      "metadata": {
        "id": "GgNicaKSBtDw",
        "colab_type": "code",
        "colab": {}
      },
      "source": [
        "def fit_one_more(model, train_x, train_y, test_x, test_y, batch_size=20):\n",
        "\n",
        "  start_time = time.time()\n",
        "  model.fit(train_x, train_y, epochs=1000, verbose=0, batch_size=batch_size)\n",
        "  print(\"elapsed : {}\".format(time.time() - start_time))    \n",
        "\n",
        "  y_ = model.predict(test_x)\n",
        "\n",
        "  plt.scatter(test_x,test_y)\n",
        "  plt.scatter(test_x,y_,color='r')\n",
        "  plt.show()\n",
        "\n",
        "def fit_n_times(model, train_x, train_y, test_x, test_y, n):\n",
        "  \n",
        "  for i in range(n):\n",
        "    print(\"{} times fitting\".format(i))\n",
        "    fit_one_more(model, train_x, train_y, test_x, test_y)"
      ],
      "execution_count": 7,
      "outputs": []
    },
    {
      "cell_type": "markdown",
      "metadata": {
        "id": "PIYIn_h0Bzmy",
        "colab_type": "text"
      },
      "source": [
        "반복학습 실행 (10번 반복)"
      ]
    },
    {
      "cell_type": "code",
      "metadata": {
        "id": "2O726Zo_B1Cl",
        "colab_type": "code",
        "colab": {
          "base_uri": "https://localhost:8080/",
          "height": 1000
        },
        "outputId": "82708d7a-85ed-4258-8604-046670425d17"
      },
      "source": [
        "fit_n_times(model, train_x, train_y, test_x, test_y, 10)"
      ],
      "execution_count": null,
      "outputs": [
        {
          "output_type": "stream",
          "text": [
            "0 times fitting\n",
            "elapsed : 4.5429089069366455\n"
          ],
          "name": "stdout"
        },
        {
          "output_type": "display_data",
          "data": {
            "image/png": "[encoded data removed]",
            "text/plain": [
              "<Figure size 432x288 with 1 Axes>"
            ]
          },
          "metadata": {
            "tags": [],
            "needs_background": "light"
          }
        },
        {
          "output_type": "stream",
          "text": [
            "1 times fitting\n",
            "elapsed : 4.421842098236084\n"
          ],
          "name": "stdout"
        },
        {
          "output_type": "display_data",
          "data": {
            "image/png": "[encoded data removed]",
            "text/plain": [
              "<Figure size 432x288 with 1 Axes>"
            ]
          },
          "metadata": {
            "tags": [],
            "needs_background": "light"
          }
        },
        {
          "output_type": "stream",
          "text": [
            "2 times fitting\n",
            "elapsed : 4.387633800506592\n"
          ],
          "name": "stdout"
        },
        {
          "output_type": "display_data",
          "data": {
            "image/png": "[encoded data removed]",
            "text/plain": [
              "<Figure size 432x288 with 1 Axes>"
            ]
          },
          "metadata": {
            "tags": [],
            "needs_background": "light"
          }
        },
        {
          "output_type": "stream",
          "text": [
            "3 times fitting\n",
            "elapsed : 4.594708442687988\n"
          ],
          "name": "stdout"
        },
        {
          "output_type": "display_data",
          "data": {
            "image/png": "[encoded data removed]",
            "text/plain": [
              "<Figure size 432x288 with 1 Axes>"
            ]
          },
          "metadata": {
            "tags": [],
            "needs_background": "light"
          }
        },
        {
          "output_type": "stream",
          "text": [
            "4 times fitting\n",
            "elapsed : 4.5757832527160645\n"
          ],
          "name": "stdout"
        },
        {
          "output_type": "display_data",
          "data": {
            "image/png": "[encoded data removed]",
            "text/plain": [
              "<Figure size 432x288 with 1 Axes>"
            ]
          },
          "metadata": {
            "tags": [],
            "needs_background": "light"
          }
        },
        {
          "output_type": "stream",
          "text": [
            "5 times fitting\n",
            "elapsed : 4.520076513290405\n"
          ],
          "name": "stdout"
        },
        {
          "output_type": "display_data",
          "data": {
            "image/png": "[encoded data removed]",
            "text/plain": [
              "<Figure size 432x288 with 1 Axes>"
            ]
          },
          "metadata": {
            "tags": [],
            "needs_background": "light"
          }
        },
        {
          "output_type": "stream",
          "text": [
            "6 times fitting\n",
            "elapsed : 4.637247562408447\n"
          ],
          "name": "stdout"
        },
        {
          "output_type": "display_data",
          "data": {
            "image/png": "[encoded data removed]",
            "text/plain": [
              "<Figure size 432x288 with 1 Axes>"
            ]
          },
          "metadata": {
            "tags": [],
            "needs_background": "light"
          }
        },
        {
          "output_type": "stream",
          "text": [
            "7 times fitting\n",
            "elapsed : 4.569008827209473\n"
          ],
          "name": "stdout"
        },
        {
          "output_type": "display_data",
          "data": {
            "image/png": "[encoded data removed]",
            "text/plain": [
              "<Figure size 432x288 with 1 Axes>"
            ]
          },
          "metadata": {
            "tags": [],
            "needs_background": "light"
          }
        },
        {
          "output_type": "stream",
          "text": [
            "8 times fitting\n",
            "elapsed : 4.5820841789245605\n"
          ],
          "name": "stdout"
        },
        {
          "output_type": "display_data",
          "data": {
            "image/png": "[encoded data removed]",
            "text/plain": [
              "<Figure size 432x288 with 1 Axes>"
            ]
          },
          "metadata": {
            "tags": [],
            "needs_background": "light"
          }
        },
        {
          "output_type": "stream",
          "text": [
            "9 times fitting\n",
            "elapsed : 4.752021551132202\n"
          ],
          "name": "stdout"
        },
        {
          "output_type": "display_data",
          "data": {
            "image/png": "[encoded data removed]",
            "text/plain": [
              "<Figure size 432x288 with 1 Axes>"
            ]
          },
          "metadata": {
            "tags": [],
            "needs_background": "light"
          }
        }
      ]
    },
    {
      "cell_type": "markdown",
      "metadata": {
        "id": "WO-u7tGWHA5u",
        "colab_type": "text"
      },
      "source": [
        "##Batch size 변화"
      ]
    },
    {
      "cell_type": "code",
      "metadata": {
        "id": "niLVgB7iHCmW",
        "colab_type": "code",
        "colab": {}
      },
      "source": [
        "def build_model():\n",
        "\n",
        "  model = keras.Sequential()\n",
        "  model.add(Dense(10, activation='tanh', input_shape=(1,)))\n",
        "  model.add(Dense(10, activation='tanh'))\n",
        "  model.add(Dense(1))\n",
        "\n",
        "  model.compile(optimizer=\"SGD\", loss=\"mse\", metrics=[\"mse\"])\n",
        "\n",
        "  return model\n",
        "\n",
        "def fit_with_batch_sizes(train_x, train_y, test_x, test_y, batch_sizes):\n",
        "\n",
        "  for batch_size in batch_sizes:\n",
        "    model = build_model()\n",
        "    print(\"batch_size={}\".format(batch_size))\n",
        "    fit_one_more(model, train_x, train_y, test_x, test_y, batch_size)"
      ],
      "execution_count": 8,
      "outputs": []
    },
    {
      "cell_type": "code",
      "metadata": {
        "id": "fuDxIwgEHIJ8",
        "colab_type": "code",
        "colab": {}
      },
      "source": [
        "(train_x, train_y), (test_x, test_y) = get_sin_data(start=0, end=10, step=0.1)"
      ],
      "execution_count": 9,
      "outputs": []
    },
    {
      "cell_type": "markdown",
      "metadata": {
        "id": "p7LwBghzHLxH",
        "colab_type": "text"
      },
      "source": [
        "Batch size 적용 [1,2,5,10,20,50,100,200,500]"
      ]
    },
    {
      "cell_type": "code",
      "metadata": {
        "id": "wKOrg4boHSzq",
        "colab_type": "code",
        "colab": {
          "base_uri": "https://localhost:8080/",
          "height": 1000
        },
        "outputId": "1f268bbf-1340-4c8e-e1ad-825651d99022"
      },
      "source": [
        "fit_with_batch_sizes(train_x, train_y, test_x, test_y, batch_sizes=[1,2,5,10,20,50,100,200,500])"
      ],
      "execution_count": 10,
      "outputs": [
        {
          "output_type": "stream",
          "text": [
            "batch_size=1\n",
            "elapsed : 50.75346302986145\n"
          ],
          "name": "stdout"
        },
        {
          "output_type": "display_data",
          "data": {
            "image/png": "[encoded data removed]",
            "text/plain": [
              "<Figure size 432x288 with 1 Axes>"
            ]
          },
          "metadata": {
            "tags": [],
            "needs_background": "light"
          }
        },
        {
          "output_type": "stream",
          "text": [
            "batch_size=2\n",
            "elapsed : 28.796746253967285\n"
          ],
          "name": "stdout"
        },
        {
          "output_type": "display_data",
          "data": {
            "image/png": "[encoded data removed]",
            "text/plain": [
              "<Figure size 432x288 with 1 Axes>"
            ]
          },
          "metadata": {
            "tags": [],
            "needs_background": "light"
          }
        },
        {
          "output_type": "stream",
          "text": [
            "batch_size=5\n",
            "elapsed : 12.190746068954468\n"
          ],
          "name": "stdout"
        },
        {
          "output_type": "display_data",
          "data": {
            "image/png": "[encoded data removed]",
            "text/plain": [
              "<Figure size 432x288 with 1 Axes>"
            ]
          },
          "metadata": {
            "tags": [],
            "needs_background": "light"
          }
        },
        {
          "output_type": "stream",
          "text": [
            "batch_size=10\n",
            "elapsed : 7.210759401321411\n"
          ],
          "name": "stdout"
        },
        {
          "output_type": "display_data",
          "data": {
            "image/png": "[encoded data removed]",
            "text/plain": [
              "<Figure size 432x288 with 1 Axes>"
            ]
          },
          "metadata": {
            "tags": [],
            "needs_background": "light"
          }
        },
        {
          "output_type": "stream",
          "text": [
            "batch_size=20\n",
            "elapsed : 4.073648691177368\n"
          ],
          "name": "stdout"
        },
        {
          "output_type": "display_data",
          "data": {
            "image/png": "[encoded data removed]",
            "text/plain": [
              "<Figure size 432x288 with 1 Axes>"
            ]
          },
          "metadata": {
            "tags": [],
            "needs_background": "light"
          }
        },
        {
          "output_type": "stream",
          "text": [
            "batch_size=50\n",
            "elapsed : 3.1829097270965576\n"
          ],
          "name": "stdout"
        },
        {
          "output_type": "display_data",
          "data": {
            "image/png": "[encoded data removed]",
            "text/plain": [
              "<Figure size 432x288 with 1 Axes>"
            ]
          },
          "metadata": {
            "tags": [],
            "needs_background": "light"
          }
        },
        {
          "output_type": "stream",
          "text": [
            "batch_size=100\n",
            "elapsed : 2.2260820865631104\n"
          ],
          "name": "stdout"
        },
        {
          "output_type": "display_data",
          "data": {
            "image/png": "[encoded data removed]",
            "text/plain": [
              "<Figure size 432x288 with 1 Axes>"
            ]
          },
          "metadata": {
            "tags": [],
            "needs_background": "light"
          }
        },
        {
          "output_type": "stream",
          "text": [
            "batch_size=200\n",
            "elapsed : 2.291594982147217\n"
          ],
          "name": "stdout"
        },
        {
          "output_type": "display_data",
          "data": {
            "image/png": "[encoded data removed]",
            "text/plain": [
              "<Figure size 432x288 with 1 Axes>"
            ]
          },
          "metadata": {
            "tags": [],
            "needs_background": "light"
          }
        },
        {
          "output_type": "stream",
          "text": [
            "batch_size=500\n",
            "elapsed : 2.4039669036865234\n"
          ],
          "name": "stdout"
        },
        {
          "output_type": "display_data",
          "data": {
            "image/png": "[encoded data removed]",
            "text/plain": [
              "<Figure size 432x288 with 1 Axes>"
            ]
          },
          "metadata": {
            "tags": [],
            "needs_background": "light"
          }
        }
      ]
    },
    {
      "cell_type": "markdown",
      "metadata": {
        "id": "iBTkQOpPyaBS",
        "colab_type": "text"
      },
      "source": [
        "##History의 Loss 값 추이를 통한 Overfitting 확인\n",
        "반환된 history의 loss로 진행상황을 확인함"
      ]
    },
    {
      "cell_type": "code",
      "metadata": {
        "id": "tC6JJ2TFyec0",
        "colab_type": "code",
        "colab": {
          "base_uri": "https://localhost:8080/",
          "height": 553
        },
        "outputId": "9095ce60-a748-4f36-ad68-6785e00e4c50"
      },
      "source": [
        "(train_x, train_y), (test_x, test_y) = get_sin_data(start=0, end=10, step=0.1)\n",
        "\n",
        "model = keras.Sequential()\n",
        "model.add(Dense(10, activation='tanh', input_shape=(1,)))\n",
        "model.add(Dense(10, activation='tanh'))\n",
        "model.add(Dense(1))\n",
        "\n",
        "\n",
        "model.compile(optimizer=\"SGD\", loss=\"mse\", metrics=[\"mse\"])\n",
        "model.summary()\n",
        "\n",
        "\n",
        "start_time = time.time()\n",
        "# model.fit(train_x, train_y, epochs=1000, verbose=0, batch_size=20)\n",
        "history = model.fit(train_x, train_y, epochs=1000, verbose=0, batch_size=20)\n",
        "print(\"elapsed : {}\".format(time.time() - start_time))    \n",
        "\n",
        "plt.plot(history.history['loss'])"
      ],
      "execution_count": 11,
      "outputs": [
        {
          "output_type": "stream",
          "text": [
            "Model: \"sequential_10\"\n",
            "_________________________________________________________________\n",
            "Layer (type)                 Output Shape              Param #   \n",
            "=================================================================\n",
            "dense_30 (Dense)             (None, 10)                20        \n",
            "_________________________________________________________________\n",
            "dense_31 (Dense)             (None, 10)                110       \n",
            "_________________________________________________________________\n",
            "dense_32 (Dense)             (None, 1)                 11        \n",
            "=================================================================\n",
            "Total params: 141\n",
            "Trainable params: 141\n",
            "Non-trainable params: 0\n",
            "_________________________________________________________________\n",
            "elapsed : 4.497727155685425\n"
          ],
          "name": "stdout"
        },
        {
          "output_type": "execute_result",
          "data": {
            "text/plain": [
              "[<matplotlib.lines.Line2D at 0x7fa03c3f05c0>]"
            ]
          },
          "metadata": {
            "tags": []
          },
          "execution_count": 11
        },
        {
          "output_type": "display_data",
          "data": {
            "image/png": "[encoded data removed]",
            "text/plain": [
              "<Figure size 432x288 with 1 Axes>"
            ]
          },
          "metadata": {
            "tags": [],
            "needs_background": "light"
          }
        }
      ]
    },
    {
      "cell_type": "markdown",
      "metadata": {
        "id": "rn6c_D2q4B-f",
        "colab_type": "text"
      },
      "source": [
        "학습시 validation - model.fit()의 validation_data 출력"
      ]
    },
    {
      "cell_type": "code",
      "metadata": {
        "id": "8H1rWNg64BbJ",
        "colab_type": "code",
        "colab": {
          "base_uri": "https://localhost:8080/",
          "height": 1000
        },
        "outputId": "e7ca96cd-8539-41da-e879-be6196dbd4f7"
      },
      "source": [
        "(train_x, train_y), (test_x, test_y) = get_sin_data(start=0, end=10, step=0.1)\n",
        "\n",
        "model = keras.Sequential()\n",
        "model.add(Dense(10, activation='tanh', input_shape=(1,)))\n",
        "model.add(Dense(10, activation='tanh'))\n",
        "model.add(Dense(1))\n",
        "\n",
        "\n",
        "model.compile(optimizer=\"SGD\", loss=\"mse\", metrics=[\"mse\"])\n",
        "model.summary()\n",
        "\n",
        "\n",
        "start_time = time.time()\n",
        "# history = model.fit(train_x, train_y, epochs=1000, verbose=0, batch_size=20)\n",
        "history = model.fit(train_x, train_y, epochs=1000, verbose=1, batch_size=20, validation_data=(test_x, test_y))\n",
        "print(\"elapsed : {}\".format(time.time() - start_time))    "
      ],
      "execution_count": 12,
      "outputs": [
        {
          "output_type": "stream",
          "text": [
            "Model: \"sequential_11\"\n",
            "_________________________________________________________________\n",
            "Layer (type)                 Output Shape              Param #   \n",
            "=================================================================\n",
            "dense_33 (Dense)             (None, 10)                20        \n",
            "_________________________________________________________________\n",
            "dense_34 (Dense)             (None, 10)                110       \n",
            "_________________________________________________________________\n",
            "dense_35 (Dense)             (None, 1)                 11        \n",
            "=================================================================\n",
            "Total params: 141\n",
            "Trainable params: 141\n",
            "Non-trainable params: 0\n",
            "_________________________________________________________________\n",
            "Train on 60 samples, validate on 40 samples\n",
            "Epoch 1/1000\n",
            "60/60 [==============================] - 0s 4ms/sample - loss: 0.6321 - mean_squared_error: 0.6321 - val_loss: 0.5405 - val_mean_squared_error: 0.5405\n",
            "Epoch 2/1000\n",
            "60/60 [==============================] - 0s 190us/sample - loss: 0.4531 - mean_squared_error: 0.4531 - val_loss: 0.4888 - val_mean_squared_error: 0.4888\n",
            "Epoch 3/1000\n",
            "60/60 [==============================] - 0s 184us/sample - loss: 0.4271 - mean_squared_error: 0.4271 - val_loss: 0.4769 - val_mean_squared_error: 0.4769\n",
            "Epoch 4/1000\n",
            "60/60 [==============================] - 0s 191us/sample - loss: 0.4193 - mean_squared_error: 0.4193 - val_loss: 0.4742 - val_mean_squared_error: 0.4742\n",
            "Epoch 5/1000\n",
            "60/60 [==============================] - 0s 200us/sample - loss: 0.4144 - mean_squared_error: 0.4144 - val_loss: 0.4707 - val_mean_squared_error: 0.4707\n",
            "Epoch 6/1000\n",
            "60/60 [==============================] - 0s 158us/sample - loss: 0.4127 - mean_squared_error: 0.4127 - val_loss: 0.4681 - val_mean_squared_error: 0.4681\n",
            "Epoch 7/1000\n",
            "60/60 [==============================] - 0s 191us/sample - loss: 0.4090 - mean_squared_error: 0.4090 - val_loss: 0.4663 - val_mean_squared_error: 0.4663\n",
            "Epoch 8/1000\n",
            "60/60 [==============================] - 0s 222us/sample - loss: 0.4117 - mean_squared_error: 0.4117 - val_loss: 0.4635 - val_mean_squared_error: 0.4635\n",
            "Epoch 9/1000\n",
            "60/60 [==============================] - 0s 183us/sample - loss: 0.4087 - mean_squared_error: 0.4087 - val_loss: 0.4627 - val_mean_squared_error: 0.4627\n",
            "Epoch 10/1000\n",
            "60/60 [==============================] - 0s 175us/sample - loss: 0.4024 - mean_squared_error: 0.4024 - val_loss: 0.4607 - val_mean_squared_error: 0.4607\n",
            "Epoch 11/1000\n",
            "60/60 [==============================] - 0s 176us/sample - loss: 0.4008 - mean_squared_error: 0.4008 - val_loss: 0.4593 - val_mean_squared_error: 0.4593\n",
            "Epoch 12/1000\n",
            "60/60 [==============================] - 0s 174us/sample - loss: 0.4015 - mean_squared_error: 0.4015 - val_loss: 0.4574 - val_mean_squared_error: 0.4574\n",
            "Epoch 13/1000\n",
            "60/60 [==============================] - 0s 171us/sample - loss: 0.4035 - mean_squared_error: 0.4035 - val_loss: 0.4551 - val_mean_squared_error: 0.4551\n",
            "Epoch 14/1000\n",
            "60/60 [==============================] - 0s 189us/sample - loss: 0.3966 - mean_squared_error: 0.3966 - val_loss: 0.4537 - val_mean_squared_error: 0.4537\n",
            "Epoch 15/1000\n",
            "60/60 [==============================] - 0s 180us/sample - loss: 0.4088 - mean_squared_error: 0.4088 - val_loss: 0.4524 - val_mean_squared_error: 0.4524\n",
            "Epoch 16/1000\n",
            "60/60 [==============================] - 0s 190us/sample - loss: 0.3994 - mean_squared_error: 0.3994 - val_loss: 0.4509 - val_mean_squared_error: 0.4509\n",
            "Epoch 17/1000\n",
            "60/60 [==============================] - 0s 191us/sample - loss: 0.3948 - mean_squared_error: 0.3948 - val_loss: 0.4496 - val_mean_squared_error: 0.4496\n",
            "Epoch 18/1000\n",
            "60/60 [==============================] - 0s 189us/sample - loss: 0.3910 - mean_squared_error: 0.3910 - val_loss: 0.4494 - val_mean_squared_error: 0.4494\n",
            "Epoch 19/1000\n",
            "60/60 [==============================] - 0s 194us/sample - loss: 0.3906 - mean_squared_error: 0.3906 - val_loss: 0.4474 - val_mean_squared_error: 0.4474\n",
            "Epoch 20/1000\n",
            "60/60 [==============================] - 0s 194us/sample - loss: 0.3874 - mean_squared_error: 0.3874 - val_loss: 0.4470 - val_mean_squared_error: 0.4470\n",
            "Epoch 21/1000\n",
            "60/60 [==============================] - 0s 187us/sample - loss: 0.3859 - mean_squared_error: 0.3859 - val_loss: 0.4458 - val_mean_squared_error: 0.4458\n",
            "Epoch 22/1000\n",
            "60/60 [==============================] - 0s 171us/sample - loss: 0.3855 - mean_squared_error: 0.3855 - val_loss: 0.4457 - val_mean_squared_error: 0.4457\n",
            "Epoch 23/1000\n",
            "60/60 [==============================] - 0s 175us/sample - loss: 0.3847 - mean_squared_error: 0.3847 - val_loss: 0.4435 - val_mean_squared_error: 0.4435\n",
            "Epoch 24/1000\n",
            "60/60 [==============================] - 0s 185us/sample - loss: 0.3877 - mean_squared_error: 0.3877 - val_loss: 0.4426 - val_mean_squared_error: 0.4426\n",
            "Epoch 25/1000\n",
            "60/60 [==============================] - 0s 195us/sample - loss: 0.3834 - mean_squared_error: 0.3834 - val_loss: 0.4415 - val_mean_squared_error: 0.4415\n",
            "Epoch 26/1000\n",
            "60/60 [==============================] - 0s 193us/sample - loss: 0.3864 - mean_squared_error: 0.3864 - val_loss: 0.4429 - val_mean_squared_error: 0.4429\n",
            "Epoch 27/1000\n",
            "60/60 [==============================] - 0s 189us/sample - loss: 0.3899 - mean_squared_error: 0.3899 - val_loss: 0.4435 - val_mean_squared_error: 0.4435\n",
            "Epoch 28/1000\n",
            "60/60 [==============================] - 0s 335us/sample - loss: 0.3833 - mean_squared_error: 0.3833 - val_loss: 0.4426 - val_mean_squared_error: 0.4426\n",
            "Epoch 29/1000\n",
            "60/60 [==============================] - 0s 216us/sample - loss: 0.3784 - mean_squared_error: 0.3784 - val_loss: 0.4400 - val_mean_squared_error: 0.4400\n",
            "Epoch 30/1000\n",
            "60/60 [==============================] - 0s 199us/sample - loss: 0.3827 - mean_squared_error: 0.3827 - val_loss: 0.4377 - val_mean_squared_error: 0.4377\n",
            "Epoch 31/1000\n",
            "60/60 [==============================] - 0s 201us/sample - loss: 0.3761 - mean_squared_error: 0.3761 - val_loss: 0.4376 - val_mean_squared_error: 0.4376\n",
            "Epoch 32/1000\n",
            "60/60 [==============================] - 0s 180us/sample - loss: 0.3747 - mean_squared_error: 0.3747 - val_loss: 0.4366 - val_mean_squared_error: 0.4366\n",
            "Epoch 33/1000\n",
            "60/60 [==============================] - 0s 179us/sample - loss: 0.3810 - mean_squared_error: 0.3810 - val_loss: 0.4348 - val_mean_squared_error: 0.4348\n",
            "Epoch 34/1000\n",
            "60/60 [==============================] - 0s 185us/sample - loss: 0.3757 - mean_squared_error: 0.3757 - val_loss: 0.4342 - val_mean_squared_error: 0.4342\n",
            "Epoch 35/1000\n",
            "60/60 [==============================] - 0s 188us/sample - loss: 0.3727 - mean_squared_error: 0.3727 - val_loss: 0.4338 - val_mean_squared_error: 0.4338\n",
            "Epoch 36/1000\n",
            "60/60 [==============================] - 0s 187us/sample - loss: 0.3814 - mean_squared_error: 0.3814 - val_loss: 0.4331 - val_mean_squared_error: 0.4331\n",
            "Epoch 37/1000\n",
            "60/60 [==============================] - 0s 238us/sample - loss: 0.3801 - mean_squared_error: 0.3801 - val_loss: 0.4342 - val_mean_squared_error: 0.4342\n",
            "Epoch 38/1000\n",
            "60/60 [==============================] - 0s 244us/sample - loss: 0.3828 - mean_squared_error: 0.3828 - val_loss: 0.4334 - val_mean_squared_error: 0.4334\n",
            "Epoch 39/1000\n",
            "60/60 [==============================] - 0s 216us/sample - loss: 0.3689 - mean_squared_error: 0.3689 - val_loss: 0.4320 - val_mean_squared_error: 0.4320\n",
            "Epoch 40/1000\n",
            "60/60 [==============================] - 0s 192us/sample - loss: 0.3711 - mean_squared_error: 0.3711 - val_loss: 0.4314 - val_mean_squared_error: 0.4314\n",
            "Epoch 41/1000\n",
            "60/60 [==============================] - 0s 192us/sample - loss: 0.3709 - mean_squared_error: 0.3709 - val_loss: 0.4302 - val_mean_squared_error: 0.4302\n",
            "Epoch 42/1000\n",
            "60/60 [==============================] - 0s 217us/sample - loss: 0.3675 - mean_squared_error: 0.3675 - val_loss: 0.4292 - val_mean_squared_error: 0.4292\n",
            "Epoch 43/1000\n",
            "60/60 [==============================] - 0s 207us/sample - loss: 0.3688 - mean_squared_error: 0.3688 - val_loss: 0.4284 - val_mean_squared_error: 0.4284\n",
            "Epoch 44/1000\n",
            "60/60 [==============================] - 0s 226us/sample - loss: 0.3688 - mean_squared_error: 0.3688 - val_loss: 0.4294 - val_mean_squared_error: 0.4294\n",
            "Epoch 45/1000\n",
            "60/60 [==============================] - 0s 225us/sample - loss: 0.3694 - mean_squared_error: 0.3694 - val_loss: 0.4285 - val_mean_squared_error: 0.4285\n",
            "Epoch 46/1000\n",
            "60/60 [==============================] - 0s 318us/sample - loss: 0.3698 - mean_squared_error: 0.3698 - val_loss: 0.4274 - val_mean_squared_error: 0.4274\n",
            "Epoch 47/1000\n",
            "60/60 [==============================] - 0s 170us/sample - loss: 0.3693 - mean_squared_error: 0.3693 - val_loss: 0.4283 - val_mean_squared_error: 0.4283\n",
            "Epoch 48/1000\n",
            "60/60 [==============================] - 0s 184us/sample - loss: 0.3635 - mean_squared_error: 0.3635 - val_loss: 0.4261 - val_mean_squared_error: 0.4261\n",
            "Epoch 49/1000\n",
            "60/60 [==============================] - 0s 190us/sample - loss: 0.3631 - mean_squared_error: 0.3631 - val_loss: 0.4252 - val_mean_squared_error: 0.4252\n",
            "Epoch 50/1000\n",
            "60/60 [==============================] - 0s 168us/sample - loss: 0.3625 - mean_squared_error: 0.3625 - val_loss: 0.4244 - val_mean_squared_error: 0.4244\n",
            "Epoch 51/1000\n",
            "60/60 [==============================] - 0s 222us/sample - loss: 0.3669 - mean_squared_error: 0.3669 - val_loss: 0.4235 - val_mean_squared_error: 0.4235\n",
            "Epoch 52/1000\n",
            "60/60 [==============================] - 0s 265us/sample - loss: 0.3625 - mean_squared_error: 0.3625 - val_loss: 0.4228 - val_mean_squared_error: 0.4228\n",
            "Epoch 53/1000\n",
            "60/60 [==============================] - 0s 189us/sample - loss: 0.3707 - mean_squared_error: 0.3707 - val_loss: 0.4222 - val_mean_squared_error: 0.4222\n",
            "Epoch 54/1000\n",
            "60/60 [==============================] - 0s 181us/sample - loss: 0.3618 - mean_squared_error: 0.3618 - val_loss: 0.4216 - val_mean_squared_error: 0.4216\n",
            "Epoch 55/1000\n",
            "60/60 [==============================] - 0s 207us/sample - loss: 0.3638 - mean_squared_error: 0.3638 - val_loss: 0.4228 - val_mean_squared_error: 0.4228\n",
            "Epoch 56/1000\n",
            "60/60 [==============================] - 0s 176us/sample - loss: 0.3597 - mean_squared_error: 0.3597 - val_loss: 0.4223 - val_mean_squared_error: 0.4223\n",
            "Epoch 57/1000\n",
            "60/60 [==============================] - 0s 183us/sample - loss: 0.3655 - mean_squared_error: 0.3655 - val_loss: 0.4213 - val_mean_squared_error: 0.4213\n",
            "Epoch 58/1000\n",
            "60/60 [==============================] - 0s 201us/sample - loss: 0.3627 - mean_squared_error: 0.3627 - val_loss: 0.4199 - val_mean_squared_error: 0.4199\n",
            "Epoch 59/1000\n",
            "60/60 [==============================] - 0s 210us/sample - loss: 0.3577 - mean_squared_error: 0.3577 - val_loss: 0.4197 - val_mean_squared_error: 0.4197\n",
            "Epoch 60/1000\n",
            "60/60 [==============================] - 0s 194us/sample - loss: 0.3569 - mean_squared_error: 0.3569 - val_loss: 0.4196 - val_mean_squared_error: 0.4196\n",
            "Epoch 61/1000\n",
            "60/60 [==============================] - 0s 209us/sample - loss: 0.3619 - mean_squared_error: 0.3619 - val_loss: 0.4190 - val_mean_squared_error: 0.4190\n",
            "Epoch 62/1000\n",
            "60/60 [==============================] - 0s 210us/sample - loss: 0.3559 - mean_squared_error: 0.3559 - val_loss: 0.4179 - val_mean_squared_error: 0.4179\n",
            "Epoch 63/1000\n",
            "60/60 [==============================] - 0s 211us/sample - loss: 0.3659 - mean_squared_error: 0.3659 - val_loss: 0.4165 - val_mean_squared_error: 0.4165\n",
            "Epoch 64/1000\n",
            "60/60 [==============================] - 0s 209us/sample - loss: 0.3663 - mean_squared_error: 0.3663 - val_loss: 0.4171 - val_mean_squared_error: 0.4171\n",
            "Epoch 65/1000\n",
            "60/60 [==============================] - 0s 214us/sample - loss: 0.3552 - mean_squared_error: 0.3552 - val_loss: 0.4164 - val_mean_squared_error: 0.4164\n",
            "Epoch 66/1000\n",
            "60/60 [==============================] - 0s 234us/sample - loss: 0.3543 - mean_squared_error: 0.3543 - val_loss: 0.4155 - val_mean_squared_error: 0.4155\n",
            "Epoch 67/1000\n",
            "60/60 [==============================] - 0s 164us/sample - loss: 0.3535 - mean_squared_error: 0.3535 - val_loss: 0.4147 - val_mean_squared_error: 0.4147\n",
            "Epoch 68/1000\n",
            "60/60 [==============================] - 0s 177us/sample - loss: 0.3550 - mean_squared_error: 0.3550 - val_loss: 0.4156 - val_mean_squared_error: 0.4156\n",
            "Epoch 69/1000\n",
            "60/60 [==============================] - 0s 165us/sample - loss: 0.3560 - mean_squared_error: 0.3560 - val_loss: 0.4161 - val_mean_squared_error: 0.4161\n",
            "Epoch 70/1000\n",
            "60/60 [==============================] - 0s 181us/sample - loss: 0.3551 - mean_squared_error: 0.3551 - val_loss: 0.4136 - val_mean_squared_error: 0.4136\n",
            "Epoch 71/1000\n",
            "60/60 [==============================] - 0s 179us/sample - loss: 0.3666 - mean_squared_error: 0.3666 - val_loss: 0.4143 - val_mean_squared_error: 0.4143\n",
            "Epoch 72/1000\n",
            "60/60 [==============================] - 0s 193us/sample - loss: 0.3524 - mean_squared_error: 0.3524 - val_loss: 0.4136 - val_mean_squared_error: 0.4136\n",
            "Epoch 73/1000\n",
            "60/60 [==============================] - 0s 181us/sample - loss: 0.3519 - mean_squared_error: 0.3519 - val_loss: 0.4117 - val_mean_squared_error: 0.4117\n",
            "Epoch 74/1000\n",
            "60/60 [==============================] - 0s 170us/sample - loss: 0.3543 - mean_squared_error: 0.3543 - val_loss: 0.4108 - val_mean_squared_error: 0.4108\n",
            "Epoch 75/1000\n",
            "60/60 [==============================] - 0s 215us/sample - loss: 0.3624 - mean_squared_error: 0.3624 - val_loss: 0.4107 - val_mean_squared_error: 0.4107\n",
            "Epoch 76/1000\n",
            "60/60 [==============================] - 0s 186us/sample - loss: 0.3493 - mean_squared_error: 0.3493 - val_loss: 0.4107 - val_mean_squared_error: 0.4107\n",
            "Epoch 77/1000\n",
            "60/60 [==============================] - 0s 198us/sample - loss: 0.3491 - mean_squared_error: 0.3491 - val_loss: 0.4097 - val_mean_squared_error: 0.4097\n",
            "Epoch 78/1000\n",
            "60/60 [==============================] - 0s 207us/sample - loss: 0.3503 - mean_squared_error: 0.3503 - val_loss: 0.4091 - val_mean_squared_error: 0.4091\n",
            "Epoch 79/1000\n",
            "60/60 [==============================] - 0s 217us/sample - loss: 0.3501 - mean_squared_error: 0.3501 - val_loss: 0.4088 - val_mean_squared_error: 0.4088\n",
            "Epoch 80/1000\n",
            "60/60 [==============================] - 0s 205us/sample - loss: 0.3540 - mean_squared_error: 0.3540 - val_loss: 0.4090 - val_mean_squared_error: 0.4090\n",
            "Epoch 81/1000\n",
            "60/60 [==============================] - 0s 200us/sample - loss: 0.3596 - mean_squared_error: 0.3596 - val_loss: 0.4115 - val_mean_squared_error: 0.4115\n",
            "Epoch 82/1000\n",
            "60/60 [==============================] - 0s 228us/sample - loss: 0.3474 - mean_squared_error: 0.3474 - val_loss: 0.4088 - val_mean_squared_error: 0.4088\n",
            "Epoch 83/1000\n",
            "60/60 [==============================] - 0s 203us/sample - loss: 0.3506 - mean_squared_error: 0.3506 - val_loss: 0.4064 - val_mean_squared_error: 0.4064\n",
            "Epoch 84/1000\n",
            "60/60 [==============================] - 0s 181us/sample - loss: 0.3496 - mean_squared_error: 0.3496 - val_loss: 0.4059 - val_mean_squared_error: 0.4059\n",
            "Epoch 85/1000\n",
            "60/60 [==============================] - 0s 190us/sample - loss: 0.3566 - mean_squared_error: 0.3566 - val_loss: 0.4054 - val_mean_squared_error: 0.4054\n",
            "Epoch 86/1000\n",
            "60/60 [==============================] - 0s 188us/sample - loss: 0.3452 - mean_squared_error: 0.3452 - val_loss: 0.4051 - val_mean_squared_error: 0.4051\n",
            "Epoch 87/1000\n",
            "60/60 [==============================] - 0s 188us/sample - loss: 0.3459 - mean_squared_error: 0.3459 - val_loss: 0.4046 - val_mean_squared_error: 0.4046\n",
            "Epoch 88/1000\n",
            "60/60 [==============================] - 0s 216us/sample - loss: 0.3516 - mean_squared_error: 0.3516 - val_loss: 0.4041 - val_mean_squared_error: 0.4041\n",
            "Epoch 89/1000\n",
            "60/60 [==============================] - 0s 209us/sample - loss: 0.3465 - mean_squared_error: 0.3465 - val_loss: 0.4043 - val_mean_squared_error: 0.4043\n",
            "Epoch 90/1000\n",
            "60/60 [==============================] - 0s 208us/sample - loss: 0.3505 - mean_squared_error: 0.3505 - val_loss: 0.4045 - val_mean_squared_error: 0.4045\n",
            "Epoch 91/1000\n",
            "60/60 [==============================] - 0s 223us/sample - loss: 0.3445 - mean_squared_error: 0.3445 - val_loss: 0.4028 - val_mean_squared_error: 0.4028\n",
            "Epoch 92/1000\n",
            "60/60 [==============================] - 0s 253us/sample - loss: 0.3444 - mean_squared_error: 0.3444 - val_loss: 0.4037 - val_mean_squared_error: 0.4037\n",
            "Epoch 93/1000\n",
            "60/60 [==============================] - 0s 303us/sample - loss: 0.3494 - mean_squared_error: 0.3494 - val_loss: 0.4054 - val_mean_squared_error: 0.4054\n",
            "Epoch 94/1000\n",
            "60/60 [==============================] - 0s 210us/sample - loss: 0.3417 - mean_squared_error: 0.3417 - val_loss: 0.4028 - val_mean_squared_error: 0.4028\n",
            "Epoch 95/1000\n",
            "60/60 [==============================] - 0s 185us/sample - loss: 0.3428 - mean_squared_error: 0.3428 - val_loss: 0.4023 - val_mean_squared_error: 0.4023\n",
            "Epoch 96/1000\n",
            "60/60 [==============================] - 0s 179us/sample - loss: 0.3406 - mean_squared_error: 0.3406 - val_loss: 0.4016 - val_mean_squared_error: 0.4016\n",
            "Epoch 97/1000\n",
            "60/60 [==============================] - 0s 189us/sample - loss: 0.3457 - mean_squared_error: 0.3457 - val_loss: 0.3999 - val_mean_squared_error: 0.3999\n",
            "Epoch 98/1000\n",
            "60/60 [==============================] - 0s 184us/sample - loss: 0.3396 - mean_squared_error: 0.3396 - val_loss: 0.3999 - val_mean_squared_error: 0.3999\n",
            "Epoch 99/1000\n",
            "60/60 [==============================] - 0s 170us/sample - loss: 0.3526 - mean_squared_error: 0.3526 - val_loss: 0.3994 - val_mean_squared_error: 0.3994\n",
            "Epoch 100/1000\n",
            "60/60 [==============================] - 0s 200us/sample - loss: 0.3409 - mean_squared_error: 0.3409 - val_loss: 0.3991 - val_mean_squared_error: 0.3991\n",
            "Epoch 101/1000\n",
            "60/60 [==============================] - 0s 238us/sample - loss: 0.3386 - mean_squared_error: 0.3386 - val_loss: 0.3989 - val_mean_squared_error: 0.3989\n",
            "Epoch 102/1000\n",
            "60/60 [==============================] - 0s 244us/sample - loss: 0.3390 - mean_squared_error: 0.3390 - val_loss: 0.3991 - val_mean_squared_error: 0.3991\n",
            "Epoch 103/1000\n",
            "60/60 [==============================] - 0s 214us/sample - loss: 0.3423 - mean_squared_error: 0.3423 - val_loss: 0.3972 - val_mean_squared_error: 0.3972\n",
            "Epoch 104/1000\n",
            "60/60 [==============================] - 0s 255us/sample - loss: 0.3370 - mean_squared_error: 0.3370 - val_loss: 0.3972 - val_mean_squared_error: 0.3972\n",
            "Epoch 105/1000\n",
            "60/60 [==============================] - 0s 185us/sample - loss: 0.3431 - mean_squared_error: 0.3431 - val_loss: 0.3966 - val_mean_squared_error: 0.3966\n",
            "Epoch 106/1000\n",
            "60/60 [==============================] - 0s 225us/sample - loss: 0.3379 - mean_squared_error: 0.3379 - val_loss: 0.3964 - val_mean_squared_error: 0.3964\n",
            "Epoch 107/1000\n",
            "60/60 [==============================] - 0s 188us/sample - loss: 0.3364 - mean_squared_error: 0.3364 - val_loss: 0.3956 - val_mean_squared_error: 0.3956\n",
            "Epoch 108/1000\n",
            "60/60 [==============================] - 0s 207us/sample - loss: 0.3465 - mean_squared_error: 0.3465 - val_loss: 0.3951 - val_mean_squared_error: 0.3951\n",
            "Epoch 109/1000\n",
            "60/60 [==============================] - 0s 185us/sample - loss: 0.3398 - mean_squared_error: 0.3398 - val_loss: 0.3956 - val_mean_squared_error: 0.3956\n",
            "Epoch 110/1000\n",
            "60/60 [==============================] - 0s 214us/sample - loss: 0.3405 - mean_squared_error: 0.3405 - val_loss: 0.3966 - val_mean_squared_error: 0.3966\n",
            "Epoch 111/1000\n",
            "60/60 [==============================] - 0s 222us/sample - loss: 0.3365 - mean_squared_error: 0.3365 - val_loss: 0.3938 - val_mean_squared_error: 0.3938\n",
            "Epoch 112/1000\n",
            "60/60 [==============================] - 0s 203us/sample - loss: 0.3380 - mean_squared_error: 0.3380 - val_loss: 0.3931 - val_mean_squared_error: 0.3931\n",
            "Epoch 113/1000\n",
            "60/60 [==============================] - 0s 324us/sample - loss: 0.3385 - mean_squared_error: 0.3385 - val_loss: 0.3927 - val_mean_squared_error: 0.3927\n",
            "Epoch 114/1000\n",
            "60/60 [==============================] - 0s 200us/sample - loss: 0.3334 - mean_squared_error: 0.3334 - val_loss: 0.3925 - val_mean_squared_error: 0.3925\n",
            "Epoch 115/1000\n",
            "60/60 [==============================] - 0s 225us/sample - loss: 0.3401 - mean_squared_error: 0.3401 - val_loss: 0.3947 - val_mean_squared_error: 0.3947\n",
            "Epoch 116/1000\n",
            "60/60 [==============================] - 0s 185us/sample - loss: 0.3416 - mean_squared_error: 0.3416 - val_loss: 0.3955 - val_mean_squared_error: 0.3955\n",
            "Epoch 117/1000\n",
            "60/60 [==============================] - 0s 202us/sample - loss: 0.3331 - mean_squared_error: 0.3331 - val_loss: 0.3920 - val_mean_squared_error: 0.3920\n",
            "Epoch 118/1000\n",
            "60/60 [==============================] - 0s 196us/sample - loss: 0.3330 - mean_squared_error: 0.3330 - val_loss: 0.3922 - val_mean_squared_error: 0.3922\n",
            "Epoch 119/1000\n",
            "60/60 [==============================] - 0s 157us/sample - loss: 0.3335 - mean_squared_error: 0.3335 - val_loss: 0.3916 - val_mean_squared_error: 0.3916\n",
            "Epoch 120/1000\n",
            "60/60 [==============================] - 0s 225us/sample - loss: 0.3335 - mean_squared_error: 0.3335 - val_loss: 0.3914 - val_mean_squared_error: 0.3914\n",
            "Epoch 121/1000\n",
            "60/60 [==============================] - 0s 158us/sample - loss: 0.3311 - mean_squared_error: 0.3311 - val_loss: 0.3896 - val_mean_squared_error: 0.3896\n",
            "Epoch 122/1000\n",
            "60/60 [==============================] - 0s 191us/sample - loss: 0.3324 - mean_squared_error: 0.3324 - val_loss: 0.3889 - val_mean_squared_error: 0.3889\n",
            "Epoch 123/1000\n",
            "60/60 [==============================] - 0s 172us/sample - loss: 0.3355 - mean_squared_error: 0.3355 - val_loss: 0.3896 - val_mean_squared_error: 0.3896\n",
            "Epoch 124/1000\n",
            "60/60 [==============================] - 0s 217us/sample - loss: 0.3329 - mean_squared_error: 0.3329 - val_loss: 0.3885 - val_mean_squared_error: 0.3885\n",
            "Epoch 125/1000\n",
            "60/60 [==============================] - 0s 231us/sample - loss: 0.3308 - mean_squared_error: 0.3308 - val_loss: 0.3880 - val_mean_squared_error: 0.3880\n",
            "Epoch 126/1000\n",
            "60/60 [==============================] - 0s 192us/sample - loss: 0.3338 - mean_squared_error: 0.3338 - val_loss: 0.3873 - val_mean_squared_error: 0.3873\n",
            "Epoch 127/1000\n",
            "60/60 [==============================] - 0s 221us/sample - loss: 0.3303 - mean_squared_error: 0.3303 - val_loss: 0.3867 - val_mean_squared_error: 0.3867\n",
            "Epoch 128/1000\n",
            "60/60 [==============================] - 0s 210us/sample - loss: 0.3324 - mean_squared_error: 0.3324 - val_loss: 0.3864 - val_mean_squared_error: 0.3864\n",
            "Epoch 129/1000\n",
            "60/60 [==============================] - 0s 188us/sample - loss: 0.3366 - mean_squared_error: 0.3366 - val_loss: 0.3885 - val_mean_squared_error: 0.3885\n",
            "Epoch 130/1000\n",
            "60/60 [==============================] - 0s 188us/sample - loss: 0.3308 - mean_squared_error: 0.3308 - val_loss: 0.3880 - val_mean_squared_error: 0.3880\n",
            "Epoch 131/1000\n",
            "60/60 [==============================] - 0s 192us/sample - loss: 0.3316 - mean_squared_error: 0.3316 - val_loss: 0.3855 - val_mean_squared_error: 0.3855\n",
            "Epoch 132/1000\n",
            "60/60 [==============================] - 0s 161us/sample - loss: 0.3278 - mean_squared_error: 0.3278 - val_loss: 0.3846 - val_mean_squared_error: 0.3846\n",
            "Epoch 133/1000\n",
            "60/60 [==============================] - 0s 200us/sample - loss: 0.3322 - mean_squared_error: 0.3322 - val_loss: 0.3864 - val_mean_squared_error: 0.3864\n",
            "Epoch 134/1000\n",
            "60/60 [==============================] - 0s 168us/sample - loss: 0.3281 - mean_squared_error: 0.3281 - val_loss: 0.3858 - val_mean_squared_error: 0.3858\n",
            "Epoch 135/1000\n",
            "60/60 [==============================] - 0s 177us/sample - loss: 0.3260 - mean_squared_error: 0.3260 - val_loss: 0.3847 - val_mean_squared_error: 0.3847\n",
            "Epoch 136/1000\n",
            "60/60 [==============================] - 0s 207us/sample - loss: 0.3279 - mean_squared_error: 0.3279 - val_loss: 0.3830 - val_mean_squared_error: 0.3830\n",
            "Epoch 137/1000\n",
            "60/60 [==============================] - 0s 197us/sample - loss: 0.3318 - mean_squared_error: 0.3318 - val_loss: 0.3825 - val_mean_squared_error: 0.3825\n",
            "Epoch 138/1000\n",
            "60/60 [==============================] - 0s 206us/sample - loss: 0.3277 - mean_squared_error: 0.3277 - val_loss: 0.3827 - val_mean_squared_error: 0.3827\n",
            "Epoch 139/1000\n",
            "60/60 [==============================] - 0s 255us/sample - loss: 0.3309 - mean_squared_error: 0.3309 - val_loss: 0.3817 - val_mean_squared_error: 0.3817\n",
            "Epoch 140/1000\n",
            "60/60 [==============================] - 0s 207us/sample - loss: 0.3293 - mean_squared_error: 0.3293 - val_loss: 0.3813 - val_mean_squared_error: 0.3813\n",
            "Epoch 141/1000\n",
            "60/60 [==============================] - 0s 207us/sample - loss: 0.3326 - mean_squared_error: 0.3326 - val_loss: 0.3839 - val_mean_squared_error: 0.3839\n",
            "Epoch 142/1000\n",
            "60/60 [==============================] - 0s 258us/sample - loss: 0.3282 - mean_squared_error: 0.3282 - val_loss: 0.3808 - val_mean_squared_error: 0.3808\n",
            "Epoch 143/1000\n",
            "60/60 [==============================] - 0s 191us/sample - loss: 0.3272 - mean_squared_error: 0.3272 - val_loss: 0.3802 - val_mean_squared_error: 0.3802\n",
            "Epoch 144/1000\n",
            "60/60 [==============================] - 0s 178us/sample - loss: 0.3245 - mean_squared_error: 0.3245 - val_loss: 0.3796 - val_mean_squared_error: 0.3796\n",
            "Epoch 145/1000\n",
            "60/60 [==============================] - 0s 269us/sample - loss: 0.3347 - mean_squared_error: 0.3347 - val_loss: 0.3793 - val_mean_squared_error: 0.3793\n",
            "Epoch 146/1000\n",
            "60/60 [==============================] - 0s 219us/sample - loss: 0.3248 - mean_squared_error: 0.3248 - val_loss: 0.3787 - val_mean_squared_error: 0.3787\n",
            "Epoch 147/1000\n",
            "60/60 [==============================] - 0s 197us/sample - loss: 0.3261 - mean_squared_error: 0.3261 - val_loss: 0.3784 - val_mean_squared_error: 0.3784\n",
            "Epoch 148/1000\n",
            "60/60 [==============================] - 0s 220us/sample - loss: 0.3263 - mean_squared_error: 0.3263 - val_loss: 0.3779 - val_mean_squared_error: 0.3779\n",
            "Epoch 149/1000\n",
            "60/60 [==============================] - 0s 198us/sample - loss: 0.3302 - mean_squared_error: 0.3302 - val_loss: 0.3786 - val_mean_squared_error: 0.3786\n",
            "Epoch 150/1000\n",
            "60/60 [==============================] - 0s 288us/sample - loss: 0.3221 - mean_squared_error: 0.3221 - val_loss: 0.3775 - val_mean_squared_error: 0.3775\n",
            "Epoch 151/1000\n",
            "60/60 [==============================] - 0s 202us/sample - loss: 0.3200 - mean_squared_error: 0.3200 - val_loss: 0.3771 - val_mean_squared_error: 0.3771\n",
            "Epoch 152/1000\n",
            "60/60 [==============================] - 0s 209us/sample - loss: 0.3194 - mean_squared_error: 0.3194 - val_loss: 0.3762 - val_mean_squared_error: 0.3762\n",
            "Epoch 153/1000\n",
            "60/60 [==============================] - 0s 205us/sample - loss: 0.3187 - mean_squared_error: 0.3187 - val_loss: 0.3758 - val_mean_squared_error: 0.3758\n",
            "Epoch 154/1000\n",
            "60/60 [==============================] - 0s 228us/sample - loss: 0.3182 - mean_squared_error: 0.3182 - val_loss: 0.3756 - val_mean_squared_error: 0.3756\n",
            "Epoch 155/1000\n",
            "60/60 [==============================] - 0s 207us/sample - loss: 0.3203 - mean_squared_error: 0.3203 - val_loss: 0.3762 - val_mean_squared_error: 0.3762\n",
            "Epoch 156/1000\n",
            "60/60 [==============================] - 0s 202us/sample - loss: 0.3234 - mean_squared_error: 0.3234 - val_loss: 0.3771 - val_mean_squared_error: 0.3771\n",
            "Epoch 157/1000\n",
            "60/60 [==============================] - 0s 210us/sample - loss: 0.3260 - mean_squared_error: 0.3260 - val_loss: 0.3750 - val_mean_squared_error: 0.3750\n",
            "Epoch 158/1000\n",
            "60/60 [==============================] - 0s 194us/sample - loss: 0.3181 - mean_squared_error: 0.3181 - val_loss: 0.3736 - val_mean_squared_error: 0.3736\n",
            "Epoch 159/1000\n",
            "60/60 [==============================] - 0s 209us/sample - loss: 0.3178 - mean_squared_error: 0.3178 - val_loss: 0.3737 - val_mean_squared_error: 0.3737\n",
            "Epoch 160/1000\n",
            "60/60 [==============================] - 0s 190us/sample - loss: 0.3252 - mean_squared_error: 0.3252 - val_loss: 0.3746 - val_mean_squared_error: 0.3746\n",
            "Epoch 161/1000\n",
            "60/60 [==============================] - 0s 195us/sample - loss: 0.3347 - mean_squared_error: 0.3347 - val_loss: 0.3729 - val_mean_squared_error: 0.3729\n",
            "Epoch 162/1000\n",
            "60/60 [==============================] - 0s 179us/sample - loss: 0.3215 - mean_squared_error: 0.3215 - val_loss: 0.3725 - val_mean_squared_error: 0.3725\n",
            "Epoch 163/1000\n",
            "60/60 [==============================] - 0s 205us/sample - loss: 0.3179 - mean_squared_error: 0.3179 - val_loss: 0.3718 - val_mean_squared_error: 0.3718\n",
            "Epoch 164/1000\n",
            "60/60 [==============================] - 0s 187us/sample - loss: 0.3214 - mean_squared_error: 0.3214 - val_loss: 0.3712 - val_mean_squared_error: 0.3712\n",
            "Epoch 165/1000\n",
            "60/60 [==============================] - 0s 171us/sample - loss: 0.3179 - mean_squared_error: 0.3179 - val_loss: 0.3731 - val_mean_squared_error: 0.3731\n",
            "Epoch 166/1000\n",
            "60/60 [==============================] - 0s 160us/sample - loss: 0.3196 - mean_squared_error: 0.3196 - val_loss: 0.3736 - val_mean_squared_error: 0.3736\n",
            "Epoch 167/1000\n",
            "60/60 [==============================] - 0s 193us/sample - loss: 0.3189 - mean_squared_error: 0.3189 - val_loss: 0.3706 - val_mean_squared_error: 0.3706\n",
            "Epoch 168/1000\n",
            "60/60 [==============================] - 0s 207us/sample - loss: 0.3154 - mean_squared_error: 0.3154 - val_loss: 0.3695 - val_mean_squared_error: 0.3695\n",
            "Epoch 169/1000\n",
            "60/60 [==============================] - 0s 208us/sample - loss: 0.3144 - mean_squared_error: 0.3144 - val_loss: 0.3690 - val_mean_squared_error: 0.3690\n",
            "Epoch 170/1000\n",
            "60/60 [==============================] - 0s 219us/sample - loss: 0.3137 - mean_squared_error: 0.3137 - val_loss: 0.3697 - val_mean_squared_error: 0.3697\n",
            "Epoch 171/1000\n",
            "60/60 [==============================] - 0s 187us/sample - loss: 0.3128 - mean_squared_error: 0.3128 - val_loss: 0.3683 - val_mean_squared_error: 0.3683\n",
            "Epoch 172/1000\n",
            "60/60 [==============================] - 0s 198us/sample - loss: 0.3187 - mean_squared_error: 0.3187 - val_loss: 0.3677 - val_mean_squared_error: 0.3677\n",
            "Epoch 173/1000\n",
            "60/60 [==============================] - 0s 218us/sample - loss: 0.3238 - mean_squared_error: 0.3238 - val_loss: 0.3676 - val_mean_squared_error: 0.3676\n",
            "Epoch 174/1000\n",
            "60/60 [==============================] - 0s 189us/sample - loss: 0.3138 - mean_squared_error: 0.3138 - val_loss: 0.3669 - val_mean_squared_error: 0.3669\n",
            "Epoch 175/1000\n",
            "60/60 [==============================] - 0s 262us/sample - loss: 0.3183 - mean_squared_error: 0.3183 - val_loss: 0.3670 - val_mean_squared_error: 0.3670\n",
            "Epoch 176/1000\n",
            "60/60 [==============================] - 0s 231us/sample - loss: 0.3112 - mean_squared_error: 0.3112 - val_loss: 0.3661 - val_mean_squared_error: 0.3661\n",
            "Epoch 177/1000\n",
            "60/60 [==============================] - 0s 185us/sample - loss: 0.3110 - mean_squared_error: 0.3110 - val_loss: 0.3656 - val_mean_squared_error: 0.3656\n",
            "Epoch 178/1000\n",
            "60/60 [==============================] - 0s 215us/sample - loss: 0.3091 - mean_squared_error: 0.3091 - val_loss: 0.3652 - val_mean_squared_error: 0.3652\n",
            "Epoch 179/1000\n",
            "60/60 [==============================] - 0s 196us/sample - loss: 0.3125 - mean_squared_error: 0.3125 - val_loss: 0.3658 - val_mean_squared_error: 0.3658\n",
            "Epoch 180/1000\n",
            "60/60 [==============================] - 0s 359us/sample - loss: 0.3292 - mean_squared_error: 0.3292 - val_loss: 0.3648 - val_mean_squared_error: 0.3648\n",
            "Epoch 181/1000\n",
            "60/60 [==============================] - 0s 202us/sample - loss: 0.3185 - mean_squared_error: 0.3185 - val_loss: 0.3640 - val_mean_squared_error: 0.3640\n",
            "Epoch 182/1000\n",
            "60/60 [==============================] - 0s 213us/sample - loss: 0.3203 - mean_squared_error: 0.3203 - val_loss: 0.3695 - val_mean_squared_error: 0.3695\n",
            "Epoch 183/1000\n",
            "60/60 [==============================] - 0s 195us/sample - loss: 0.3086 - mean_squared_error: 0.3086 - val_loss: 0.3634 - val_mean_squared_error: 0.3634\n",
            "Epoch 184/1000\n",
            "60/60 [==============================] - 0s 205us/sample - loss: 0.3104 - mean_squared_error: 0.3104 - val_loss: 0.3642 - val_mean_squared_error: 0.3642\n",
            "Epoch 185/1000\n",
            "60/60 [==============================] - 0s 216us/sample - loss: 0.3083 - mean_squared_error: 0.3083 - val_loss: 0.3623 - val_mean_squared_error: 0.3623\n",
            "Epoch 186/1000\n",
            "60/60 [==============================] - 0s 214us/sample - loss: 0.3069 - mean_squared_error: 0.3069 - val_loss: 0.3619 - val_mean_squared_error: 0.3619\n",
            "Epoch 187/1000\n",
            "60/60 [==============================] - 0s 188us/sample - loss: 0.3082 - mean_squared_error: 0.3082 - val_loss: 0.3626 - val_mean_squared_error: 0.3626\n",
            "Epoch 188/1000\n",
            "60/60 [==============================] - 0s 188us/sample - loss: 0.3087 - mean_squared_error: 0.3087 - val_loss: 0.3624 - val_mean_squared_error: 0.3624\n",
            "Epoch 189/1000\n",
            "60/60 [==============================] - 0s 170us/sample - loss: 0.3113 - mean_squared_error: 0.3113 - val_loss: 0.3617 - val_mean_squared_error: 0.3617\n",
            "Epoch 190/1000\n",
            "60/60 [==============================] - 0s 185us/sample - loss: 0.3216 - mean_squared_error: 0.3216 - val_loss: 0.3638 - val_mean_squared_error: 0.3638\n",
            "Epoch 191/1000\n",
            "60/60 [==============================] - 0s 176us/sample - loss: 0.3117 - mean_squared_error: 0.3117 - val_loss: 0.3619 - val_mean_squared_error: 0.3619\n",
            "Epoch 192/1000\n",
            "60/60 [==============================] - 0s 190us/sample - loss: 0.3092 - mean_squared_error: 0.3092 - val_loss: 0.3617 - val_mean_squared_error: 0.3617\n",
            "Epoch 193/1000\n",
            "60/60 [==============================] - 0s 187us/sample - loss: 0.3054 - mean_squared_error: 0.3054 - val_loss: 0.3594 - val_mean_squared_error: 0.3594\n",
            "Epoch 194/1000\n",
            "60/60 [==============================] - 0s 178us/sample - loss: 0.3044 - mean_squared_error: 0.3044 - val_loss: 0.3584 - val_mean_squared_error: 0.3584\n",
            "Epoch 195/1000\n",
            "60/60 [==============================] - 0s 170us/sample - loss: 0.3045 - mean_squared_error: 0.3045 - val_loss: 0.3591 - val_mean_squared_error: 0.3591\n",
            "Epoch 196/1000\n",
            "60/60 [==============================] - 0s 186us/sample - loss: 0.3021 - mean_squared_error: 0.3021 - val_loss: 0.3580 - val_mean_squared_error: 0.3580\n",
            "Epoch 197/1000\n",
            "60/60 [==============================] - 0s 178us/sample - loss: 0.3016 - mean_squared_error: 0.3016 - val_loss: 0.3571 - val_mean_squared_error: 0.3571\n",
            "Epoch 198/1000\n",
            "60/60 [==============================] - 0s 170us/sample - loss: 0.3073 - mean_squared_error: 0.3073 - val_loss: 0.3570 - val_mean_squared_error: 0.3570\n",
            "Epoch 199/1000\n",
            "60/60 [==============================] - 0s 173us/sample - loss: 0.3066 - mean_squared_error: 0.3066 - val_loss: 0.3580 - val_mean_squared_error: 0.3580\n",
            "Epoch 200/1000\n",
            "60/60 [==============================] - 0s 200us/sample - loss: 0.3180 - mean_squared_error: 0.3180 - val_loss: 0.3558 - val_mean_squared_error: 0.3558\n",
            "Epoch 201/1000\n",
            "60/60 [==============================] - 0s 194us/sample - loss: 0.3025 - mean_squared_error: 0.3025 - val_loss: 0.3558 - val_mean_squared_error: 0.3558\n",
            "Epoch 202/1000\n",
            "60/60 [==============================] - 0s 200us/sample - loss: 0.3043 - mean_squared_error: 0.3043 - val_loss: 0.3575 - val_mean_squared_error: 0.3575\n",
            "Epoch 203/1000\n",
            "60/60 [==============================] - 0s 188us/sample - loss: 0.3014 - mean_squared_error: 0.3014 - val_loss: 0.3549 - val_mean_squared_error: 0.3549\n",
            "Epoch 204/1000\n",
            "60/60 [==============================] - 0s 177us/sample - loss: 0.3024 - mean_squared_error: 0.3024 - val_loss: 0.3544 - val_mean_squared_error: 0.3544\n",
            "Epoch 205/1000\n",
            "60/60 [==============================] - 0s 171us/sample - loss: 0.3023 - mean_squared_error: 0.3023 - val_loss: 0.3550 - val_mean_squared_error: 0.3550\n",
            "Epoch 206/1000\n",
            "60/60 [==============================] - 0s 166us/sample - loss: 0.3030 - mean_squared_error: 0.3030 - val_loss: 0.3541 - val_mean_squared_error: 0.3541\n",
            "Epoch 207/1000\n",
            "60/60 [==============================] - 0s 178us/sample - loss: 0.3060 - mean_squared_error: 0.3060 - val_loss: 0.3567 - val_mean_squared_error: 0.3567\n",
            "Epoch 208/1000\n",
            "60/60 [==============================] - 0s 178us/sample - loss: 0.2988 - mean_squared_error: 0.2988 - val_loss: 0.3524 - val_mean_squared_error: 0.3524\n",
            "Epoch 209/1000\n",
            "60/60 [==============================] - 0s 223us/sample - loss: 0.3015 - mean_squared_error: 0.3015 - val_loss: 0.3547 - val_mean_squared_error: 0.3547\n",
            "Epoch 210/1000\n",
            "60/60 [==============================] - 0s 184us/sample - loss: 0.3008 - mean_squared_error: 0.3008 - val_loss: 0.3517 - val_mean_squared_error: 0.3517\n",
            "Epoch 211/1000\n",
            "60/60 [==============================] - 0s 183us/sample - loss: 0.2964 - mean_squared_error: 0.2964 - val_loss: 0.3510 - val_mean_squared_error: 0.3510\n",
            "Epoch 212/1000\n",
            "60/60 [==============================] - 0s 186us/sample - loss: 0.2985 - mean_squared_error: 0.2985 - val_loss: 0.3526 - val_mean_squared_error: 0.3526\n",
            "Epoch 213/1000\n",
            "60/60 [==============================] - 0s 180us/sample - loss: 0.3023 - mean_squared_error: 0.3023 - val_loss: 0.3502 - val_mean_squared_error: 0.3502\n",
            "Epoch 214/1000\n",
            "60/60 [==============================] - 0s 148us/sample - loss: 0.2994 - mean_squared_error: 0.2994 - val_loss: 0.3508 - val_mean_squared_error: 0.3508\n",
            "Epoch 215/1000\n",
            "60/60 [==============================] - 0s 178us/sample - loss: 0.3053 - mean_squared_error: 0.3053 - val_loss: 0.3518 - val_mean_squared_error: 0.3518\n",
            "Epoch 216/1000\n",
            "60/60 [==============================] - 0s 174us/sample - loss: 0.3046 - mean_squared_error: 0.3046 - val_loss: 0.3531 - val_mean_squared_error: 0.3531\n",
            "Epoch 217/1000\n",
            "60/60 [==============================] - 0s 172us/sample - loss: 0.2973 - mean_squared_error: 0.2973 - val_loss: 0.3485 - val_mean_squared_error: 0.3485\n",
            "Epoch 218/1000\n",
            "60/60 [==============================] - 0s 188us/sample - loss: 0.2983 - mean_squared_error: 0.2983 - val_loss: 0.3490 - val_mean_squared_error: 0.3490\n",
            "Epoch 219/1000\n",
            "60/60 [==============================] - 0s 179us/sample - loss: 0.3010 - mean_squared_error: 0.3010 - val_loss: 0.3504 - val_mean_squared_error: 0.3504\n",
            "Epoch 220/1000\n",
            "60/60 [==============================] - 0s 234us/sample - loss: 0.2942 - mean_squared_error: 0.2942 - val_loss: 0.3470 - val_mean_squared_error: 0.3470\n",
            "Epoch 221/1000\n",
            "60/60 [==============================] - 0s 196us/sample - loss: 0.2939 - mean_squared_error: 0.2939 - val_loss: 0.3466 - val_mean_squared_error: 0.3466\n",
            "Epoch 222/1000\n",
            "60/60 [==============================] - 0s 169us/sample - loss: 0.3138 - mean_squared_error: 0.3138 - val_loss: 0.3460 - val_mean_squared_error: 0.3460\n",
            "Epoch 223/1000\n",
            "60/60 [==============================] - 0s 200us/sample - loss: 0.2996 - mean_squared_error: 0.2996 - val_loss: 0.3456 - val_mean_squared_error: 0.3456\n",
            "Epoch 224/1000\n",
            "60/60 [==============================] - 0s 187us/sample - loss: 0.3109 - mean_squared_error: 0.3109 - val_loss: 0.3497 - val_mean_squared_error: 0.3497\n",
            "Epoch 225/1000\n",
            "60/60 [==============================] - 0s 186us/sample - loss: 0.3000 - mean_squared_error: 0.3000 - val_loss: 0.3468 - val_mean_squared_error: 0.3468\n",
            "Epoch 226/1000\n",
            "60/60 [==============================] - 0s 207us/sample - loss: 0.2917 - mean_squared_error: 0.2917 - val_loss: 0.3445 - val_mean_squared_error: 0.3445\n",
            "Epoch 227/1000\n",
            "60/60 [==============================] - 0s 238us/sample - loss: 0.3018 - mean_squared_error: 0.3018 - val_loss: 0.3439 - val_mean_squared_error: 0.3439\n",
            "Epoch 228/1000\n",
            "60/60 [==============================] - 0s 187us/sample - loss: 0.2927 - mean_squared_error: 0.2927 - val_loss: 0.3453 - val_mean_squared_error: 0.3453\n",
            "Epoch 229/1000\n",
            "60/60 [==============================] - 0s 188us/sample - loss: 0.2982 - mean_squared_error: 0.2982 - val_loss: 0.3484 - val_mean_squared_error: 0.3484\n",
            "Epoch 230/1000\n",
            "60/60 [==============================] - 0s 210us/sample - loss: 0.2970 - mean_squared_error: 0.2970 - val_loss: 0.3456 - val_mean_squared_error: 0.3456\n",
            "Epoch 231/1000\n",
            "60/60 [==============================] - 0s 243us/sample - loss: 0.2903 - mean_squared_error: 0.2903 - val_loss: 0.3421 - val_mean_squared_error: 0.3421\n",
            "Epoch 232/1000\n",
            "60/60 [==============================] - 0s 232us/sample - loss: 0.2908 - mean_squared_error: 0.2908 - val_loss: 0.3424 - val_mean_squared_error: 0.3424\n",
            "Epoch 233/1000\n",
            "60/60 [==============================] - 0s 168us/sample - loss: 0.2922 - mean_squared_error: 0.2922 - val_loss: 0.3417 - val_mean_squared_error: 0.3417\n",
            "Epoch 234/1000\n",
            "60/60 [==============================] - 0s 227us/sample - loss: 0.2958 - mean_squared_error: 0.2958 - val_loss: 0.3414 - val_mean_squared_error: 0.3414\n",
            "Epoch 235/1000\n",
            "60/60 [==============================] - 0s 226us/sample - loss: 0.2903 - mean_squared_error: 0.2903 - val_loss: 0.3419 - val_mean_squared_error: 0.3419\n",
            "Epoch 236/1000\n",
            "60/60 [==============================] - 0s 217us/sample - loss: 0.2876 - mean_squared_error: 0.2876 - val_loss: 0.3402 - val_mean_squared_error: 0.3402\n",
            "Epoch 237/1000\n",
            "60/60 [==============================] - 0s 212us/sample - loss: 0.2887 - mean_squared_error: 0.2887 - val_loss: 0.3399 - val_mean_squared_error: 0.3399\n",
            "Epoch 238/1000\n",
            "60/60 [==============================] - 0s 240us/sample - loss: 0.2868 - mean_squared_error: 0.2868 - val_loss: 0.3391 - val_mean_squared_error: 0.3391\n",
            "Epoch 239/1000\n",
            "60/60 [==============================] - 0s 196us/sample - loss: 0.2847 - mean_squared_error: 0.2847 - val_loss: 0.3385 - val_mean_squared_error: 0.3385\n",
            "Epoch 240/1000\n",
            "60/60 [==============================] - 0s 204us/sample - loss: 0.2893 - mean_squared_error: 0.2893 - val_loss: 0.3403 - val_mean_squared_error: 0.3403\n",
            "Epoch 241/1000\n",
            "60/60 [==============================] - 0s 206us/sample - loss: 0.2871 - mean_squared_error: 0.2871 - val_loss: 0.3381 - val_mean_squared_error: 0.3381\n",
            "Epoch 242/1000\n",
            "60/60 [==============================] - 0s 198us/sample - loss: 0.2899 - mean_squared_error: 0.2899 - val_loss: 0.3389 - val_mean_squared_error: 0.3389\n",
            "Epoch 243/1000\n",
            "60/60 [==============================] - 0s 185us/sample - loss: 0.2845 - mean_squared_error: 0.2845 - val_loss: 0.3372 - val_mean_squared_error: 0.3372\n",
            "Epoch 244/1000\n",
            "60/60 [==============================] - 0s 193us/sample - loss: 0.2903 - mean_squared_error: 0.2903 - val_loss: 0.3370 - val_mean_squared_error: 0.3370\n",
            "Epoch 245/1000\n",
            "60/60 [==============================] - 0s 231us/sample - loss: 0.2881 - mean_squared_error: 0.2881 - val_loss: 0.3382 - val_mean_squared_error: 0.3382\n",
            "Epoch 246/1000\n",
            "60/60 [==============================] - 0s 196us/sample - loss: 0.2961 - mean_squared_error: 0.2961 - val_loss: 0.3358 - val_mean_squared_error: 0.3358\n",
            "Epoch 247/1000\n",
            "60/60 [==============================] - 0s 217us/sample - loss: 0.2910 - mean_squared_error: 0.2910 - val_loss: 0.3393 - val_mean_squared_error: 0.3393\n",
            "Epoch 248/1000\n",
            "60/60 [==============================] - 0s 183us/sample - loss: 0.2872 - mean_squared_error: 0.2872 - val_loss: 0.3346 - val_mean_squared_error: 0.3346\n",
            "Epoch 249/1000\n",
            "60/60 [==============================] - 0s 267us/sample - loss: 0.2808 - mean_squared_error: 0.2808 - val_loss: 0.3345 - val_mean_squared_error: 0.3345\n",
            "Epoch 250/1000\n",
            "60/60 [==============================] - 0s 202us/sample - loss: 0.2856 - mean_squared_error: 0.2856 - val_loss: 0.3337 - val_mean_squared_error: 0.3337\n",
            "Epoch 251/1000\n",
            "60/60 [==============================] - 0s 207us/sample - loss: 0.2836 - mean_squared_error: 0.2836 - val_loss: 0.3350 - val_mean_squared_error: 0.3350\n",
            "Epoch 252/1000\n",
            "60/60 [==============================] - 0s 222us/sample - loss: 0.2823 - mean_squared_error: 0.2823 - val_loss: 0.3333 - val_mean_squared_error: 0.3333\n",
            "Epoch 253/1000\n",
            "60/60 [==============================] - 0s 331us/sample - loss: 0.2814 - mean_squared_error: 0.2814 - val_loss: 0.3334 - val_mean_squared_error: 0.3334\n",
            "Epoch 254/1000\n",
            "60/60 [==============================] - 0s 194us/sample - loss: 0.2802 - mean_squared_error: 0.2802 - val_loss: 0.3320 - val_mean_squared_error: 0.3320\n",
            "Epoch 255/1000\n",
            "60/60 [==============================] - 0s 199us/sample - loss: 0.2796 - mean_squared_error: 0.2796 - val_loss: 0.3322 - val_mean_squared_error: 0.3322\n",
            "Epoch 256/1000\n",
            "60/60 [==============================] - 0s 205us/sample - loss: 0.2779 - mean_squared_error: 0.2779 - val_loss: 0.3311 - val_mean_squared_error: 0.3311\n",
            "Epoch 257/1000\n",
            "60/60 [==============================] - 0s 228us/sample - loss: 0.2984 - mean_squared_error: 0.2984 - val_loss: 0.3410 - val_mean_squared_error: 0.3410\n",
            "Epoch 258/1000\n",
            "60/60 [==============================] - 0s 243us/sample - loss: 0.2978 - mean_squared_error: 0.2978 - val_loss: 0.3376 - val_mean_squared_error: 0.3376\n",
            "Epoch 259/1000\n",
            "60/60 [==============================] - 0s 247us/sample - loss: 0.2823 - mean_squared_error: 0.2823 - val_loss: 0.3305 - val_mean_squared_error: 0.3305\n",
            "Epoch 260/1000\n",
            "60/60 [==============================] - 0s 270us/sample - loss: 0.2771 - mean_squared_error: 0.2771 - val_loss: 0.3289 - val_mean_squared_error: 0.3289\n",
            "Epoch 261/1000\n",
            "60/60 [==============================] - 0s 189us/sample - loss: 0.2839 - mean_squared_error: 0.2839 - val_loss: 0.3301 - val_mean_squared_error: 0.3301\n",
            "Epoch 262/1000\n",
            "60/60 [==============================] - 0s 218us/sample - loss: 0.2841 - mean_squared_error: 0.2841 - val_loss: 0.3361 - val_mean_squared_error: 0.3361\n",
            "Epoch 263/1000\n",
            "60/60 [==============================] - 0s 223us/sample - loss: 0.2801 - mean_squared_error: 0.2801 - val_loss: 0.3291 - val_mean_squared_error: 0.3291\n",
            "Epoch 264/1000\n",
            "60/60 [==============================] - 0s 207us/sample - loss: 0.2746 - mean_squared_error: 0.2746 - val_loss: 0.3273 - val_mean_squared_error: 0.3273\n",
            "Epoch 265/1000\n",
            "60/60 [==============================] - 0s 201us/sample - loss: 0.2774 - mean_squared_error: 0.2774 - val_loss: 0.3281 - val_mean_squared_error: 0.3281\n",
            "Epoch 266/1000\n",
            "60/60 [==============================] - 0s 247us/sample - loss: 0.2859 - mean_squared_error: 0.2859 - val_loss: 0.3291 - val_mean_squared_error: 0.3291\n",
            "Epoch 267/1000\n",
            "60/60 [==============================] - 0s 185us/sample - loss: 0.2740 - mean_squared_error: 0.2740 - val_loss: 0.3259 - val_mean_squared_error: 0.3259\n",
            "Epoch 268/1000\n",
            "60/60 [==============================] - 0s 272us/sample - loss: 0.2732 - mean_squared_error: 0.2732 - val_loss: 0.3258 - val_mean_squared_error: 0.3258\n",
            "Epoch 269/1000\n",
            "60/60 [==============================] - 0s 258us/sample - loss: 0.2754 - mean_squared_error: 0.2754 - val_loss: 0.3276 - val_mean_squared_error: 0.3276\n",
            "Epoch 270/1000\n",
            "60/60 [==============================] - 0s 222us/sample - loss: 0.2735 - mean_squared_error: 0.2735 - val_loss: 0.3251 - val_mean_squared_error: 0.3251\n",
            "Epoch 271/1000\n",
            "60/60 [==============================] - 0s 225us/sample - loss: 0.2744 - mean_squared_error: 0.2744 - val_loss: 0.3264 - val_mean_squared_error: 0.3264\n",
            "Epoch 272/1000\n",
            "60/60 [==============================] - 0s 212us/sample - loss: 0.2840 - mean_squared_error: 0.2840 - val_loss: 0.3254 - val_mean_squared_error: 0.3254\n",
            "Epoch 273/1000\n",
            "60/60 [==============================] - 0s 215us/sample - loss: 0.2862 - mean_squared_error: 0.2862 - val_loss: 0.3270 - val_mean_squared_error: 0.3270\n",
            "Epoch 274/1000\n",
            "60/60 [==============================] - 0s 209us/sample - loss: 0.2714 - mean_squared_error: 0.2714 - val_loss: 0.3244 - val_mean_squared_error: 0.3244\n",
            "Epoch 275/1000\n",
            "60/60 [==============================] - 0s 230us/sample - loss: 0.2720 - mean_squared_error: 0.2720 - val_loss: 0.3240 - val_mean_squared_error: 0.3240\n",
            "Epoch 276/1000\n",
            "60/60 [==============================] - 0s 245us/sample - loss: 0.2702 - mean_squared_error: 0.2702 - val_loss: 0.3223 - val_mean_squared_error: 0.3223\n",
            "Epoch 277/1000\n",
            "60/60 [==============================] - 0s 216us/sample - loss: 0.2786 - mean_squared_error: 0.2786 - val_loss: 0.3320 - val_mean_squared_error: 0.3320\n",
            "Epoch 278/1000\n",
            "60/60 [==============================] - 0s 188us/sample - loss: 0.2842 - mean_squared_error: 0.2842 - val_loss: 0.3210 - val_mean_squared_error: 0.3210\n",
            "Epoch 279/1000\n",
            "60/60 [==============================] - 0s 199us/sample - loss: 0.2719 - mean_squared_error: 0.2719 - val_loss: 0.3238 - val_mean_squared_error: 0.3238\n",
            "Epoch 280/1000\n",
            "60/60 [==============================] - 0s 204us/sample - loss: 0.2812 - mean_squared_error: 0.2812 - val_loss: 0.3237 - val_mean_squared_error: 0.3237\n",
            "Epoch 281/1000\n",
            "60/60 [==============================] - 0s 212us/sample - loss: 0.2780 - mean_squared_error: 0.2780 - val_loss: 0.3213 - val_mean_squared_error: 0.3213\n",
            "Epoch 282/1000\n",
            "60/60 [==============================] - 0s 195us/sample - loss: 0.2684 - mean_squared_error: 0.2684 - val_loss: 0.3195 - val_mean_squared_error: 0.3195\n",
            "Epoch 283/1000\n",
            "60/60 [==============================] - 0s 244us/sample - loss: 0.2753 - mean_squared_error: 0.2753 - val_loss: 0.3212 - val_mean_squared_error: 0.3212\n",
            "Epoch 284/1000\n",
            "60/60 [==============================] - 0s 210us/sample - loss: 0.2664 - mean_squared_error: 0.2664 - val_loss: 0.3182 - val_mean_squared_error: 0.3182\n",
            "Epoch 285/1000\n",
            "60/60 [==============================] - 0s 203us/sample - loss: 0.2740 - mean_squared_error: 0.2740 - val_loss: 0.3186 - val_mean_squared_error: 0.3186\n",
            "Epoch 286/1000\n",
            "60/60 [==============================] - 0s 199us/sample - loss: 0.2672 - mean_squared_error: 0.2672 - val_loss: 0.3187 - val_mean_squared_error: 0.3187\n",
            "Epoch 287/1000\n",
            "60/60 [==============================] - 0s 207us/sample - loss: 0.2677 - mean_squared_error: 0.2677 - val_loss: 0.3188 - val_mean_squared_error: 0.3188\n",
            "Epoch 288/1000\n",
            "60/60 [==============================] - 0s 172us/sample - loss: 0.2711 - mean_squared_error: 0.2711 - val_loss: 0.3198 - val_mean_squared_error: 0.3198\n",
            "Epoch 289/1000\n",
            "60/60 [==============================] - 0s 221us/sample - loss: 0.2689 - mean_squared_error: 0.2689 - val_loss: 0.3188 - val_mean_squared_error: 0.3188\n",
            "Epoch 290/1000\n",
            "60/60 [==============================] - 0s 182us/sample - loss: 0.2702 - mean_squared_error: 0.2702 - val_loss: 0.3210 - val_mean_squared_error: 0.3210\n",
            "Epoch 291/1000\n",
            "60/60 [==============================] - 0s 184us/sample - loss: 0.2713 - mean_squared_error: 0.2713 - val_loss: 0.3199 - val_mean_squared_error: 0.3199\n",
            "Epoch 292/1000\n",
            "60/60 [==============================] - 0s 209us/sample - loss: 0.2850 - mean_squared_error: 0.2850 - val_loss: 0.3209 - val_mean_squared_error: 0.3209\n",
            "Epoch 293/1000\n",
            "60/60 [==============================] - 0s 189us/sample - loss: 0.2859 - mean_squared_error: 0.2859 - val_loss: 0.3188 - val_mean_squared_error: 0.3188\n",
            "Epoch 294/1000\n",
            "60/60 [==============================] - 0s 224us/sample - loss: 0.2719 - mean_squared_error: 0.2719 - val_loss: 0.3196 - val_mean_squared_error: 0.3196\n",
            "Epoch 295/1000\n",
            "60/60 [==============================] - 0s 179us/sample - loss: 0.2638 - mean_squared_error: 0.2638 - val_loss: 0.3156 - val_mean_squared_error: 0.3156\n",
            "Epoch 296/1000\n",
            "60/60 [==============================] - 0s 191us/sample - loss: 0.2694 - mean_squared_error: 0.2694 - val_loss: 0.3136 - val_mean_squared_error: 0.3136\n",
            "Epoch 297/1000\n",
            "60/60 [==============================] - 0s 185us/sample - loss: 0.2702 - mean_squared_error: 0.2702 - val_loss: 0.3124 - val_mean_squared_error: 0.3124\n",
            "Epoch 298/1000\n",
            "60/60 [==============================] - 0s 204us/sample - loss: 0.2651 - mean_squared_error: 0.2651 - val_loss: 0.3158 - val_mean_squared_error: 0.3158\n",
            "Epoch 299/1000\n",
            "60/60 [==============================] - 0s 183us/sample - loss: 0.2627 - mean_squared_error: 0.2627 - val_loss: 0.3118 - val_mean_squared_error: 0.3118\n",
            "Epoch 300/1000\n",
            "60/60 [==============================] - 0s 188us/sample - loss: 0.2630 - mean_squared_error: 0.2630 - val_loss: 0.3112 - val_mean_squared_error: 0.3112\n",
            "Epoch 301/1000\n",
            "60/60 [==============================] - 0s 275us/sample - loss: 0.2600 - mean_squared_error: 0.2600 - val_loss: 0.3141 - val_mean_squared_error: 0.3141\n",
            "Epoch 302/1000\n",
            "60/60 [==============================] - 0s 212us/sample - loss: 0.2732 - mean_squared_error: 0.2732 - val_loss: 0.3138 - val_mean_squared_error: 0.3138\n",
            "Epoch 303/1000\n",
            "60/60 [==============================] - 0s 218us/sample - loss: 0.2581 - mean_squared_error: 0.2581 - val_loss: 0.3105 - val_mean_squared_error: 0.3105\n",
            "Epoch 304/1000\n",
            "60/60 [==============================] - 0s 188us/sample - loss: 0.2610 - mean_squared_error: 0.2610 - val_loss: 0.3137 - val_mean_squared_error: 0.3137\n",
            "Epoch 305/1000\n",
            "60/60 [==============================] - 0s 180us/sample - loss: 0.2611 - mean_squared_error: 0.2611 - val_loss: 0.3097 - val_mean_squared_error: 0.3097\n",
            "Epoch 306/1000\n",
            "60/60 [==============================] - 0s 183us/sample - loss: 0.2612 - mean_squared_error: 0.2612 - val_loss: 0.3185 - val_mean_squared_error: 0.3185\n",
            "Epoch 307/1000\n",
            "60/60 [==============================] - 0s 207us/sample - loss: 0.2609 - mean_squared_error: 0.2609 - val_loss: 0.3082 - val_mean_squared_error: 0.3082\n",
            "Epoch 308/1000\n",
            "60/60 [==============================] - 0s 176us/sample - loss: 0.2614 - mean_squared_error: 0.2614 - val_loss: 0.3113 - val_mean_squared_error: 0.3113\n",
            "Epoch 309/1000\n",
            "60/60 [==============================] - 0s 203us/sample - loss: 0.2589 - mean_squared_error: 0.2589 - val_loss: 0.3072 - val_mean_squared_error: 0.3072\n",
            "Epoch 310/1000\n",
            "60/60 [==============================] - 0s 206us/sample - loss: 0.2573 - mean_squared_error: 0.2573 - val_loss: 0.3092 - val_mean_squared_error: 0.3092\n",
            "Epoch 311/1000\n",
            "60/60 [==============================] - 0s 200us/sample - loss: 0.2624 - mean_squared_error: 0.2624 - val_loss: 0.3147 - val_mean_squared_error: 0.3147\n",
            "Epoch 312/1000\n",
            "60/60 [==============================] - 0s 391us/sample - loss: 0.2628 - mean_squared_error: 0.2628 - val_loss: 0.3069 - val_mean_squared_error: 0.3069\n",
            "Epoch 313/1000\n",
            "60/60 [==============================] - 0s 196us/sample - loss: 0.2599 - mean_squared_error: 0.2599 - val_loss: 0.3078 - val_mean_squared_error: 0.3078\n",
            "Epoch 314/1000\n",
            "60/60 [==============================] - 0s 180us/sample - loss: 0.2545 - mean_squared_error: 0.2545 - val_loss: 0.3050 - val_mean_squared_error: 0.3050\n",
            "Epoch 315/1000\n",
            "60/60 [==============================] - 0s 196us/sample - loss: 0.2561 - mean_squared_error: 0.2561 - val_loss: 0.3047 - val_mean_squared_error: 0.3047\n",
            "Epoch 316/1000\n",
            "60/60 [==============================] - 0s 192us/sample - loss: 0.2573 - mean_squared_error: 0.2573 - val_loss: 0.3037 - val_mean_squared_error: 0.3037\n",
            "Epoch 317/1000\n",
            "60/60 [==============================] - 0s 192us/sample - loss: 0.2539 - mean_squared_error: 0.2539 - val_loss: 0.3091 - val_mean_squared_error: 0.3091\n",
            "Epoch 318/1000\n",
            "60/60 [==============================] - 0s 170us/sample - loss: 0.2691 - mean_squared_error: 0.2691 - val_loss: 0.3091 - val_mean_squared_error: 0.3091\n",
            "Epoch 319/1000\n",
            "60/60 [==============================] - 0s 186us/sample - loss: 0.2578 - mean_squared_error: 0.2578 - val_loss: 0.3042 - val_mean_squared_error: 0.3042\n",
            "Epoch 320/1000\n",
            "60/60 [==============================] - 0s 227us/sample - loss: 0.2553 - mean_squared_error: 0.2553 - val_loss: 0.3023 - val_mean_squared_error: 0.3023\n",
            "Epoch 321/1000\n",
            "60/60 [==============================] - 0s 188us/sample - loss: 0.2529 - mean_squared_error: 0.2529 - val_loss: 0.3064 - val_mean_squared_error: 0.3064\n",
            "Epoch 322/1000\n",
            "60/60 [==============================] - 0s 218us/sample - loss: 0.2517 - mean_squared_error: 0.2517 - val_loss: 0.3112 - val_mean_squared_error: 0.3112\n",
            "Epoch 323/1000\n",
            "60/60 [==============================] - 0s 199us/sample - loss: 0.2671 - mean_squared_error: 0.2671 - val_loss: 0.3025 - val_mean_squared_error: 0.3025\n",
            "Epoch 324/1000\n",
            "60/60 [==============================] - 0s 165us/sample - loss: 0.2501 - mean_squared_error: 0.2501 - val_loss: 0.3005 - val_mean_squared_error: 0.3005\n",
            "Epoch 325/1000\n",
            "60/60 [==============================] - 0s 212us/sample - loss: 0.2508 - mean_squared_error: 0.2508 - val_loss: 0.3032 - val_mean_squared_error: 0.3032\n",
            "Epoch 326/1000\n",
            "60/60 [==============================] - 0s 191us/sample - loss: 0.2486 - mean_squared_error: 0.2486 - val_loss: 0.3002 - val_mean_squared_error: 0.3002\n",
            "Epoch 327/1000\n",
            "60/60 [==============================] - 0s 238us/sample - loss: 0.2546 - mean_squared_error: 0.2546 - val_loss: 0.3132 - val_mean_squared_error: 0.3132\n",
            "Epoch 328/1000\n",
            "60/60 [==============================] - 0s 167us/sample - loss: 0.3234 - mean_squared_error: 0.3234 - val_loss: 0.3003 - val_mean_squared_error: 0.3003\n",
            "Epoch 329/1000\n",
            "60/60 [==============================] - 0s 228us/sample - loss: 0.2478 - mean_squared_error: 0.2478 - val_loss: 0.2995 - val_mean_squared_error: 0.2995\n",
            "Epoch 330/1000\n",
            "60/60 [==============================] - 0s 171us/sample - loss: 0.2528 - mean_squared_error: 0.2528 - val_loss: 0.2978 - val_mean_squared_error: 0.2978\n",
            "Epoch 331/1000\n",
            "60/60 [==============================] - 0s 193us/sample - loss: 0.2462 - mean_squared_error: 0.2462 - val_loss: 0.2996 - val_mean_squared_error: 0.2996\n",
            "Epoch 332/1000\n",
            "60/60 [==============================] - 0s 196us/sample - loss: 0.2701 - mean_squared_error: 0.2701 - val_loss: 0.2984 - val_mean_squared_error: 0.2984\n",
            "Epoch 333/1000\n",
            "60/60 [==============================] - 0s 206us/sample - loss: 0.2532 - mean_squared_error: 0.2532 - val_loss: 0.3018 - val_mean_squared_error: 0.3018\n",
            "Epoch 334/1000\n",
            "60/60 [==============================] - 0s 229us/sample - loss: 0.2455 - mean_squared_error: 0.2455 - val_loss: 0.2958 - val_mean_squared_error: 0.2958\n",
            "Epoch 335/1000\n",
            "60/60 [==============================] - 0s 194us/sample - loss: 0.2526 - mean_squared_error: 0.2526 - val_loss: 0.2953 - val_mean_squared_error: 0.2953\n",
            "Epoch 336/1000\n",
            "60/60 [==============================] - 0s 184us/sample - loss: 0.2818 - mean_squared_error: 0.2818 - val_loss: 0.2965 - val_mean_squared_error: 0.2965\n",
            "Epoch 337/1000\n",
            "60/60 [==============================] - 0s 184us/sample - loss: 0.2462 - mean_squared_error: 0.2462 - val_loss: 0.3015 - val_mean_squared_error: 0.3015\n",
            "Epoch 338/1000\n",
            "60/60 [==============================] - 0s 176us/sample - loss: 0.2518 - mean_squared_error: 0.2518 - val_loss: 0.2946 - val_mean_squared_error: 0.2946\n",
            "Epoch 339/1000\n",
            "60/60 [==============================] - 0s 186us/sample - loss: 0.2465 - mean_squared_error: 0.2465 - val_loss: 0.2940 - val_mean_squared_error: 0.2940\n",
            "Epoch 340/1000\n",
            "60/60 [==============================] - 0s 324us/sample - loss: 0.2825 - mean_squared_error: 0.2825 - val_loss: 0.2974 - val_mean_squared_error: 0.2974\n",
            "Epoch 341/1000\n",
            "60/60 [==============================] - 0s 191us/sample - loss: 0.2504 - mean_squared_error: 0.2504 - val_loss: 0.3142 - val_mean_squared_error: 0.3142\n",
            "Epoch 342/1000\n",
            "60/60 [==============================] - 0s 180us/sample - loss: 0.2724 - mean_squared_error: 0.2724 - val_loss: 0.3014 - val_mean_squared_error: 0.3014\n",
            "Epoch 343/1000\n",
            "60/60 [==============================] - 0s 187us/sample - loss: 0.2707 - mean_squared_error: 0.2707 - val_loss: 0.2950 - val_mean_squared_error: 0.2950\n",
            "Epoch 344/1000\n",
            "60/60 [==============================] - 0s 187us/sample - loss: 0.2479 - mean_squared_error: 0.2479 - val_loss: 0.2938 - val_mean_squared_error: 0.2938\n",
            "Epoch 345/1000\n",
            "60/60 [==============================] - 0s 181us/sample - loss: 0.2757 - mean_squared_error: 0.2757 - val_loss: 0.3063 - val_mean_squared_error: 0.3063\n",
            "Epoch 346/1000\n",
            "60/60 [==============================] - 0s 184us/sample - loss: 0.2637 - mean_squared_error: 0.2637 - val_loss: 0.3486 - val_mean_squared_error: 0.3486\n",
            "Epoch 347/1000\n",
            "60/60 [==============================] - 0s 198us/sample - loss: 0.2557 - mean_squared_error: 0.2557 - val_loss: 0.2905 - val_mean_squared_error: 0.2905\n",
            "Epoch 348/1000\n",
            "60/60 [==============================] - 0s 184us/sample - loss: 0.2471 - mean_squared_error: 0.2471 - val_loss: 0.3012 - val_mean_squared_error: 0.3012\n",
            "Epoch 349/1000\n",
            "60/60 [==============================] - 0s 174us/sample - loss: 0.2446 - mean_squared_error: 0.2446 - val_loss: 0.2918 - val_mean_squared_error: 0.2918\n",
            "Epoch 350/1000\n",
            "60/60 [==============================] - 0s 218us/sample - loss: 0.2615 - mean_squared_error: 0.2615 - val_loss: 0.2942 - val_mean_squared_error: 0.2942\n",
            "Epoch 351/1000\n",
            "60/60 [==============================] - 0s 190us/sample - loss: 0.2411 - mean_squared_error: 0.2411 - val_loss: 0.2914 - val_mean_squared_error: 0.2914\n",
            "Epoch 352/1000\n",
            "60/60 [==============================] - 0s 180us/sample - loss: 0.2446 - mean_squared_error: 0.2446 - val_loss: 0.3020 - val_mean_squared_error: 0.3020\n",
            "Epoch 353/1000\n",
            "60/60 [==============================] - 0s 194us/sample - loss: 0.2491 - mean_squared_error: 0.2491 - val_loss: 0.2896 - val_mean_squared_error: 0.2896\n",
            "Epoch 354/1000\n",
            "60/60 [==============================] - 0s 202us/sample - loss: 0.2532 - mean_squared_error: 0.2532 - val_loss: 0.2881 - val_mean_squared_error: 0.2881\n",
            "Epoch 355/1000\n",
            "60/60 [==============================] - 0s 180us/sample - loss: 0.2420 - mean_squared_error: 0.2420 - val_loss: 0.2992 - val_mean_squared_error: 0.2992\n",
            "Epoch 356/1000\n",
            "60/60 [==============================] - 0s 213us/sample - loss: 0.2555 - mean_squared_error: 0.2555 - val_loss: 0.3007 - val_mean_squared_error: 0.3007\n",
            "Epoch 357/1000\n",
            "60/60 [==============================] - 0s 223us/sample - loss: 0.2453 - mean_squared_error: 0.2453 - val_loss: 0.2879 - val_mean_squared_error: 0.2879\n",
            "Epoch 358/1000\n",
            "60/60 [==============================] - 0s 259us/sample - loss: 0.2360 - mean_squared_error: 0.2360 - val_loss: 0.2867 - val_mean_squared_error: 0.2867\n",
            "Epoch 359/1000\n",
            "60/60 [==============================] - 0s 270us/sample - loss: 0.2765 - mean_squared_error: 0.2765 - val_loss: 0.3065 - val_mean_squared_error: 0.3065\n",
            "Epoch 360/1000\n",
            "60/60 [==============================] - 0s 226us/sample - loss: 0.2476 - mean_squared_error: 0.2476 - val_loss: 0.2871 - val_mean_squared_error: 0.2871\n",
            "Epoch 361/1000\n",
            "60/60 [==============================] - 0s 215us/sample - loss: 0.2348 - mean_squared_error: 0.2348 - val_loss: 0.2883 - val_mean_squared_error: 0.2883\n",
            "Epoch 362/1000\n",
            "60/60 [==============================] - 0s 163us/sample - loss: 0.2353 - mean_squared_error: 0.2353 - val_loss: 0.2946 - val_mean_squared_error: 0.2946\n",
            "Epoch 363/1000\n",
            "60/60 [==============================] - 0s 185us/sample - loss: 0.2593 - mean_squared_error: 0.2593 - val_loss: 0.2845 - val_mean_squared_error: 0.2845\n",
            "Epoch 364/1000\n",
            "60/60 [==============================] - 0s 240us/sample - loss: 0.2433 - mean_squared_error: 0.2433 - val_loss: 0.2842 - val_mean_squared_error: 0.2842\n",
            "Epoch 365/1000\n",
            "60/60 [==============================] - 0s 217us/sample - loss: 0.2332 - mean_squared_error: 0.2332 - val_loss: 0.2861 - val_mean_squared_error: 0.2861\n",
            "Epoch 366/1000\n",
            "60/60 [==============================] - 0s 206us/sample - loss: 0.2347 - mean_squared_error: 0.2347 - val_loss: 0.2834 - val_mean_squared_error: 0.2834\n",
            "Epoch 367/1000\n",
            "60/60 [==============================] - 0s 191us/sample - loss: 0.2536 - mean_squared_error: 0.2536 - val_loss: 0.2833 - val_mean_squared_error: 0.2833\n",
            "Epoch 368/1000\n",
            "60/60 [==============================] - 0s 234us/sample - loss: 0.2541 - mean_squared_error: 0.2541 - val_loss: 0.3064 - val_mean_squared_error: 0.3064\n",
            "Epoch 369/1000\n",
            "60/60 [==============================] - 0s 183us/sample - loss: 0.2335 - mean_squared_error: 0.2335 - val_loss: 0.2856 - val_mean_squared_error: 0.2856\n",
            "Epoch 370/1000\n",
            "60/60 [==============================] - 0s 176us/sample - loss: 0.2357 - mean_squared_error: 0.2357 - val_loss: 0.2822 - val_mean_squared_error: 0.2822\n",
            "Epoch 371/1000\n",
            "60/60 [==============================] - 0s 208us/sample - loss: 0.2450 - mean_squared_error: 0.2450 - val_loss: 0.2907 - val_mean_squared_error: 0.2907\n",
            "Epoch 372/1000\n",
            "60/60 [==============================] - 0s 184us/sample - loss: 0.2501 - mean_squared_error: 0.2501 - val_loss: 0.2833 - val_mean_squared_error: 0.2833\n",
            "Epoch 373/1000\n",
            "60/60 [==============================] - 0s 233us/sample - loss: 0.2349 - mean_squared_error: 0.2349 - val_loss: 0.2816 - val_mean_squared_error: 0.2816\n",
            "Epoch 374/1000\n",
            "60/60 [==============================] - 0s 220us/sample - loss: 0.2474 - mean_squared_error: 0.2474 - val_loss: 0.2825 - val_mean_squared_error: 0.2825\n",
            "Epoch 375/1000\n",
            "60/60 [==============================] - 0s 196us/sample - loss: 0.2307 - mean_squared_error: 0.2307 - val_loss: 0.2822 - val_mean_squared_error: 0.2822\n",
            "Epoch 376/1000\n",
            "60/60 [==============================] - 0s 192us/sample - loss: 0.2303 - mean_squared_error: 0.2303 - val_loss: 0.2820 - val_mean_squared_error: 0.2820\n",
            "Epoch 377/1000\n",
            "60/60 [==============================] - 0s 198us/sample - loss: 0.2327 - mean_squared_error: 0.2327 - val_loss: 0.2796 - val_mean_squared_error: 0.2796\n",
            "Epoch 378/1000\n",
            "60/60 [==============================] - 0s 189us/sample - loss: 0.2355 - mean_squared_error: 0.2355 - val_loss: 0.2851 - val_mean_squared_error: 0.2851\n",
            "Epoch 379/1000\n",
            "60/60 [==============================] - 0s 169us/sample - loss: 0.2387 - mean_squared_error: 0.2387 - val_loss: 0.2844 - val_mean_squared_error: 0.2844\n",
            "Epoch 380/1000\n",
            "60/60 [==============================] - 0s 192us/sample - loss: 0.2298 - mean_squared_error: 0.2298 - val_loss: 0.3105 - val_mean_squared_error: 0.3105\n",
            "Epoch 381/1000\n",
            "60/60 [==============================] - 0s 205us/sample - loss: 0.2335 - mean_squared_error: 0.2335 - val_loss: 0.2851 - val_mean_squared_error: 0.2851\n",
            "Epoch 382/1000\n",
            "60/60 [==============================] - 0s 178us/sample - loss: 0.2302 - mean_squared_error: 0.2302 - val_loss: 0.2920 - val_mean_squared_error: 0.2920\n",
            "Epoch 383/1000\n",
            "60/60 [==============================] - 0s 185us/sample - loss: 0.2261 - mean_squared_error: 0.2261 - val_loss: 0.2786 - val_mean_squared_error: 0.2786\n",
            "Epoch 384/1000\n",
            "60/60 [==============================] - 0s 180us/sample - loss: 0.2251 - mean_squared_error: 0.2251 - val_loss: 0.2783 - val_mean_squared_error: 0.2783\n",
            "Epoch 385/1000\n",
            "60/60 [==============================] - 0s 219us/sample - loss: 0.2364 - mean_squared_error: 0.2364 - val_loss: 0.2880 - val_mean_squared_error: 0.2880\n",
            "Epoch 386/1000\n",
            "60/60 [==============================] - 0s 183us/sample - loss: 0.2315 - mean_squared_error: 0.2315 - val_loss: 0.2767 - val_mean_squared_error: 0.2767\n",
            "Epoch 387/1000\n",
            "60/60 [==============================] - 0s 190us/sample - loss: 0.2331 - mean_squared_error: 0.2331 - val_loss: 0.3082 - val_mean_squared_error: 0.3082\n",
            "Epoch 388/1000\n",
            "60/60 [==============================] - 0s 192us/sample - loss: 0.2307 - mean_squared_error: 0.2307 - val_loss: 0.2742 - val_mean_squared_error: 0.2742\n",
            "Epoch 389/1000\n",
            "60/60 [==============================] - 0s 177us/sample - loss: 0.2296 - mean_squared_error: 0.2296 - val_loss: 0.2969 - val_mean_squared_error: 0.2969\n",
            "Epoch 390/1000\n",
            "60/60 [==============================] - 0s 217us/sample - loss: 0.2358 - mean_squared_error: 0.2358 - val_loss: 0.2828 - val_mean_squared_error: 0.2828\n",
            "Epoch 391/1000\n",
            "60/60 [==============================] - 0s 208us/sample - loss: 0.2313 - mean_squared_error: 0.2313 - val_loss: 0.2733 - val_mean_squared_error: 0.2733\n",
            "Epoch 392/1000\n",
            "60/60 [==============================] - 0s 203us/sample - loss: 0.2380 - mean_squared_error: 0.2380 - val_loss: 0.2788 - val_mean_squared_error: 0.2788\n",
            "Epoch 393/1000\n",
            "60/60 [==============================] - 0s 208us/sample - loss: 0.2516 - mean_squared_error: 0.2516 - val_loss: 0.2724 - val_mean_squared_error: 0.2724\n",
            "Epoch 394/1000\n",
            "60/60 [==============================] - 0s 194us/sample - loss: 0.2209 - mean_squared_error: 0.2209 - val_loss: 0.2742 - val_mean_squared_error: 0.2742\n",
            "Epoch 395/1000\n",
            "60/60 [==============================] - 0s 207us/sample - loss: 0.2346 - mean_squared_error: 0.2346 - val_loss: 0.2741 - val_mean_squared_error: 0.2741\n",
            "Epoch 396/1000\n",
            "60/60 [==============================] - 0s 192us/sample - loss: 0.2264 - mean_squared_error: 0.2264 - val_loss: 0.2838 - val_mean_squared_error: 0.2838\n",
            "Epoch 397/1000\n",
            "60/60 [==============================] - 0s 195us/sample - loss: 0.2198 - mean_squared_error: 0.2198 - val_loss: 0.2749 - val_mean_squared_error: 0.2749\n",
            "Epoch 398/1000\n",
            "60/60 [==============================] - 0s 174us/sample - loss: 0.2367 - mean_squared_error: 0.2367 - val_loss: 0.2744 - val_mean_squared_error: 0.2744\n",
            "Epoch 399/1000\n",
            "60/60 [==============================] - 0s 183us/sample - loss: 0.2195 - mean_squared_error: 0.2195 - val_loss: 0.2758 - val_mean_squared_error: 0.2758\n",
            "Epoch 400/1000\n",
            "60/60 [==============================] - 0s 174us/sample - loss: 0.2259 - mean_squared_error: 0.2259 - val_loss: 0.2757 - val_mean_squared_error: 0.2757\n",
            "Epoch 401/1000\n",
            "60/60 [==============================] - 0s 176us/sample - loss: 0.2621 - mean_squared_error: 0.2621 - val_loss: 0.2704 - val_mean_squared_error: 0.2704\n",
            "Epoch 402/1000\n",
            "60/60 [==============================] - 0s 202us/sample - loss: 0.2253 - mean_squared_error: 0.2253 - val_loss: 0.2712 - val_mean_squared_error: 0.2712\n",
            "Epoch 403/1000\n",
            "60/60 [==============================] - 0s 170us/sample - loss: 0.2194 - mean_squared_error: 0.2194 - val_loss: 0.2794 - val_mean_squared_error: 0.2794\n",
            "Epoch 404/1000\n",
            "60/60 [==============================] - 0s 187us/sample - loss: 0.2219 - mean_squared_error: 0.2219 - val_loss: 0.2708 - val_mean_squared_error: 0.2708\n",
            "Epoch 405/1000\n",
            "60/60 [==============================] - 0s 173us/sample - loss: 0.2501 - mean_squared_error: 0.2501 - val_loss: 0.2767 - val_mean_squared_error: 0.2767\n",
            "Epoch 406/1000\n",
            "60/60 [==============================] - 0s 217us/sample - loss: 0.2221 - mean_squared_error: 0.2221 - val_loss: 0.2689 - val_mean_squared_error: 0.2689\n",
            "Epoch 407/1000\n",
            "60/60 [==============================] - 0s 208us/sample - loss: 0.2360 - mean_squared_error: 0.2360 - val_loss: 0.2682 - val_mean_squared_error: 0.2682\n",
            "Epoch 408/1000\n",
            "60/60 [==============================] - 0s 213us/sample - loss: 0.2274 - mean_squared_error: 0.2274 - val_loss: 0.2992 - val_mean_squared_error: 0.2992\n",
            "Epoch 409/1000\n",
            "60/60 [==============================] - 0s 231us/sample - loss: 0.2385 - mean_squared_error: 0.2385 - val_loss: 0.2669 - val_mean_squared_error: 0.2669\n",
            "Epoch 410/1000\n",
            "60/60 [==============================] - 0s 219us/sample - loss: 0.2441 - mean_squared_error: 0.2441 - val_loss: 0.2697 - val_mean_squared_error: 0.2697\n",
            "Epoch 411/1000\n",
            "60/60 [==============================] - 0s 183us/sample - loss: 0.2308 - mean_squared_error: 0.2308 - val_loss: 0.2656 - val_mean_squared_error: 0.2656\n",
            "Epoch 412/1000\n",
            "60/60 [==============================] - 0s 232us/sample - loss: 0.2188 - mean_squared_error: 0.2188 - val_loss: 0.2653 - val_mean_squared_error: 0.2653\n",
            "Epoch 413/1000\n",
            "60/60 [==============================] - 0s 181us/sample - loss: 0.2243 - mean_squared_error: 0.2243 - val_loss: 0.2846 - val_mean_squared_error: 0.2846\n",
            "Epoch 414/1000\n",
            "60/60 [==============================] - 0s 168us/sample - loss: 0.2309 - mean_squared_error: 0.2309 - val_loss: 0.2796 - val_mean_squared_error: 0.2796\n",
            "Epoch 415/1000\n",
            "60/60 [==============================] - 0s 190us/sample - loss: 0.2435 - mean_squared_error: 0.2435 - val_loss: 0.2747 - val_mean_squared_error: 0.2747\n",
            "Epoch 416/1000\n",
            "60/60 [==============================] - 0s 203us/sample - loss: 0.2315 - mean_squared_error: 0.2315 - val_loss: 0.2843 - val_mean_squared_error: 0.2843\n",
            "Epoch 417/1000\n",
            "60/60 [==============================] - 0s 185us/sample - loss: 0.2137 - mean_squared_error: 0.2137 - val_loss: 0.2774 - val_mean_squared_error: 0.2774\n",
            "Epoch 418/1000\n",
            "60/60 [==============================] - 0s 175us/sample - loss: 0.2645 - mean_squared_error: 0.2645 - val_loss: 0.2693 - val_mean_squared_error: 0.2693\n",
            "Epoch 419/1000\n",
            "60/60 [==============================] - 0s 179us/sample - loss: 0.2376 - mean_squared_error: 0.2376 - val_loss: 0.2786 - val_mean_squared_error: 0.2786\n",
            "Epoch 420/1000\n",
            "60/60 [==============================] - 0s 205us/sample - loss: 0.2449 - mean_squared_error: 0.2449 - val_loss: 0.2859 - val_mean_squared_error: 0.2859\n",
            "Epoch 421/1000\n",
            "60/60 [==============================] - 0s 213us/sample - loss: 0.2175 - mean_squared_error: 0.2175 - val_loss: 0.2636 - val_mean_squared_error: 0.2636\n",
            "Epoch 422/1000\n",
            "60/60 [==============================] - 0s 260us/sample - loss: 0.2143 - mean_squared_error: 0.2143 - val_loss: 0.2761 - val_mean_squared_error: 0.2761\n",
            "Epoch 423/1000\n",
            "60/60 [==============================] - 0s 188us/sample - loss: 0.2191 - mean_squared_error: 0.2191 - val_loss: 0.2657 - val_mean_squared_error: 0.2657\n",
            "Epoch 424/1000\n",
            "60/60 [==============================] - 0s 221us/sample - loss: 0.2122 - mean_squared_error: 0.2122 - val_loss: 0.2645 - val_mean_squared_error: 0.2645\n",
            "Epoch 425/1000\n",
            "60/60 [==============================] - 0s 297us/sample - loss: 0.2190 - mean_squared_error: 0.2190 - val_loss: 0.2660 - val_mean_squared_error: 0.2660\n",
            "Epoch 426/1000\n",
            "60/60 [==============================] - 0s 173us/sample - loss: 0.2381 - mean_squared_error: 0.2381 - val_loss: 0.3141 - val_mean_squared_error: 0.3141\n",
            "Epoch 427/1000\n",
            "60/60 [==============================] - 0s 171us/sample - loss: 0.2354 - mean_squared_error: 0.2354 - val_loss: 0.2741 - val_mean_squared_error: 0.2741\n",
            "Epoch 428/1000\n",
            "60/60 [==============================] - 0s 172us/sample - loss: 0.2114 - mean_squared_error: 0.2114 - val_loss: 0.2610 - val_mean_squared_error: 0.2610\n",
            "Epoch 429/1000\n",
            "60/60 [==============================] - 0s 181us/sample - loss: 0.2194 - mean_squared_error: 0.2194 - val_loss: 0.3008 - val_mean_squared_error: 0.3008\n",
            "Epoch 430/1000\n",
            "60/60 [==============================] - 0s 176us/sample - loss: 0.2218 - mean_squared_error: 0.2218 - val_loss: 0.2641 - val_mean_squared_error: 0.2641\n",
            "Epoch 431/1000\n",
            "60/60 [==============================] - 0s 180us/sample - loss: 0.2109 - mean_squared_error: 0.2109 - val_loss: 0.2645 - val_mean_squared_error: 0.2645\n",
            "Epoch 432/1000\n",
            "60/60 [==============================] - 0s 185us/sample - loss: 0.2230 - mean_squared_error: 0.2230 - val_loss: 0.2617 - val_mean_squared_error: 0.2617\n",
            "Epoch 433/1000\n",
            "60/60 [==============================] - 0s 190us/sample - loss: 0.2165 - mean_squared_error: 0.2165 - val_loss: 0.2620 - val_mean_squared_error: 0.2620\n",
            "Epoch 434/1000\n",
            "60/60 [==============================] - 0s 179us/sample - loss: 0.2169 - mean_squared_error: 0.2169 - val_loss: 0.2892 - val_mean_squared_error: 0.2892\n",
            "Epoch 435/1000\n",
            "60/60 [==============================] - 0s 226us/sample - loss: 0.2073 - mean_squared_error: 0.2073 - val_loss: 0.2644 - val_mean_squared_error: 0.2644\n",
            "Epoch 436/1000\n",
            "60/60 [==============================] - 0s 182us/sample - loss: 0.2144 - mean_squared_error: 0.2144 - val_loss: 0.2639 - val_mean_squared_error: 0.2639\n",
            "Epoch 437/1000\n",
            "60/60 [==============================] - 0s 242us/sample - loss: 0.2087 - mean_squared_error: 0.2087 - val_loss: 0.2583 - val_mean_squared_error: 0.2583\n",
            "Epoch 438/1000\n",
            "60/60 [==============================] - 0s 180us/sample - loss: 0.2082 - mean_squared_error: 0.2082 - val_loss: 0.2698 - val_mean_squared_error: 0.2698\n",
            "Epoch 439/1000\n",
            "60/60 [==============================] - 0s 171us/sample - loss: 0.2136 - mean_squared_error: 0.2136 - val_loss: 0.2587 - val_mean_squared_error: 0.2587\n",
            "Epoch 440/1000\n",
            "60/60 [==============================] - 0s 186us/sample - loss: 0.2208 - mean_squared_error: 0.2208 - val_loss: 0.2651 - val_mean_squared_error: 0.2651\n",
            "Epoch 441/1000\n",
            "60/60 [==============================] - 0s 172us/sample - loss: 0.2053 - mean_squared_error: 0.2053 - val_loss: 0.2618 - val_mean_squared_error: 0.2618\n",
            "Epoch 442/1000\n",
            "60/60 [==============================] - 0s 224us/sample - loss: 0.2613 - mean_squared_error: 0.2613 - val_loss: 0.2553 - val_mean_squared_error: 0.2553\n",
            "Epoch 443/1000\n",
            "60/60 [==============================] - 0s 184us/sample - loss: 0.2372 - mean_squared_error: 0.2372 - val_loss: 0.2563 - val_mean_squared_error: 0.2563\n",
            "Epoch 444/1000\n",
            "60/60 [==============================] - 0s 159us/sample - loss: 0.2063 - mean_squared_error: 0.2063 - val_loss: 0.2574 - val_mean_squared_error: 0.2574\n",
            "Epoch 445/1000\n",
            "60/60 [==============================] - 0s 188us/sample - loss: 0.2155 - mean_squared_error: 0.2155 - val_loss: 0.2557 - val_mean_squared_error: 0.2557\n",
            "Epoch 446/1000\n",
            "60/60 [==============================] - 0s 166us/sample - loss: 0.2256 - mean_squared_error: 0.2256 - val_loss: 0.2557 - val_mean_squared_error: 0.2557\n",
            "Epoch 447/1000\n",
            "60/60 [==============================] - 0s 177us/sample - loss: 0.2080 - mean_squared_error: 0.2080 - val_loss: 0.2797 - val_mean_squared_error: 0.2797\n",
            "Epoch 448/1000\n",
            "60/60 [==============================] - 0s 173us/sample - loss: 0.2146 - mean_squared_error: 0.2146 - val_loss: 0.2705 - val_mean_squared_error: 0.2705\n",
            "Epoch 449/1000\n",
            "60/60 [==============================] - 0s 228us/sample - loss: 0.2185 - mean_squared_error: 0.2185 - val_loss: 0.2577 - val_mean_squared_error: 0.2577\n",
            "Epoch 450/1000\n",
            "60/60 [==============================] - 0s 343us/sample - loss: 0.2029 - mean_squared_error: 0.2029 - val_loss: 0.2558 - val_mean_squared_error: 0.2558\n",
            "Epoch 451/1000\n",
            "60/60 [==============================] - 0s 187us/sample - loss: 0.2025 - mean_squared_error: 0.2025 - val_loss: 0.2598 - val_mean_squared_error: 0.2598\n",
            "Epoch 452/1000\n",
            "60/60 [==============================] - 0s 195us/sample - loss: 0.2020 - mean_squared_error: 0.2020 - val_loss: 0.2604 - val_mean_squared_error: 0.2604\n",
            "Epoch 453/1000\n",
            "60/60 [==============================] - 0s 225us/sample - loss: 0.2026 - mean_squared_error: 0.2026 - val_loss: 0.3013 - val_mean_squared_error: 0.3013\n",
            "Epoch 454/1000\n",
            "60/60 [==============================] - 0s 167us/sample - loss: 0.2367 - mean_squared_error: 0.2367 - val_loss: 0.2520 - val_mean_squared_error: 0.2520\n",
            "Epoch 455/1000\n",
            "60/60 [==============================] - 0s 177us/sample - loss: 0.2342 - mean_squared_error: 0.2342 - val_loss: 0.2833 - val_mean_squared_error: 0.2833\n",
            "Epoch 456/1000\n",
            "60/60 [==============================] - 0s 176us/sample - loss: 0.2134 - mean_squared_error: 0.2134 - val_loss: 0.2519 - val_mean_squared_error: 0.2519\n",
            "Epoch 457/1000\n",
            "60/60 [==============================] - 0s 186us/sample - loss: 0.1994 - mean_squared_error: 0.1994 - val_loss: 0.2641 - val_mean_squared_error: 0.2641\n",
            "Epoch 458/1000\n",
            "60/60 [==============================] - 0s 182us/sample - loss: 0.2077 - mean_squared_error: 0.2077 - val_loss: 0.2670 - val_mean_squared_error: 0.2670\n",
            "Epoch 459/1000\n",
            "60/60 [==============================] - 0s 222us/sample - loss: 0.2023 - mean_squared_error: 0.2023 - val_loss: 0.2524 - val_mean_squared_error: 0.2524\n",
            "Epoch 460/1000\n",
            "60/60 [==============================] - 0s 202us/sample - loss: 0.2002 - mean_squared_error: 0.2002 - val_loss: 0.2503 - val_mean_squared_error: 0.2503\n",
            "Epoch 461/1000\n",
            "60/60 [==============================] - 0s 205us/sample - loss: 0.2021 - mean_squared_error: 0.2021 - val_loss: 0.2566 - val_mean_squared_error: 0.2566\n",
            "Epoch 462/1000\n",
            "60/60 [==============================] - 0s 187us/sample - loss: 0.1975 - mean_squared_error: 0.1975 - val_loss: 0.2725 - val_mean_squared_error: 0.2725\n",
            "Epoch 463/1000\n",
            "60/60 [==============================] - 0s 206us/sample - loss: 0.2025 - mean_squared_error: 0.2025 - val_loss: 0.2507 - val_mean_squared_error: 0.2507\n",
            "Epoch 464/1000\n",
            "60/60 [==============================] - 0s 220us/sample - loss: 0.2039 - mean_squared_error: 0.2039 - val_loss: 0.2655 - val_mean_squared_error: 0.2655\n",
            "Epoch 465/1000\n",
            "60/60 [==============================] - 0s 264us/sample - loss: 0.2198 - mean_squared_error: 0.2198 - val_loss: 0.2709 - val_mean_squared_error: 0.2709\n",
            "Epoch 466/1000\n",
            "60/60 [==============================] - 0s 195us/sample - loss: 0.1995 - mean_squared_error: 0.1995 - val_loss: 0.2483 - val_mean_squared_error: 0.2483\n",
            "Epoch 467/1000\n",
            "60/60 [==============================] - 0s 243us/sample - loss: 0.1988 - mean_squared_error: 0.1988 - val_loss: 0.2503 - val_mean_squared_error: 0.2503\n",
            "Epoch 468/1000\n",
            "60/60 [==============================] - 0s 222us/sample - loss: 0.2129 - mean_squared_error: 0.2129 - val_loss: 0.2540 - val_mean_squared_error: 0.2540\n",
            "Epoch 469/1000\n",
            "60/60 [==============================] - 0s 202us/sample - loss: 0.2068 - mean_squared_error: 0.2068 - val_loss: 0.2574 - val_mean_squared_error: 0.2574\n",
            "Epoch 470/1000\n",
            "60/60 [==============================] - 0s 207us/sample - loss: 0.2127 - mean_squared_error: 0.2127 - val_loss: 0.2663 - val_mean_squared_error: 0.2663\n",
            "Epoch 471/1000\n",
            "60/60 [==============================] - 0s 202us/sample - loss: 0.2109 - mean_squared_error: 0.2109 - val_loss: 0.2667 - val_mean_squared_error: 0.2667\n",
            "Epoch 472/1000\n",
            "60/60 [==============================] - 0s 191us/sample - loss: 0.2160 - mean_squared_error: 0.2160 - val_loss: 0.2648 - val_mean_squared_error: 0.2648\n",
            "Epoch 473/1000\n",
            "60/60 [==============================] - 0s 211us/sample - loss: 0.2005 - mean_squared_error: 0.2005 - val_loss: 0.2471 - val_mean_squared_error: 0.2471\n",
            "Epoch 474/1000\n",
            "60/60 [==============================] - 0s 199us/sample - loss: 0.1959 - mean_squared_error: 0.1959 - val_loss: 0.2569 - val_mean_squared_error: 0.2569\n",
            "Epoch 475/1000\n",
            "60/60 [==============================] - 0s 194us/sample - loss: 0.2591 - mean_squared_error: 0.2591 - val_loss: 0.3759 - val_mean_squared_error: 0.3759\n",
            "Epoch 476/1000\n",
            "60/60 [==============================] - 0s 202us/sample - loss: 0.2106 - mean_squared_error: 0.2106 - val_loss: 0.2485 - val_mean_squared_error: 0.2485\n",
            "Epoch 477/1000\n",
            "60/60 [==============================] - 0s 173us/sample - loss: 0.2084 - mean_squared_error: 0.2084 - val_loss: 0.2624 - val_mean_squared_error: 0.2624\n",
            "Epoch 478/1000\n",
            "60/60 [==============================] - 0s 185us/sample - loss: 0.2190 - mean_squared_error: 0.2190 - val_loss: 0.2469 - val_mean_squared_error: 0.2469\n",
            "Epoch 479/1000\n",
            "60/60 [==============================] - 0s 272us/sample - loss: 0.1972 - mean_squared_error: 0.1972 - val_loss: 0.2631 - val_mean_squared_error: 0.2631\n",
            "Epoch 480/1000\n",
            "60/60 [==============================] - 0s 264us/sample - loss: 0.1954 - mean_squared_error: 0.1954 - val_loss: 0.2438 - val_mean_squared_error: 0.2438\n",
            "Epoch 481/1000\n",
            "60/60 [==============================] - 0s 223us/sample - loss: 0.1952 - mean_squared_error: 0.1952 - val_loss: 0.2517 - val_mean_squared_error: 0.2517\n",
            "Epoch 482/1000\n",
            "60/60 [==============================] - 0s 209us/sample - loss: 0.1992 - mean_squared_error: 0.1992 - val_loss: 0.2784 - val_mean_squared_error: 0.2784\n",
            "Epoch 483/1000\n",
            "60/60 [==============================] - 0s 201us/sample - loss: 0.2063 - mean_squared_error: 0.2063 - val_loss: 0.2555 - val_mean_squared_error: 0.2555\n",
            "Epoch 484/1000\n",
            "60/60 [==============================] - 0s 165us/sample - loss: 0.1982 - mean_squared_error: 0.1982 - val_loss: 0.2534 - val_mean_squared_error: 0.2534\n",
            "Epoch 485/1000\n",
            "60/60 [==============================] - 0s 178us/sample - loss: 0.2067 - mean_squared_error: 0.2067 - val_loss: 0.2482 - val_mean_squared_error: 0.2482\n",
            "Epoch 486/1000\n",
            "60/60 [==============================] - 0s 222us/sample - loss: 0.2051 - mean_squared_error: 0.2051 - val_loss: 0.2485 - val_mean_squared_error: 0.2485\n",
            "Epoch 487/1000\n",
            "60/60 [==============================] - 0s 158us/sample - loss: 0.2285 - mean_squared_error: 0.2285 - val_loss: 0.2958 - val_mean_squared_error: 0.2958\n",
            "Epoch 488/1000\n",
            "60/60 [==============================] - 0s 201us/sample - loss: 0.2531 - mean_squared_error: 0.2531 - val_loss: 0.2449 - val_mean_squared_error: 0.2449\n",
            "Epoch 489/1000\n",
            "60/60 [==============================] - 0s 173us/sample - loss: 0.1907 - mean_squared_error: 0.1907 - val_loss: 0.2430 - val_mean_squared_error: 0.2430\n",
            "Epoch 490/1000\n",
            "60/60 [==============================] - 0s 219us/sample - loss: 0.1907 - mean_squared_error: 0.1907 - val_loss: 0.2413 - val_mean_squared_error: 0.2413\n",
            "Epoch 491/1000\n",
            "60/60 [==============================] - 0s 166us/sample - loss: 0.1926 - mean_squared_error: 0.1926 - val_loss: 0.2897 - val_mean_squared_error: 0.2897\n",
            "Epoch 492/1000\n",
            "60/60 [==============================] - 0s 170us/sample - loss: 0.2111 - mean_squared_error: 0.2111 - val_loss: 0.2453 - val_mean_squared_error: 0.2453\n",
            "Epoch 493/1000\n",
            "60/60 [==============================] - 0s 203us/sample - loss: 0.1995 - mean_squared_error: 0.1995 - val_loss: 0.2431 - val_mean_squared_error: 0.2431\n",
            "Epoch 494/1000\n",
            "60/60 [==============================] - 0s 207us/sample - loss: 0.1939 - mean_squared_error: 0.1939 - val_loss: 0.2411 - val_mean_squared_error: 0.2411\n",
            "Epoch 495/1000\n",
            "60/60 [==============================] - 0s 199us/sample - loss: 0.2011 - mean_squared_error: 0.2011 - val_loss: 0.2627 - val_mean_squared_error: 0.2627\n",
            "Epoch 496/1000\n",
            "60/60 [==============================] - 0s 197us/sample - loss: 0.2528 - mean_squared_error: 0.2528 - val_loss: 0.2547 - val_mean_squared_error: 0.2547\n",
            "Epoch 497/1000\n",
            "60/60 [==============================] - 0s 171us/sample - loss: 0.2079 - mean_squared_error: 0.2079 - val_loss: 0.2455 - val_mean_squared_error: 0.2455\n",
            "Epoch 498/1000\n",
            "60/60 [==============================] - 0s 171us/sample - loss: 0.2487 - mean_squared_error: 0.2487 - val_loss: 0.2539 - val_mean_squared_error: 0.2539\n",
            "Epoch 499/1000\n",
            "60/60 [==============================] - 0s 171us/sample - loss: 0.2067 - mean_squared_error: 0.2067 - val_loss: 0.2587 - val_mean_squared_error: 0.2587\n",
            "Epoch 500/1000\n",
            "60/60 [==============================] - 0s 204us/sample - loss: 0.2151 - mean_squared_error: 0.2151 - val_loss: 0.2493 - val_mean_squared_error: 0.2493\n",
            "Epoch 501/1000\n",
            "60/60 [==============================] - 0s 208us/sample - loss: 0.2388 - mean_squared_error: 0.2388 - val_loss: 0.2380 - val_mean_squared_error: 0.2380\n",
            "Epoch 502/1000\n",
            "60/60 [==============================] - 0s 205us/sample - loss: 0.2207 - mean_squared_error: 0.2207 - val_loss: 0.2530 - val_mean_squared_error: 0.2530\n",
            "Epoch 503/1000\n",
            "60/60 [==============================] - 0s 169us/sample - loss: 0.1928 - mean_squared_error: 0.1928 - val_loss: 0.2421 - val_mean_squared_error: 0.2421\n",
            "Epoch 504/1000\n",
            "60/60 [==============================] - 0s 211us/sample - loss: 0.1882 - mean_squared_error: 0.1882 - val_loss: 0.2390 - val_mean_squared_error: 0.2390\n",
            "Epoch 505/1000\n",
            "60/60 [==============================] - 0s 188us/sample - loss: 0.2179 - mean_squared_error: 0.2179 - val_loss: 0.2394 - val_mean_squared_error: 0.2394\n",
            "Epoch 506/1000\n",
            "60/60 [==============================] - 0s 164us/sample - loss: 0.1893 - mean_squared_error: 0.1893 - val_loss: 0.2375 - val_mean_squared_error: 0.2375\n",
            "Epoch 507/1000\n",
            "60/60 [==============================] - 0s 206us/sample - loss: 0.1957 - mean_squared_error: 0.1957 - val_loss: 0.2654 - val_mean_squared_error: 0.2654\n",
            "Epoch 508/1000\n",
            "60/60 [==============================] - 0s 194us/sample - loss: 0.2468 - mean_squared_error: 0.2468 - val_loss: 0.2458 - val_mean_squared_error: 0.2458\n",
            "Epoch 509/1000\n",
            "60/60 [==============================] - 0s 230us/sample - loss: 0.1901 - mean_squared_error: 0.1901 - val_loss: 0.2370 - val_mean_squared_error: 0.2370\n",
            "Epoch 510/1000\n",
            "60/60 [==============================] - 0s 184us/sample - loss: 0.2114 - mean_squared_error: 0.2114 - val_loss: 0.2430 - val_mean_squared_error: 0.2430\n",
            "Epoch 511/1000\n",
            "60/60 [==============================] - 0s 166us/sample - loss: 0.1849 - mean_squared_error: 0.1849 - val_loss: 0.2361 - val_mean_squared_error: 0.2361\n",
            "Epoch 512/1000\n",
            "60/60 [==============================] - 0s 220us/sample - loss: 0.1866 - mean_squared_error: 0.1866 - val_loss: 0.2377 - val_mean_squared_error: 0.2377\n",
            "Epoch 513/1000\n",
            "60/60 [==============================] - 0s 230us/sample - loss: 0.1888 - mean_squared_error: 0.1888 - val_loss: 0.2511 - val_mean_squared_error: 0.2511\n",
            "Epoch 514/1000\n",
            "60/60 [==============================] - 0s 179us/sample - loss: 0.2702 - mean_squared_error: 0.2702 - val_loss: 0.2389 - val_mean_squared_error: 0.2389\n",
            "Epoch 515/1000\n",
            "60/60 [==============================] - 0s 237us/sample - loss: 0.1902 - mean_squared_error: 0.1902 - val_loss: 0.2377 - val_mean_squared_error: 0.2377\n",
            "Epoch 516/1000\n",
            "60/60 [==============================] - 0s 304us/sample - loss: 0.1934 - mean_squared_error: 0.1934 - val_loss: 0.2495 - val_mean_squared_error: 0.2495\n",
            "Epoch 517/1000\n",
            "60/60 [==============================] - 0s 197us/sample - loss: 0.2281 - mean_squared_error: 0.2281 - val_loss: 0.2550 - val_mean_squared_error: 0.2550\n",
            "Epoch 518/1000\n",
            "60/60 [==============================] - 0s 192us/sample - loss: 0.1975 - mean_squared_error: 0.1975 - val_loss: 0.2358 - val_mean_squared_error: 0.2358\n",
            "Epoch 519/1000\n",
            "60/60 [==============================] - 0s 172us/sample - loss: 0.2479 - mean_squared_error: 0.2479 - val_loss: 0.2915 - val_mean_squared_error: 0.2915\n",
            "Epoch 520/1000\n",
            "60/60 [==============================] - 0s 165us/sample - loss: 0.2303 - mean_squared_error: 0.2303 - val_loss: 0.2340 - val_mean_squared_error: 0.2340\n",
            "Epoch 521/1000\n",
            "60/60 [==============================] - 0s 213us/sample - loss: 0.2272 - mean_squared_error: 0.2272 - val_loss: 0.2620 - val_mean_squared_error: 0.2620\n",
            "Epoch 522/1000\n",
            "60/60 [==============================] - 0s 207us/sample - loss: 0.2239 - mean_squared_error: 0.2239 - val_loss: 0.2366 - val_mean_squared_error: 0.2366\n",
            "Epoch 523/1000\n",
            "60/60 [==============================] - 0s 212us/sample - loss: 0.1963 - mean_squared_error: 0.1963 - val_loss: 0.2453 - val_mean_squared_error: 0.2453\n",
            "Epoch 524/1000\n",
            "60/60 [==============================] - 0s 207us/sample - loss: 0.1910 - mean_squared_error: 0.1910 - val_loss: 0.2639 - val_mean_squared_error: 0.2639\n",
            "Epoch 525/1000\n",
            "60/60 [==============================] - 0s 181us/sample - loss: 0.1908 - mean_squared_error: 0.1908 - val_loss: 0.2405 - val_mean_squared_error: 0.2405\n",
            "Epoch 526/1000\n",
            "60/60 [==============================] - 0s 170us/sample - loss: 0.1948 - mean_squared_error: 0.1948 - val_loss: 0.2387 - val_mean_squared_error: 0.2387\n",
            "Epoch 527/1000\n",
            "60/60 [==============================] - 0s 177us/sample - loss: 0.2067 - mean_squared_error: 0.2067 - val_loss: 0.3721 - val_mean_squared_error: 0.3721\n",
            "Epoch 528/1000\n",
            "60/60 [==============================] - 0s 241us/sample - loss: 0.2697 - mean_squared_error: 0.2697 - val_loss: 0.2495 - val_mean_squared_error: 0.2495\n",
            "Epoch 529/1000\n",
            "60/60 [==============================] - 0s 206us/sample - loss: 0.2662 - mean_squared_error: 0.2662 - val_loss: 0.2412 - val_mean_squared_error: 0.2412\n",
            "Epoch 530/1000\n",
            "60/60 [==============================] - 0s 209us/sample - loss: 0.1844 - mean_squared_error: 0.1844 - val_loss: 0.2508 - val_mean_squared_error: 0.2508\n",
            "Epoch 531/1000\n",
            "60/60 [==============================] - 0s 220us/sample - loss: 0.2024 - mean_squared_error: 0.2024 - val_loss: 0.2349 - val_mean_squared_error: 0.2349\n",
            "Epoch 532/1000\n",
            "60/60 [==============================] - 0s 173us/sample - loss: 0.1964 - mean_squared_error: 0.1964 - val_loss: 0.2327 - val_mean_squared_error: 0.2327\n",
            "Epoch 533/1000\n",
            "60/60 [==============================] - 0s 238us/sample - loss: 0.1943 - mean_squared_error: 0.1943 - val_loss: 0.2399 - val_mean_squared_error: 0.2399\n",
            "Epoch 534/1000\n",
            "60/60 [==============================] - 0s 216us/sample - loss: 0.2528 - mean_squared_error: 0.2528 - val_loss: 0.3142 - val_mean_squared_error: 0.3142\n",
            "Epoch 535/1000\n",
            "60/60 [==============================] - 0s 284us/sample - loss: 0.2203 - mean_squared_error: 0.2203 - val_loss: 0.2445 - val_mean_squared_error: 0.2445\n",
            "Epoch 536/1000\n",
            "60/60 [==============================] - 0s 167us/sample - loss: 0.1814 - mean_squared_error: 0.1814 - val_loss: 0.2324 - val_mean_squared_error: 0.2324\n",
            "Epoch 537/1000\n",
            "60/60 [==============================] - 0s 194us/sample - loss: 0.1860 - mean_squared_error: 0.1860 - val_loss: 0.2368 - val_mean_squared_error: 0.2368\n",
            "Epoch 538/1000\n",
            "60/60 [==============================] - 0s 197us/sample - loss: 0.1872 - mean_squared_error: 0.1872 - val_loss: 0.2319 - val_mean_squared_error: 0.2319\n",
            "Epoch 539/1000\n",
            "60/60 [==============================] - 0s 189us/sample - loss: 0.1980 - mean_squared_error: 0.1980 - val_loss: 0.2335 - val_mean_squared_error: 0.2335\n",
            "Epoch 540/1000\n",
            "60/60 [==============================] - 0s 224us/sample - loss: 0.2054 - mean_squared_error: 0.2054 - val_loss: 0.2534 - val_mean_squared_error: 0.2534\n",
            "Epoch 541/1000\n",
            "60/60 [==============================] - 0s 222us/sample - loss: 0.2207 - mean_squared_error: 0.2207 - val_loss: 0.2394 - val_mean_squared_error: 0.2394\n",
            "Epoch 542/1000\n",
            "60/60 [==============================] - 0s 221us/sample - loss: 0.1990 - mean_squared_error: 0.1990 - val_loss: 0.2443 - val_mean_squared_error: 0.2443\n",
            "Epoch 543/1000\n",
            "60/60 [==============================] - 0s 241us/sample - loss: 0.1817 - mean_squared_error: 0.1817 - val_loss: 0.2340 - val_mean_squared_error: 0.2340\n",
            "Epoch 544/1000\n",
            "60/60 [==============================] - 0s 171us/sample - loss: 0.1852 - mean_squared_error: 0.1852 - val_loss: 0.2407 - val_mean_squared_error: 0.2407\n",
            "Epoch 545/1000\n",
            "60/60 [==============================] - 0s 213us/sample - loss: 0.1911 - mean_squared_error: 0.1911 - val_loss: 0.2293 - val_mean_squared_error: 0.2293\n",
            "Epoch 546/1000\n",
            "60/60 [==============================] - 0s 178us/sample - loss: 0.1874 - mean_squared_error: 0.1874 - val_loss: 0.2957 - val_mean_squared_error: 0.2957\n",
            "Epoch 547/1000\n",
            "60/60 [==============================] - 0s 190us/sample - loss: 0.1960 - mean_squared_error: 0.1960 - val_loss: 0.2292 - val_mean_squared_error: 0.2292\n",
            "Epoch 548/1000\n",
            "60/60 [==============================] - 0s 203us/sample - loss: 0.2043 - mean_squared_error: 0.2043 - val_loss: 0.2336 - val_mean_squared_error: 0.2336\n",
            "Epoch 549/1000\n",
            "60/60 [==============================] - 0s 201us/sample - loss: 0.2808 - mean_squared_error: 0.2808 - val_loss: 0.4394 - val_mean_squared_error: 0.4394\n",
            "Epoch 550/1000\n",
            "60/60 [==============================] - 0s 185us/sample - loss: 0.3346 - mean_squared_error: 0.3346 - val_loss: 0.2292 - val_mean_squared_error: 0.2292\n",
            "Epoch 551/1000\n",
            "60/60 [==============================] - 0s 200us/sample - loss: 0.1831 - mean_squared_error: 0.1831 - val_loss: 0.2307 - val_mean_squared_error: 0.2307\n",
            "Epoch 552/1000\n",
            "60/60 [==============================] - 0s 177us/sample - loss: 0.1966 - mean_squared_error: 0.1966 - val_loss: 0.2342 - val_mean_squared_error: 0.2342\n",
            "Epoch 553/1000\n",
            "60/60 [==============================] - 0s 236us/sample - loss: 0.1812 - mean_squared_error: 0.1812 - val_loss: 0.2680 - val_mean_squared_error: 0.2680\n",
            "Epoch 554/1000\n",
            "60/60 [==============================] - 0s 190us/sample - loss: 0.1968 - mean_squared_error: 0.1968 - val_loss: 0.2314 - val_mean_squared_error: 0.2314\n",
            "Epoch 555/1000\n",
            "60/60 [==============================] - 0s 178us/sample - loss: 0.1834 - mean_squared_error: 0.1834 - val_loss: 0.2333 - val_mean_squared_error: 0.2333\n",
            "Epoch 556/1000\n",
            "60/60 [==============================] - 0s 190us/sample - loss: 0.1822 - mean_squared_error: 0.1822 - val_loss: 0.2269 - val_mean_squared_error: 0.2269\n",
            "Epoch 557/1000\n",
            "60/60 [==============================] - 0s 265us/sample - loss: 0.2002 - mean_squared_error: 0.2002 - val_loss: 0.2879 - val_mean_squared_error: 0.2879\n",
            "Epoch 558/1000\n",
            "60/60 [==============================] - 0s 246us/sample - loss: 0.1833 - mean_squared_error: 0.1833 - val_loss: 0.2273 - val_mean_squared_error: 0.2273\n",
            "Epoch 559/1000\n",
            "60/60 [==============================] - 0s 181us/sample - loss: 0.1828 - mean_squared_error: 0.1828 - val_loss: 0.2368 - val_mean_squared_error: 0.2368\n",
            "Epoch 560/1000\n",
            "60/60 [==============================] - 0s 171us/sample - loss: 0.1892 - mean_squared_error: 0.1892 - val_loss: 0.2306 - val_mean_squared_error: 0.2306\n",
            "Epoch 561/1000\n",
            "60/60 [==============================] - 0s 184us/sample - loss: 0.1902 - mean_squared_error: 0.1902 - val_loss: 0.2556 - val_mean_squared_error: 0.2556\n",
            "Epoch 562/1000\n",
            "60/60 [==============================] - 0s 187us/sample - loss: 0.1752 - mean_squared_error: 0.1752 - val_loss: 0.2285 - val_mean_squared_error: 0.2285\n",
            "Epoch 563/1000\n",
            "60/60 [==============================] - 0s 212us/sample - loss: 0.2256 - mean_squared_error: 0.2256 - val_loss: 0.2530 - val_mean_squared_error: 0.2530\n",
            "Epoch 564/1000\n",
            "60/60 [==============================] - 0s 203us/sample - loss: 0.2139 - mean_squared_error: 0.2139 - val_loss: 0.2319 - val_mean_squared_error: 0.2319\n",
            "Epoch 565/1000\n",
            "60/60 [==============================] - 0s 207us/sample - loss: 0.2025 - mean_squared_error: 0.2025 - val_loss: 0.2321 - val_mean_squared_error: 0.2321\n",
            "Epoch 566/1000\n",
            "60/60 [==============================] - 0s 182us/sample - loss: 0.1976 - mean_squared_error: 0.1976 - val_loss: 0.2252 - val_mean_squared_error: 0.2252\n",
            "Epoch 567/1000\n",
            "60/60 [==============================] - 0s 194us/sample - loss: 0.1744 - mean_squared_error: 0.1744 - val_loss: 0.2260 - val_mean_squared_error: 0.2260\n",
            "Epoch 568/1000\n",
            "60/60 [==============================] - 0s 189us/sample - loss: 0.1750 - mean_squared_error: 0.1750 - val_loss: 0.2714 - val_mean_squared_error: 0.2714\n",
            "Epoch 569/1000\n",
            "60/60 [==============================] - 0s 173us/sample - loss: 0.1884 - mean_squared_error: 0.1884 - val_loss: 0.2434 - val_mean_squared_error: 0.2434\n",
            "Epoch 570/1000\n",
            "60/60 [==============================] - 0s 222us/sample - loss: 0.1904 - mean_squared_error: 0.1904 - val_loss: 0.2305 - val_mean_squared_error: 0.2305\n",
            "Epoch 571/1000\n",
            "60/60 [==============================] - 0s 241us/sample - loss: 0.2088 - mean_squared_error: 0.2088 - val_loss: 0.2232 - val_mean_squared_error: 0.2232\n",
            "Epoch 572/1000\n",
            "60/60 [==============================] - 0s 206us/sample - loss: 0.2107 - mean_squared_error: 0.2107 - val_loss: 0.2321 - val_mean_squared_error: 0.2321\n",
            "Epoch 573/1000\n",
            "60/60 [==============================] - 0s 312us/sample - loss: 0.1842 - mean_squared_error: 0.1842 - val_loss: 0.2288 - val_mean_squared_error: 0.2288\n",
            "Epoch 574/1000\n",
            "60/60 [==============================] - 0s 217us/sample - loss: 0.1886 - mean_squared_error: 0.1886 - val_loss: 0.2240 - val_mean_squared_error: 0.2240\n",
            "Epoch 575/1000\n",
            "60/60 [==============================] - 0s 237us/sample - loss: 0.1729 - mean_squared_error: 0.1729 - val_loss: 0.2286 - val_mean_squared_error: 0.2286\n",
            "Epoch 576/1000\n",
            "60/60 [==============================] - 0s 180us/sample - loss: 0.1734 - mean_squared_error: 0.1734 - val_loss: 0.2339 - val_mean_squared_error: 0.2339\n",
            "Epoch 577/1000\n",
            "60/60 [==============================] - 0s 223us/sample - loss: 0.1725 - mean_squared_error: 0.1725 - val_loss: 0.2241 - val_mean_squared_error: 0.2241\n",
            "Epoch 578/1000\n",
            "60/60 [==============================] - 0s 290us/sample - loss: 0.1854 - mean_squared_error: 0.1854 - val_loss: 0.2693 - val_mean_squared_error: 0.2693\n",
            "Epoch 579/1000\n",
            "60/60 [==============================] - 0s 194us/sample - loss: 0.1918 - mean_squared_error: 0.1918 - val_loss: 0.2227 - val_mean_squared_error: 0.2227\n",
            "Epoch 580/1000\n",
            "60/60 [==============================] - 0s 258us/sample - loss: 0.1777 - mean_squared_error: 0.1777 - val_loss: 0.2253 - val_mean_squared_error: 0.2253\n",
            "Epoch 581/1000\n",
            "60/60 [==============================] - 0s 406us/sample - loss: 0.2131 - mean_squared_error: 0.2131 - val_loss: 0.2219 - val_mean_squared_error: 0.2219\n",
            "Epoch 582/1000\n",
            "60/60 [==============================] - 0s 224us/sample - loss: 0.1761 - mean_squared_error: 0.1761 - val_loss: 0.2298 - val_mean_squared_error: 0.2298\n",
            "Epoch 583/1000\n",
            "60/60 [==============================] - 0s 243us/sample - loss: 0.2154 - mean_squared_error: 0.2154 - val_loss: 0.2417 - val_mean_squared_error: 0.2417\n",
            "Epoch 584/1000\n",
            "60/60 [==============================] - 0s 209us/sample - loss: 0.1758 - mean_squared_error: 0.1758 - val_loss: 0.2210 - val_mean_squared_error: 0.2210\n",
            "Epoch 585/1000\n",
            "60/60 [==============================] - 0s 216us/sample - loss: 0.1788 - mean_squared_error: 0.1788 - val_loss: 0.2454 - val_mean_squared_error: 0.2454\n",
            "Epoch 586/1000\n",
            "60/60 [==============================] - 0s 244us/sample - loss: 0.1908 - mean_squared_error: 0.1908 - val_loss: 0.2301 - val_mean_squared_error: 0.2301\n",
            "Epoch 587/1000\n",
            "60/60 [==============================] - 0s 230us/sample - loss: 0.1822 - mean_squared_error: 0.1822 - val_loss: 0.2456 - val_mean_squared_error: 0.2456\n",
            "Epoch 588/1000\n",
            "60/60 [==============================] - 0s 321us/sample - loss: 0.1812 - mean_squared_error: 0.1812 - val_loss: 0.2516 - val_mean_squared_error: 0.2516\n",
            "Epoch 589/1000\n",
            "60/60 [==============================] - 0s 287us/sample - loss: 0.2232 - mean_squared_error: 0.2232 - val_loss: 0.2706 - val_mean_squared_error: 0.2706\n",
            "Epoch 590/1000\n",
            "60/60 [==============================] - 0s 244us/sample - loss: 0.1936 - mean_squared_error: 0.1936 - val_loss: 0.2713 - val_mean_squared_error: 0.2713\n",
            "Epoch 591/1000\n",
            "60/60 [==============================] - 0s 203us/sample - loss: 0.1805 - mean_squared_error: 0.1805 - val_loss: 0.2275 - val_mean_squared_error: 0.2275\n",
            "Epoch 592/1000\n",
            "60/60 [==============================] - 0s 260us/sample - loss: 0.1722 - mean_squared_error: 0.1722 - val_loss: 0.2317 - val_mean_squared_error: 0.2317\n",
            "Epoch 593/1000\n",
            "60/60 [==============================] - 0s 203us/sample - loss: 0.2003 - mean_squared_error: 0.2003 - val_loss: 0.2305 - val_mean_squared_error: 0.2305\n",
            "Epoch 594/1000\n",
            "60/60 [==============================] - 0s 249us/sample - loss: 0.1735 - mean_squared_error: 0.1735 - val_loss: 0.2320 - val_mean_squared_error: 0.2320\n",
            "Epoch 595/1000\n",
            "60/60 [==============================] - 0s 232us/sample - loss: 0.1750 - mean_squared_error: 0.1750 - val_loss: 0.2417 - val_mean_squared_error: 0.2417\n",
            "Epoch 596/1000\n",
            "60/60 [==============================] - 0s 193us/sample - loss: 0.1678 - mean_squared_error: 0.1678 - val_loss: 0.2208 - val_mean_squared_error: 0.2208\n",
            "Epoch 597/1000\n",
            "60/60 [==============================] - 0s 241us/sample - loss: 0.1678 - mean_squared_error: 0.1678 - val_loss: 0.2398 - val_mean_squared_error: 0.2398\n",
            "Epoch 598/1000\n",
            "60/60 [==============================] - 0s 318us/sample - loss: 0.1742 - mean_squared_error: 0.1742 - val_loss: 0.2185 - val_mean_squared_error: 0.2185\n",
            "Epoch 599/1000\n",
            "60/60 [==============================] - 0s 282us/sample - loss: 0.1669 - mean_squared_error: 0.1669 - val_loss: 0.2193 - val_mean_squared_error: 0.2193\n",
            "Epoch 600/1000\n",
            "60/60 [==============================] - 0s 312us/sample - loss: 0.1738 - mean_squared_error: 0.1738 - val_loss: 0.2199 - val_mean_squared_error: 0.2199\n",
            "Epoch 601/1000\n",
            "60/60 [==============================] - 0s 326us/sample - loss: 0.1716 - mean_squared_error: 0.1716 - val_loss: 0.2702 - val_mean_squared_error: 0.2702\n",
            "Epoch 602/1000\n",
            "60/60 [==============================] - 0s 364us/sample - loss: 0.1812 - mean_squared_error: 0.1812 - val_loss: 0.2339 - val_mean_squared_error: 0.2339\n",
            "Epoch 603/1000\n",
            "60/60 [==============================] - 0s 277us/sample - loss: 0.1734 - mean_squared_error: 0.1734 - val_loss: 0.2329 - val_mean_squared_error: 0.2329\n",
            "Epoch 604/1000\n",
            "60/60 [==============================] - 0s 238us/sample - loss: 0.1716 - mean_squared_error: 0.1716 - val_loss: 0.2184 - val_mean_squared_error: 0.2184\n",
            "Epoch 605/1000\n",
            "60/60 [==============================] - 0s 212us/sample - loss: 0.2003 - mean_squared_error: 0.2003 - val_loss: 0.2358 - val_mean_squared_error: 0.2358\n",
            "Epoch 606/1000\n",
            "60/60 [==============================] - 0s 191us/sample - loss: 0.2190 - mean_squared_error: 0.2190 - val_loss: 0.3168 - val_mean_squared_error: 0.3168\n",
            "Epoch 607/1000\n",
            "60/60 [==============================] - 0s 254us/sample - loss: 0.1947 - mean_squared_error: 0.1947 - val_loss: 0.2322 - val_mean_squared_error: 0.2322\n",
            "Epoch 608/1000\n",
            "60/60 [==============================] - 0s 262us/sample - loss: 0.1813 - mean_squared_error: 0.1813 - val_loss: 0.2179 - val_mean_squared_error: 0.2179\n",
            "Epoch 609/1000\n",
            "60/60 [==============================] - 0s 177us/sample - loss: 0.1725 - mean_squared_error: 0.1725 - val_loss: 0.2171 - val_mean_squared_error: 0.2171\n",
            "Epoch 610/1000\n",
            "60/60 [==============================] - 0s 174us/sample - loss: 0.1871 - mean_squared_error: 0.1871 - val_loss: 0.2378 - val_mean_squared_error: 0.2378\n",
            "Epoch 611/1000\n",
            "60/60 [==============================] - 0s 193us/sample - loss: 0.2302 - mean_squared_error: 0.2302 - val_loss: 0.2160 - val_mean_squared_error: 0.2160\n",
            "Epoch 612/1000\n",
            "60/60 [==============================] - 0s 167us/sample - loss: 0.1680 - mean_squared_error: 0.1680 - val_loss: 0.2289 - val_mean_squared_error: 0.2289\n",
            "Epoch 613/1000\n",
            "60/60 [==============================] - 0s 160us/sample - loss: 0.2181 - mean_squared_error: 0.2181 - val_loss: 0.2308 - val_mean_squared_error: 0.2308\n",
            "Epoch 614/1000\n",
            "60/60 [==============================] - 0s 217us/sample - loss: 0.2101 - mean_squared_error: 0.2101 - val_loss: 0.2176 - val_mean_squared_error: 0.2176\n",
            "Epoch 615/1000\n",
            "60/60 [==============================] - 0s 187us/sample - loss: 0.1946 - mean_squared_error: 0.1946 - val_loss: 0.2737 - val_mean_squared_error: 0.2737\n",
            "Epoch 616/1000\n",
            "60/60 [==============================] - 0s 224us/sample - loss: 0.2580 - mean_squared_error: 0.2580 - val_loss: 0.2344 - val_mean_squared_error: 0.2344\n",
            "Epoch 617/1000\n",
            "60/60 [==============================] - 0s 209us/sample - loss: 0.2043 - mean_squared_error: 0.2043 - val_loss: 0.2407 - val_mean_squared_error: 0.2407\n",
            "Epoch 618/1000\n",
            "60/60 [==============================] - 0s 253us/sample - loss: 0.1711 - mean_squared_error: 0.1711 - val_loss: 0.2156 - val_mean_squared_error: 0.2156\n",
            "Epoch 619/1000\n",
            "60/60 [==============================] - 0s 176us/sample - loss: 0.1674 - mean_squared_error: 0.1674 - val_loss: 0.2198 - val_mean_squared_error: 0.2198\n",
            "Epoch 620/1000\n",
            "60/60 [==============================] - 0s 200us/sample - loss: 0.1926 - mean_squared_error: 0.1926 - val_loss: 0.2219 - val_mean_squared_error: 0.2219\n",
            "Epoch 621/1000\n",
            "60/60 [==============================] - 0s 219us/sample - loss: 0.1672 - mean_squared_error: 0.1672 - val_loss: 0.2171 - val_mean_squared_error: 0.2171\n",
            "Epoch 622/1000\n",
            "60/60 [==============================] - 0s 209us/sample - loss: 0.1675 - mean_squared_error: 0.1675 - val_loss: 0.2512 - val_mean_squared_error: 0.2512\n",
            "Epoch 623/1000\n",
            "60/60 [==============================] - 0s 182us/sample - loss: 0.1885 - mean_squared_error: 0.1885 - val_loss: 0.2742 - val_mean_squared_error: 0.2742\n",
            "Epoch 624/1000\n",
            "60/60 [==============================] - 0s 228us/sample - loss: 0.1706 - mean_squared_error: 0.1706 - val_loss: 0.2167 - val_mean_squared_error: 0.2167\n",
            "Epoch 625/1000\n",
            "60/60 [==============================] - 0s 217us/sample - loss: 0.1679 - mean_squared_error: 0.1679 - val_loss: 0.2170 - val_mean_squared_error: 0.2170\n",
            "Epoch 626/1000\n",
            "60/60 [==============================] - 0s 179us/sample - loss: 0.1639 - mean_squared_error: 0.1639 - val_loss: 0.2139 - val_mean_squared_error: 0.2139\n",
            "Epoch 627/1000\n",
            "60/60 [==============================] - 0s 179us/sample - loss: 0.1864 - mean_squared_error: 0.1864 - val_loss: 0.2148 - val_mean_squared_error: 0.2148\n",
            "Epoch 628/1000\n",
            "60/60 [==============================] - 0s 187us/sample - loss: 0.1836 - mean_squared_error: 0.1836 - val_loss: 0.2190 - val_mean_squared_error: 0.2190\n",
            "Epoch 629/1000\n",
            "60/60 [==============================] - 0s 223us/sample - loss: 0.1710 - mean_squared_error: 0.1710 - val_loss: 0.2304 - val_mean_squared_error: 0.2304\n",
            "Epoch 630/1000\n",
            "60/60 [==============================] - 0s 185us/sample - loss: 0.1633 - mean_squared_error: 0.1633 - val_loss: 0.2139 - val_mean_squared_error: 0.2139\n",
            "Epoch 631/1000\n",
            "60/60 [==============================] - 0s 173us/sample - loss: 0.1837 - mean_squared_error: 0.1837 - val_loss: 0.2344 - val_mean_squared_error: 0.2344\n",
            "Epoch 632/1000\n",
            "60/60 [==============================] - 0s 163us/sample - loss: 0.1653 - mean_squared_error: 0.1653 - val_loss: 0.2128 - val_mean_squared_error: 0.2128\n",
            "Epoch 633/1000\n",
            "60/60 [==============================] - 0s 181us/sample - loss: 0.1695 - mean_squared_error: 0.1695 - val_loss: 0.2202 - val_mean_squared_error: 0.2202\n",
            "Epoch 634/1000\n",
            "60/60 [==============================] - 0s 183us/sample - loss: 0.1641 - mean_squared_error: 0.1641 - val_loss: 0.2372 - val_mean_squared_error: 0.2372\n",
            "Epoch 635/1000\n",
            "60/60 [==============================] - 0s 164us/sample - loss: 0.1732 - mean_squared_error: 0.1732 - val_loss: 0.2229 - val_mean_squared_error: 0.2229\n",
            "Epoch 636/1000\n",
            "60/60 [==============================] - 0s 182us/sample - loss: 0.1688 - mean_squared_error: 0.1688 - val_loss: 0.2139 - val_mean_squared_error: 0.2139\n",
            "Epoch 637/1000\n",
            "60/60 [==============================] - 0s 172us/sample - loss: 0.1612 - mean_squared_error: 0.1612 - val_loss: 0.2138 - val_mean_squared_error: 0.2138\n",
            "Epoch 638/1000\n",
            "60/60 [==============================] - 0s 167us/sample - loss: 0.1757 - mean_squared_error: 0.1757 - val_loss: 0.3357 - val_mean_squared_error: 0.3357\n",
            "Epoch 639/1000\n",
            "60/60 [==============================] - 0s 180us/sample - loss: 0.1992 - mean_squared_error: 0.1992 - val_loss: 0.2129 - val_mean_squared_error: 0.2129\n",
            "Epoch 640/1000\n",
            "60/60 [==============================] - 0s 191us/sample - loss: 0.1656 - mean_squared_error: 0.1656 - val_loss: 0.2242 - val_mean_squared_error: 0.2242\n",
            "Epoch 641/1000\n",
            "60/60 [==============================] - 0s 185us/sample - loss: 0.1754 - mean_squared_error: 0.1754 - val_loss: 0.2897 - val_mean_squared_error: 0.2897\n",
            "Epoch 642/1000\n",
            "60/60 [==============================] - 0s 187us/sample - loss: 0.2483 - mean_squared_error: 0.2483 - val_loss: 0.2197 - val_mean_squared_error: 0.2197\n",
            "Epoch 643/1000\n",
            "60/60 [==============================] - 0s 282us/sample - loss: 0.1722 - mean_squared_error: 0.1722 - val_loss: 0.2280 - val_mean_squared_error: 0.2280\n",
            "Epoch 644/1000\n",
            "60/60 [==============================] - 0s 200us/sample - loss: 0.1835 - mean_squared_error: 0.1835 - val_loss: 0.2306 - val_mean_squared_error: 0.2306\n",
            "Epoch 645/1000\n",
            "60/60 [==============================] - 0s 186us/sample - loss: 0.1718 - mean_squared_error: 0.1718 - val_loss: 0.2105 - val_mean_squared_error: 0.2105\n",
            "Epoch 646/1000\n",
            "60/60 [==============================] - 0s 185us/sample - loss: 0.1674 - mean_squared_error: 0.1674 - val_loss: 0.2116 - val_mean_squared_error: 0.2116\n",
            "Epoch 647/1000\n",
            "60/60 [==============================] - 0s 212us/sample - loss: 0.1906 - mean_squared_error: 0.1906 - val_loss: 0.2449 - val_mean_squared_error: 0.2449\n",
            "Epoch 648/1000\n",
            "60/60 [==============================] - 0s 241us/sample - loss: 0.1904 - mean_squared_error: 0.1904 - val_loss: 0.2421 - val_mean_squared_error: 0.2421\n",
            "Epoch 649/1000\n",
            "60/60 [==============================] - 0s 220us/sample - loss: 0.2034 - mean_squared_error: 0.2034 - val_loss: 0.2112 - val_mean_squared_error: 0.2112\n",
            "Epoch 650/1000\n",
            "60/60 [==============================] - 0s 219us/sample - loss: 0.2137 - mean_squared_error: 0.2137 - val_loss: 0.2801 - val_mean_squared_error: 0.2801\n",
            "Epoch 651/1000\n",
            "60/60 [==============================] - 0s 195us/sample - loss: 0.1619 - mean_squared_error: 0.1619 - val_loss: 0.2142 - val_mean_squared_error: 0.2142\n",
            "Epoch 652/1000\n",
            "60/60 [==============================] - 0s 182us/sample - loss: 0.1573 - mean_squared_error: 0.1573 - val_loss: 0.2242 - val_mean_squared_error: 0.2242\n",
            "Epoch 653/1000\n",
            "60/60 [==============================] - 0s 187us/sample - loss: 0.1581 - mean_squared_error: 0.1581 - val_loss: 0.2102 - val_mean_squared_error: 0.2102\n",
            "Epoch 654/1000\n",
            "60/60 [==============================] - 0s 188us/sample - loss: 0.1732 - mean_squared_error: 0.1732 - val_loss: 0.2099 - val_mean_squared_error: 0.2099\n",
            "Epoch 655/1000\n",
            "60/60 [==============================] - 0s 187us/sample - loss: 0.1626 - mean_squared_error: 0.1626 - val_loss: 0.2333 - val_mean_squared_error: 0.2333\n",
            "Epoch 656/1000\n",
            "60/60 [==============================] - 0s 158us/sample - loss: 0.1622 - mean_squared_error: 0.1622 - val_loss: 0.2128 - val_mean_squared_error: 0.2128\n",
            "Epoch 657/1000\n",
            "60/60 [==============================] - 0s 182us/sample - loss: 0.1623 - mean_squared_error: 0.1623 - val_loss: 0.2236 - val_mean_squared_error: 0.2236\n",
            "Epoch 658/1000\n",
            "60/60 [==============================] - 0s 184us/sample - loss: 0.1588 - mean_squared_error: 0.1588 - val_loss: 0.2144 - val_mean_squared_error: 0.2144\n",
            "Epoch 659/1000\n",
            "60/60 [==============================] - 0s 181us/sample - loss: 0.1677 - mean_squared_error: 0.1677 - val_loss: 0.2102 - val_mean_squared_error: 0.2102\n",
            "Epoch 660/1000\n",
            "60/60 [==============================] - 0s 164us/sample - loss: 0.1686 - mean_squared_error: 0.1686 - val_loss: 0.2087 - val_mean_squared_error: 0.2087\n",
            "Epoch 661/1000\n",
            "60/60 [==============================] - 0s 174us/sample - loss: 0.1585 - mean_squared_error: 0.1585 - val_loss: 0.2089 - val_mean_squared_error: 0.2089\n",
            "Epoch 662/1000\n",
            "60/60 [==============================] - 0s 204us/sample - loss: 0.1695 - mean_squared_error: 0.1695 - val_loss: 0.2106 - val_mean_squared_error: 0.2106\n",
            "Epoch 663/1000\n",
            "60/60 [==============================] - 0s 219us/sample - loss: 0.1579 - mean_squared_error: 0.1579 - val_loss: 0.2234 - val_mean_squared_error: 0.2234\n",
            "Epoch 664/1000\n",
            "60/60 [==============================] - 0s 200us/sample - loss: 0.2102 - mean_squared_error: 0.2102 - val_loss: 0.2086 - val_mean_squared_error: 0.2086\n",
            "Epoch 665/1000\n",
            "60/60 [==============================] - 0s 213us/sample - loss: 0.1553 - mean_squared_error: 0.1553 - val_loss: 0.2221 - val_mean_squared_error: 0.2221\n",
            "Epoch 666/1000\n",
            "60/60 [==============================] - 0s 215us/sample - loss: 0.1727 - mean_squared_error: 0.1727 - val_loss: 0.2251 - val_mean_squared_error: 0.2251\n",
            "Epoch 667/1000\n",
            "60/60 [==============================] - 0s 174us/sample - loss: 0.1566 - mean_squared_error: 0.1566 - val_loss: 0.2079 - val_mean_squared_error: 0.2079\n",
            "Epoch 668/1000\n",
            "60/60 [==============================] - 0s 176us/sample - loss: 0.1577 - mean_squared_error: 0.1577 - val_loss: 0.2550 - val_mean_squared_error: 0.2550\n",
            "Epoch 669/1000\n",
            "60/60 [==============================] - 0s 227us/sample - loss: 0.1644 - mean_squared_error: 0.1644 - val_loss: 0.2264 - val_mean_squared_error: 0.2264\n",
            "Epoch 670/1000\n",
            "60/60 [==============================] - 0s 173us/sample - loss: 0.1667 - mean_squared_error: 0.1667 - val_loss: 0.2117 - val_mean_squared_error: 0.2117\n",
            "Epoch 671/1000\n",
            "60/60 [==============================] - 0s 174us/sample - loss: 0.1757 - mean_squared_error: 0.1757 - val_loss: 0.2085 - val_mean_squared_error: 0.2085\n",
            "Epoch 672/1000\n",
            "60/60 [==============================] - 0s 190us/sample - loss: 0.1658 - mean_squared_error: 0.1658 - val_loss: 0.2239 - val_mean_squared_error: 0.2239\n",
            "Epoch 673/1000\n",
            "60/60 [==============================] - 0s 196us/sample - loss: 0.1661 - mean_squared_error: 0.1661 - val_loss: 0.2075 - val_mean_squared_error: 0.2075\n",
            "Epoch 674/1000\n",
            "60/60 [==============================] - 0s 190us/sample - loss: 0.1532 - mean_squared_error: 0.1532 - val_loss: 0.2196 - val_mean_squared_error: 0.2196\n",
            "Epoch 675/1000\n",
            "60/60 [==============================] - 0s 265us/sample - loss: 0.1628 - mean_squared_error: 0.1628 - val_loss: 0.2216 - val_mean_squared_error: 0.2216\n",
            "Epoch 676/1000\n",
            "60/60 [==============================] - 0s 221us/sample - loss: 0.1533 - mean_squared_error: 0.1533 - val_loss: 0.2088 - val_mean_squared_error: 0.2088\n",
            "Epoch 677/1000\n",
            "60/60 [==============================] - 0s 203us/sample - loss: 0.1700 - mean_squared_error: 0.1700 - val_loss: 0.3050 - val_mean_squared_error: 0.3050\n",
            "Epoch 678/1000\n",
            "60/60 [==============================] - 0s 197us/sample - loss: 0.2419 - mean_squared_error: 0.2419 - val_loss: 0.2162 - val_mean_squared_error: 0.2162\n",
            "Epoch 679/1000\n",
            "60/60 [==============================] - 0s 221us/sample - loss: 0.1641 - mean_squared_error: 0.1641 - val_loss: 0.2504 - val_mean_squared_error: 0.2504\n",
            "Epoch 680/1000\n",
            "60/60 [==============================] - 0s 204us/sample - loss: 0.1704 - mean_squared_error: 0.1704 - val_loss: 0.2156 - val_mean_squared_error: 0.2156\n",
            "Epoch 681/1000\n",
            "60/60 [==============================] - 0s 223us/sample - loss: 0.1575 - mean_squared_error: 0.1575 - val_loss: 0.2147 - val_mean_squared_error: 0.2147\n",
            "Epoch 682/1000\n",
            "60/60 [==============================] - 0s 188us/sample - loss: 0.2115 - mean_squared_error: 0.2115 - val_loss: 0.2050 - val_mean_squared_error: 0.2050\n",
            "Epoch 683/1000\n",
            "60/60 [==============================] - 0s 229us/sample - loss: 0.1671 - mean_squared_error: 0.1671 - val_loss: 0.2185 - val_mean_squared_error: 0.2185\n",
            "Epoch 684/1000\n",
            "60/60 [==============================] - 0s 193us/sample - loss: 0.1573 - mean_squared_error: 0.1573 - val_loss: 0.2048 - val_mean_squared_error: 0.2048\n",
            "Epoch 685/1000\n",
            "60/60 [==============================] - 0s 216us/sample - loss: 0.1790 - mean_squared_error: 0.1790 - val_loss: 0.2123 - val_mean_squared_error: 0.2123\n",
            "Epoch 686/1000\n",
            "60/60 [==============================] - 0s 183us/sample - loss: 0.1778 - mean_squared_error: 0.1778 - val_loss: 0.2769 - val_mean_squared_error: 0.2769\n",
            "Epoch 687/1000\n",
            "60/60 [==============================] - 0s 211us/sample - loss: 0.1777 - mean_squared_error: 0.1777 - val_loss: 0.2746 - val_mean_squared_error: 0.2746\n",
            "Epoch 688/1000\n",
            "60/60 [==============================] - 0s 176us/sample - loss: 0.1813 - mean_squared_error: 0.1813 - val_loss: 0.2130 - val_mean_squared_error: 0.2130\n",
            "Epoch 689/1000\n",
            "60/60 [==============================] - 0s 201us/sample - loss: 0.1574 - mean_squared_error: 0.1574 - val_loss: 0.2055 - val_mean_squared_error: 0.2055\n",
            "Epoch 690/1000\n",
            "60/60 [==============================] - 0s 178us/sample - loss: 0.1726 - mean_squared_error: 0.1726 - val_loss: 0.2727 - val_mean_squared_error: 0.2727\n",
            "Epoch 691/1000\n",
            "60/60 [==============================] - 0s 191us/sample - loss: 0.1774 - mean_squared_error: 0.1774 - val_loss: 0.2118 - val_mean_squared_error: 0.2118\n",
            "Epoch 692/1000\n",
            "60/60 [==============================] - 0s 193us/sample - loss: 0.1599 - mean_squared_error: 0.1599 - val_loss: 0.2215 - val_mean_squared_error: 0.2215\n",
            "Epoch 693/1000\n",
            "60/60 [==============================] - 0s 197us/sample - loss: 0.1871 - mean_squared_error: 0.1871 - val_loss: 0.2048 - val_mean_squared_error: 0.2048\n",
            "Epoch 694/1000\n",
            "60/60 [==============================] - 0s 209us/sample - loss: 0.1549 - mean_squared_error: 0.1549 - val_loss: 0.2154 - val_mean_squared_error: 0.2154\n",
            "Epoch 695/1000\n",
            "60/60 [==============================] - 0s 181us/sample - loss: 0.1795 - mean_squared_error: 0.1795 - val_loss: 0.2387 - val_mean_squared_error: 0.2387\n",
            "Epoch 696/1000\n",
            "60/60 [==============================] - 0s 194us/sample - loss: 0.2310 - mean_squared_error: 0.2310 - val_loss: 0.2152 - val_mean_squared_error: 0.2152\n",
            "Epoch 697/1000\n",
            "60/60 [==============================] - 0s 268us/sample - loss: 0.1537 - mean_squared_error: 0.1537 - val_loss: 0.2064 - val_mean_squared_error: 0.2064\n",
            "Epoch 698/1000\n",
            "60/60 [==============================] - 0s 213us/sample - loss: 0.1631 - mean_squared_error: 0.1631 - val_loss: 0.2101 - val_mean_squared_error: 0.2101\n",
            "Epoch 699/1000\n",
            "60/60 [==============================] - 0s 200us/sample - loss: 0.1882 - mean_squared_error: 0.1882 - val_loss: 0.2244 - val_mean_squared_error: 0.2244\n",
            "Epoch 700/1000\n",
            "60/60 [==============================] - 0s 250us/sample - loss: 0.1647 - mean_squared_error: 0.1647 - val_loss: 0.2165 - val_mean_squared_error: 0.2165\n",
            "Epoch 701/1000\n",
            "60/60 [==============================] - 0s 263us/sample - loss: 0.1826 - mean_squared_error: 0.1826 - val_loss: 0.2326 - val_mean_squared_error: 0.2326\n",
            "Epoch 702/1000\n",
            "60/60 [==============================] - 0s 232us/sample - loss: 0.1725 - mean_squared_error: 0.1725 - val_loss: 0.2077 - val_mean_squared_error: 0.2077\n",
            "Epoch 703/1000\n",
            "60/60 [==============================] - 0s 207us/sample - loss: 0.1653 - mean_squared_error: 0.1653 - val_loss: 0.2128 - val_mean_squared_error: 0.2128\n",
            "Epoch 704/1000\n",
            "60/60 [==============================] - 0s 204us/sample - loss: 0.1578 - mean_squared_error: 0.1578 - val_loss: 0.2263 - val_mean_squared_error: 0.2263\n",
            "Epoch 705/1000\n",
            "60/60 [==============================] - 0s 196us/sample - loss: 0.1647 - mean_squared_error: 0.1647 - val_loss: 0.2352 - val_mean_squared_error: 0.2352\n",
            "Epoch 706/1000\n",
            "60/60 [==============================] - 0s 198us/sample - loss: 0.1869 - mean_squared_error: 0.1869 - val_loss: 0.2053 - val_mean_squared_error: 0.2053\n",
            "Epoch 707/1000\n",
            "60/60 [==============================] - 0s 180us/sample - loss: 0.1681 - mean_squared_error: 0.1681 - val_loss: 0.2518 - val_mean_squared_error: 0.2518\n",
            "Epoch 708/1000\n",
            "60/60 [==============================] - 0s 237us/sample - loss: 0.1652 - mean_squared_error: 0.1652 - val_loss: 0.2137 - val_mean_squared_error: 0.2137\n",
            "Epoch 709/1000\n",
            "60/60 [==============================] - 0s 244us/sample - loss: 0.1843 - mean_squared_error: 0.1843 - val_loss: 0.2023 - val_mean_squared_error: 0.2023\n",
            "Epoch 710/1000\n",
            "60/60 [==============================] - 0s 215us/sample - loss: 0.1728 - mean_squared_error: 0.1728 - val_loss: 0.2019 - val_mean_squared_error: 0.2019\n",
            "Epoch 711/1000\n",
            "60/60 [==============================] - 0s 193us/sample - loss: 0.1564 - mean_squared_error: 0.1564 - val_loss: 0.2578 - val_mean_squared_error: 0.2578\n",
            "Epoch 712/1000\n",
            "60/60 [==============================] - 0s 188us/sample - loss: 0.2267 - mean_squared_error: 0.2267 - val_loss: 0.2138 - val_mean_squared_error: 0.2138\n",
            "Epoch 713/1000\n",
            "60/60 [==============================] - 0s 184us/sample - loss: 0.1706 - mean_squared_error: 0.1706 - val_loss: 0.2057 - val_mean_squared_error: 0.2057\n",
            "Epoch 714/1000\n",
            "60/60 [==============================] - 0s 188us/sample - loss: 0.1566 - mean_squared_error: 0.1566 - val_loss: 0.2022 - val_mean_squared_error: 0.2022\n",
            "Epoch 715/1000\n",
            "60/60 [==============================] - 0s 197us/sample - loss: 0.1557 - mean_squared_error: 0.1557 - val_loss: 0.2015 - val_mean_squared_error: 0.2015\n",
            "Epoch 716/1000\n",
            "60/60 [==============================] - 0s 184us/sample - loss: 0.1549 - mean_squared_error: 0.1549 - val_loss: 0.2026 - val_mean_squared_error: 0.2026\n",
            "Epoch 717/1000\n",
            "60/60 [==============================] - 0s 192us/sample - loss: 0.1512 - mean_squared_error: 0.1512 - val_loss: 0.2160 - val_mean_squared_error: 0.2160\n",
            "Epoch 718/1000\n",
            "60/60 [==============================] - 0s 191us/sample - loss: 0.1595 - mean_squared_error: 0.1595 - val_loss: 0.2465 - val_mean_squared_error: 0.2465\n",
            "Epoch 719/1000\n",
            "60/60 [==============================] - 0s 208us/sample - loss: 0.1561 - mean_squared_error: 0.1561 - val_loss: 0.2043 - val_mean_squared_error: 0.2043\n",
            "Epoch 720/1000\n",
            "60/60 [==============================] - 0s 205us/sample - loss: 0.1609 - mean_squared_error: 0.1609 - val_loss: 0.2045 - val_mean_squared_error: 0.2045\n",
            "Epoch 721/1000\n",
            "60/60 [==============================] - 0s 218us/sample - loss: 0.1487 - mean_squared_error: 0.1487 - val_loss: 0.2294 - val_mean_squared_error: 0.2294\n",
            "Epoch 722/1000\n",
            "60/60 [==============================] - 0s 221us/sample - loss: 0.1563 - mean_squared_error: 0.1563 - val_loss: 0.2016 - val_mean_squared_error: 0.2016\n",
            "Epoch 723/1000\n",
            "60/60 [==============================] - 0s 182us/sample - loss: 0.1473 - mean_squared_error: 0.1473 - val_loss: 0.2364 - val_mean_squared_error: 0.2364\n",
            "Epoch 724/1000\n",
            "60/60 [==============================] - 0s 176us/sample - loss: 0.1580 - mean_squared_error: 0.1580 - val_loss: 0.2195 - val_mean_squared_error: 0.2195\n",
            "Epoch 725/1000\n",
            "60/60 [==============================] - 0s 179us/sample - loss: 0.1573 - mean_squared_error: 0.1573 - val_loss: 0.2019 - val_mean_squared_error: 0.2019\n",
            "Epoch 726/1000\n",
            "60/60 [==============================] - 0s 190us/sample - loss: 0.1652 - mean_squared_error: 0.1652 - val_loss: 0.2046 - val_mean_squared_error: 0.2046\n",
            "Epoch 727/1000\n",
            "60/60 [==============================] - 0s 186us/sample - loss: 0.1639 - mean_squared_error: 0.1639 - val_loss: 0.2205 - val_mean_squared_error: 0.2205\n",
            "Epoch 728/1000\n",
            "60/60 [==============================] - 0s 227us/sample - loss: 0.1556 - mean_squared_error: 0.1556 - val_loss: 0.2006 - val_mean_squared_error: 0.2006\n",
            "Epoch 729/1000\n",
            "60/60 [==============================] - 0s 208us/sample - loss: 0.1596 - mean_squared_error: 0.1596 - val_loss: 0.2090 - val_mean_squared_error: 0.2090\n",
            "Epoch 730/1000\n",
            "60/60 [==============================] - 0s 185us/sample - loss: 0.1822 - mean_squared_error: 0.1822 - val_loss: 0.2055 - val_mean_squared_error: 0.2055\n",
            "Epoch 731/1000\n",
            "60/60 [==============================] - 0s 182us/sample - loss: 0.1547 - mean_squared_error: 0.1547 - val_loss: 0.2009 - val_mean_squared_error: 0.2009\n",
            "Epoch 732/1000\n",
            "60/60 [==============================] - 0s 204us/sample - loss: 0.1503 - mean_squared_error: 0.1503 - val_loss: 0.2000 - val_mean_squared_error: 0.2000\n",
            "Epoch 733/1000\n",
            "60/60 [==============================] - 0s 207us/sample - loss: 0.1579 - mean_squared_error: 0.1579 - val_loss: 0.2181 - val_mean_squared_error: 0.2181\n",
            "Epoch 734/1000\n",
            "60/60 [==============================] - 0s 214us/sample - loss: 0.1465 - mean_squared_error: 0.1465 - val_loss: 0.2003 - val_mean_squared_error: 0.2003\n",
            "Epoch 735/1000\n",
            "60/60 [==============================] - 0s 199us/sample - loss: 0.1636 - mean_squared_error: 0.1636 - val_loss: 0.2189 - val_mean_squared_error: 0.2189\n",
            "Epoch 736/1000\n",
            "60/60 [==============================] - 0s 213us/sample - loss: 0.1584 - mean_squared_error: 0.1584 - val_loss: 0.2001 - val_mean_squared_error: 0.2001\n",
            "Epoch 737/1000\n",
            "60/60 [==============================] - 0s 203us/sample - loss: 0.1474 - mean_squared_error: 0.1474 - val_loss: 0.2027 - val_mean_squared_error: 0.2027\n",
            "Epoch 738/1000\n",
            "60/60 [==============================] - 0s 189us/sample - loss: 0.1659 - mean_squared_error: 0.1659 - val_loss: 0.2096 - val_mean_squared_error: 0.2096\n",
            "Epoch 739/1000\n",
            "60/60 [==============================] - 0s 193us/sample - loss: 0.1710 - mean_squared_error: 0.1710 - val_loss: 0.1988 - val_mean_squared_error: 0.1988\n",
            "Epoch 740/1000\n",
            "60/60 [==============================] - 0s 190us/sample - loss: 0.1694 - mean_squared_error: 0.1694 - val_loss: 0.2681 - val_mean_squared_error: 0.2681\n",
            "Epoch 741/1000\n",
            "60/60 [==============================] - 0s 164us/sample - loss: 0.1875 - mean_squared_error: 0.1875 - val_loss: 0.2321 - val_mean_squared_error: 0.2321\n",
            "Epoch 742/1000\n",
            "60/60 [==============================] - 0s 175us/sample - loss: 0.1908 - mean_squared_error: 0.1908 - val_loss: 0.1982 - val_mean_squared_error: 0.1982\n",
            "Epoch 743/1000\n",
            "60/60 [==============================] - 0s 172us/sample - loss: 0.1611 - mean_squared_error: 0.1611 - val_loss: 0.2207 - val_mean_squared_error: 0.2207\n",
            "Epoch 744/1000\n",
            "60/60 [==============================] - 0s 210us/sample - loss: 0.1782 - mean_squared_error: 0.1782 - val_loss: 0.2940 - val_mean_squared_error: 0.2940\n",
            "Epoch 745/1000\n",
            "60/60 [==============================] - 0s 172us/sample - loss: 0.1650 - mean_squared_error: 0.1650 - val_loss: 0.2073 - val_mean_squared_error: 0.2073\n",
            "Epoch 746/1000\n",
            "60/60 [==============================] - 0s 194us/sample - loss: 0.1575 - mean_squared_error: 0.1575 - val_loss: 0.2079 - val_mean_squared_error: 0.2079\n",
            "Epoch 747/1000\n",
            "60/60 [==============================] - 0s 178us/sample - loss: 0.1564 - mean_squared_error: 0.1564 - val_loss: 0.2471 - val_mean_squared_error: 0.2471\n",
            "Epoch 748/1000\n",
            "60/60 [==============================] - 0s 194us/sample - loss: 0.1739 - mean_squared_error: 0.1739 - val_loss: 0.2010 - val_mean_squared_error: 0.2010\n",
            "Epoch 749/1000\n",
            "60/60 [==============================] - 0s 219us/sample - loss: 0.1598 - mean_squared_error: 0.1598 - val_loss: 0.2108 - val_mean_squared_error: 0.2108\n",
            "Epoch 750/1000\n",
            "60/60 [==============================] - 0s 178us/sample - loss: 0.1506 - mean_squared_error: 0.1506 - val_loss: 0.2154 - val_mean_squared_error: 0.2154\n",
            "Epoch 751/1000\n",
            "60/60 [==============================] - 0s 156us/sample - loss: 0.1612 - mean_squared_error: 0.1612 - val_loss: 0.1971 - val_mean_squared_error: 0.1971\n",
            "Epoch 752/1000\n",
            "60/60 [==============================] - 0s 210us/sample - loss: 0.1489 - mean_squared_error: 0.1489 - val_loss: 0.1988 - val_mean_squared_error: 0.1988\n",
            "Epoch 753/1000\n",
            "60/60 [==============================] - 0s 305us/sample - loss: 0.1456 - mean_squared_error: 0.1456 - val_loss: 0.2091 - val_mean_squared_error: 0.2091\n",
            "Epoch 754/1000\n",
            "60/60 [==============================] - 0s 165us/sample - loss: 0.1599 - mean_squared_error: 0.1599 - val_loss: 0.2135 - val_mean_squared_error: 0.2135\n",
            "Epoch 755/1000\n",
            "60/60 [==============================] - 0s 174us/sample - loss: 0.1837 - mean_squared_error: 0.1837 - val_loss: 0.3033 - val_mean_squared_error: 0.3033\n",
            "Epoch 756/1000\n",
            "60/60 [==============================] - 0s 200us/sample - loss: 0.1945 - mean_squared_error: 0.1945 - val_loss: 0.2391 - val_mean_squared_error: 0.2391\n",
            "Epoch 757/1000\n",
            "60/60 [==============================] - 0s 223us/sample - loss: 0.1688 - mean_squared_error: 0.1688 - val_loss: 0.1989 - val_mean_squared_error: 0.1989\n",
            "Epoch 758/1000\n",
            "60/60 [==============================] - 0s 241us/sample - loss: 0.1446 - mean_squared_error: 0.1446 - val_loss: 0.1999 - val_mean_squared_error: 0.1999\n",
            "Epoch 759/1000\n",
            "60/60 [==============================] - 0s 223us/sample - loss: 0.1679 - mean_squared_error: 0.1679 - val_loss: 0.2157 - val_mean_squared_error: 0.2157\n",
            "Epoch 760/1000\n",
            "60/60 [==============================] - 0s 200us/sample - loss: 0.1542 - mean_squared_error: 0.1542 - val_loss: 0.2096 - val_mean_squared_error: 0.2096\n",
            "Epoch 761/1000\n",
            "60/60 [==============================] - 0s 195us/sample - loss: 0.1548 - mean_squared_error: 0.1548 - val_loss: 0.2616 - val_mean_squared_error: 0.2616\n",
            "Epoch 762/1000\n",
            "60/60 [==============================] - 0s 221us/sample - loss: 0.1873 - mean_squared_error: 0.1873 - val_loss: 0.1949 - val_mean_squared_error: 0.1949\n",
            "Epoch 763/1000\n",
            "60/60 [==============================] - 0s 218us/sample - loss: 0.1551 - mean_squared_error: 0.1551 - val_loss: 0.1959 - val_mean_squared_error: 0.1959\n",
            "Epoch 764/1000\n",
            "60/60 [==============================] - 0s 202us/sample - loss: 0.1933 - mean_squared_error: 0.1933 - val_loss: 0.2040 - val_mean_squared_error: 0.2040\n",
            "Epoch 765/1000\n",
            "60/60 [==============================] - 0s 178us/sample - loss: 0.1854 - mean_squared_error: 0.1854 - val_loss: 0.2145 - val_mean_squared_error: 0.2145\n",
            "Epoch 766/1000\n",
            "60/60 [==============================] - 0s 188us/sample - loss: 0.1468 - mean_squared_error: 0.1468 - val_loss: 0.2349 - val_mean_squared_error: 0.2349\n",
            "Epoch 767/1000\n",
            "60/60 [==============================] - 0s 186us/sample - loss: 0.1802 - mean_squared_error: 0.1802 - val_loss: 0.2012 - val_mean_squared_error: 0.2012\n",
            "Epoch 768/1000\n",
            "60/60 [==============================] - 0s 179us/sample - loss: 0.1587 - mean_squared_error: 0.1587 - val_loss: 0.1949 - val_mean_squared_error: 0.1949\n",
            "Epoch 769/1000\n",
            "60/60 [==============================] - 0s 192us/sample - loss: 0.1489 - mean_squared_error: 0.1489 - val_loss: 0.2074 - val_mean_squared_error: 0.2074\n",
            "Epoch 770/1000\n",
            "60/60 [==============================] - 0s 190us/sample - loss: 0.1417 - mean_squared_error: 0.1417 - val_loss: 0.1983 - val_mean_squared_error: 0.1983\n",
            "Epoch 771/1000\n",
            "60/60 [==============================] - 0s 210us/sample - loss: 0.1762 - mean_squared_error: 0.1762 - val_loss: 0.1952 - val_mean_squared_error: 0.1952\n",
            "Epoch 772/1000\n",
            "60/60 [==============================] - 0s 205us/sample - loss: 0.1456 - mean_squared_error: 0.1456 - val_loss: 0.1944 - val_mean_squared_error: 0.1944\n",
            "Epoch 773/1000\n",
            "60/60 [==============================] - 0s 210us/sample - loss: 0.2138 - mean_squared_error: 0.2138 - val_loss: 0.2326 - val_mean_squared_error: 0.2326\n",
            "Epoch 774/1000\n",
            "60/60 [==============================] - 0s 205us/sample - loss: 0.1699 - mean_squared_error: 0.1699 - val_loss: 0.2183 - val_mean_squared_error: 0.2183\n",
            "Epoch 775/1000\n",
            "60/60 [==============================] - 0s 192us/sample - loss: 0.1676 - mean_squared_error: 0.1676 - val_loss: 0.2431 - val_mean_squared_error: 0.2431\n",
            "Epoch 776/1000\n",
            "60/60 [==============================] - 0s 202us/sample - loss: 0.1597 - mean_squared_error: 0.1597 - val_loss: 0.2167 - val_mean_squared_error: 0.2167\n",
            "Epoch 777/1000\n",
            "60/60 [==============================] - 0s 182us/sample - loss: 0.1636 - mean_squared_error: 0.1636 - val_loss: 0.2757 - val_mean_squared_error: 0.2757\n",
            "Epoch 778/1000\n",
            "60/60 [==============================] - 0s 228us/sample - loss: 0.1760 - mean_squared_error: 0.1760 - val_loss: 0.1934 - val_mean_squared_error: 0.1934\n",
            "Epoch 779/1000\n",
            "60/60 [==============================] - 0s 382us/sample - loss: 0.1477 - mean_squared_error: 0.1477 - val_loss: 0.1956 - val_mean_squared_error: 0.1956\n",
            "Epoch 780/1000\n",
            "60/60 [==============================] - 0s 193us/sample - loss: 0.1431 - mean_squared_error: 0.1431 - val_loss: 0.1944 - val_mean_squared_error: 0.1944\n",
            "Epoch 781/1000\n",
            "60/60 [==============================] - 0s 235us/sample - loss: 0.1523 - mean_squared_error: 0.1523 - val_loss: 0.1938 - val_mean_squared_error: 0.1938\n",
            "Epoch 782/1000\n",
            "60/60 [==============================] - 0s 206us/sample - loss: 0.1432 - mean_squared_error: 0.1432 - val_loss: 0.2014 - val_mean_squared_error: 0.2014\n",
            "Epoch 783/1000\n",
            "60/60 [==============================] - 0s 176us/sample - loss: 0.1797 - mean_squared_error: 0.1797 - val_loss: 0.1926 - val_mean_squared_error: 0.1926\n",
            "Epoch 784/1000\n",
            "60/60 [==============================] - 0s 186us/sample - loss: 0.1857 - mean_squared_error: 0.1857 - val_loss: 0.1931 - val_mean_squared_error: 0.1931\n",
            "Epoch 785/1000\n",
            "60/60 [==============================] - 0s 189us/sample - loss: 0.1424 - mean_squared_error: 0.1424 - val_loss: 0.2546 - val_mean_squared_error: 0.2546\n",
            "Epoch 786/1000\n",
            "60/60 [==============================] - 0s 206us/sample - loss: 0.1700 - mean_squared_error: 0.1700 - val_loss: 0.1916 - val_mean_squared_error: 0.1916\n",
            "Epoch 787/1000\n",
            "60/60 [==============================] - 0s 206us/sample - loss: 0.1426 - mean_squared_error: 0.1426 - val_loss: 0.1927 - val_mean_squared_error: 0.1927\n",
            "Epoch 788/1000\n",
            "60/60 [==============================] - 0s 210us/sample - loss: 0.1507 - mean_squared_error: 0.1507 - val_loss: 0.1953 - val_mean_squared_error: 0.1953\n",
            "Epoch 789/1000\n",
            "60/60 [==============================] - 0s 203us/sample - loss: 0.1611 - mean_squared_error: 0.1611 - val_loss: 0.2467 - val_mean_squared_error: 0.2467\n",
            "Epoch 790/1000\n",
            "60/60 [==============================] - 0s 198us/sample - loss: 0.1489 - mean_squared_error: 0.1489 - val_loss: 0.1930 - val_mean_squared_error: 0.1930\n",
            "Epoch 791/1000\n",
            "60/60 [==============================] - 0s 199us/sample - loss: 0.1622 - mean_squared_error: 0.1622 - val_loss: 0.1913 - val_mean_squared_error: 0.1913\n",
            "Epoch 792/1000\n",
            "60/60 [==============================] - 0s 163us/sample - loss: 0.1422 - mean_squared_error: 0.1422 - val_loss: 0.2024 - val_mean_squared_error: 0.2024\n",
            "Epoch 793/1000\n",
            "60/60 [==============================] - 0s 187us/sample - loss: 0.1434 - mean_squared_error: 0.1434 - val_loss: 0.1993 - val_mean_squared_error: 0.1993\n",
            "Epoch 794/1000\n",
            "60/60 [==============================] - 0s 183us/sample - loss: 0.1662 - mean_squared_error: 0.1662 - val_loss: 0.1914 - val_mean_squared_error: 0.1914\n",
            "Epoch 795/1000\n",
            "60/60 [==============================] - 0s 207us/sample - loss: 0.1516 - mean_squared_error: 0.1516 - val_loss: 0.1942 - val_mean_squared_error: 0.1942\n",
            "Epoch 796/1000\n",
            "60/60 [==============================] - 0s 297us/sample - loss: 0.1612 - mean_squared_error: 0.1612 - val_loss: 0.2532 - val_mean_squared_error: 0.2532\n",
            "Epoch 797/1000\n",
            "60/60 [==============================] - 0s 184us/sample - loss: 0.1475 - mean_squared_error: 0.1475 - val_loss: 0.1909 - val_mean_squared_error: 0.1909\n",
            "Epoch 798/1000\n",
            "60/60 [==============================] - 0s 215us/sample - loss: 0.1408 - mean_squared_error: 0.1408 - val_loss: 0.2008 - val_mean_squared_error: 0.2008\n",
            "Epoch 799/1000\n",
            "60/60 [==============================] - 0s 222us/sample - loss: 0.1477 - mean_squared_error: 0.1477 - val_loss: 0.1983 - val_mean_squared_error: 0.1983\n",
            "Epoch 800/1000\n",
            "60/60 [==============================] - 0s 216us/sample - loss: 0.1791 - mean_squared_error: 0.1791 - val_loss: 0.2166 - val_mean_squared_error: 0.2166\n",
            "Epoch 801/1000\n",
            "60/60 [==============================] - 0s 191us/sample - loss: 0.1667 - mean_squared_error: 0.1667 - val_loss: 0.1977 - val_mean_squared_error: 0.1977\n",
            "Epoch 802/1000\n",
            "60/60 [==============================] - 0s 189us/sample - loss: 0.1595 - mean_squared_error: 0.1595 - val_loss: 0.1901 - val_mean_squared_error: 0.1901\n",
            "Epoch 803/1000\n",
            "60/60 [==============================] - 0s 178us/sample - loss: 0.1695 - mean_squared_error: 0.1695 - val_loss: 0.2089 - val_mean_squared_error: 0.2089\n",
            "Epoch 804/1000\n",
            "60/60 [==============================] - 0s 248us/sample - loss: 0.1487 - mean_squared_error: 0.1487 - val_loss: 0.1936 - val_mean_squared_error: 0.1936\n",
            "Epoch 805/1000\n",
            "60/60 [==============================] - 0s 164us/sample - loss: 0.1386 - mean_squared_error: 0.1386 - val_loss: 0.1904 - val_mean_squared_error: 0.1904\n",
            "Epoch 806/1000\n",
            "60/60 [==============================] - 0s 211us/sample - loss: 0.1560 - mean_squared_error: 0.1560 - val_loss: 0.1914 - val_mean_squared_error: 0.1914\n",
            "Epoch 807/1000\n",
            "60/60 [==============================] - 0s 238us/sample - loss: 0.1433 - mean_squared_error: 0.1433 - val_loss: 0.2072 - val_mean_squared_error: 0.2072\n",
            "Epoch 808/1000\n",
            "60/60 [==============================] - 0s 196us/sample - loss: 0.1443 - mean_squared_error: 0.1443 - val_loss: 0.1926 - val_mean_squared_error: 0.1926\n",
            "Epoch 809/1000\n",
            "60/60 [==============================] - 0s 205us/sample - loss: 0.1469 - mean_squared_error: 0.1469 - val_loss: 0.2467 - val_mean_squared_error: 0.2467\n",
            "Epoch 810/1000\n",
            "60/60 [==============================] - 0s 212us/sample - loss: 0.1598 - mean_squared_error: 0.1598 - val_loss: 0.2088 - val_mean_squared_error: 0.2088\n",
            "Epoch 811/1000\n",
            "60/60 [==============================] - 0s 172us/sample - loss: 0.1744 - mean_squared_error: 0.1744 - val_loss: 0.1937 - val_mean_squared_error: 0.1937\n",
            "Epoch 812/1000\n",
            "60/60 [==============================] - 0s 181us/sample - loss: 0.1400 - mean_squared_error: 0.1400 - val_loss: 0.1987 - val_mean_squared_error: 0.1987\n",
            "Epoch 813/1000\n",
            "60/60 [==============================] - 0s 185us/sample - loss: 0.1492 - mean_squared_error: 0.1492 - val_loss: 0.2358 - val_mean_squared_error: 0.2358\n",
            "Epoch 814/1000\n",
            "60/60 [==============================] - 0s 186us/sample - loss: 0.1856 - mean_squared_error: 0.1856 - val_loss: 0.2000 - val_mean_squared_error: 0.2000\n",
            "Epoch 815/1000\n",
            "60/60 [==============================] - 0s 198us/sample - loss: 0.1430 - mean_squared_error: 0.1430 - val_loss: 0.1899 - val_mean_squared_error: 0.1899\n",
            "Epoch 816/1000\n",
            "60/60 [==============================] - 0s 209us/sample - loss: 0.1494 - mean_squared_error: 0.1494 - val_loss: 0.2003 - val_mean_squared_error: 0.2003\n",
            "Epoch 817/1000\n",
            "60/60 [==============================] - 0s 183us/sample - loss: 0.1442 - mean_squared_error: 0.1442 - val_loss: 0.1883 - val_mean_squared_error: 0.1883\n",
            "Epoch 818/1000\n",
            "60/60 [==============================] - 0s 164us/sample - loss: 0.1558 - mean_squared_error: 0.1558 - val_loss: 0.1902 - val_mean_squared_error: 0.1902\n",
            "Epoch 819/1000\n",
            "60/60 [==============================] - 0s 169us/sample - loss: 0.1367 - mean_squared_error: 0.1367 - val_loss: 0.1964 - val_mean_squared_error: 0.1964\n",
            "Epoch 820/1000\n",
            "60/60 [==============================] - 0s 170us/sample - loss: 0.1938 - mean_squared_error: 0.1938 - val_loss: 0.1902 - val_mean_squared_error: 0.1902\n",
            "Epoch 821/1000\n",
            "60/60 [==============================] - 0s 243us/sample - loss: 0.1517 - mean_squared_error: 0.1517 - val_loss: 0.2135 - val_mean_squared_error: 0.2135\n",
            "Epoch 822/1000\n",
            "60/60 [==============================] - 0s 157us/sample - loss: 0.1898 - mean_squared_error: 0.1898 - val_loss: 0.1877 - val_mean_squared_error: 0.1877\n",
            "Epoch 823/1000\n",
            "60/60 [==============================] - 0s 213us/sample - loss: 0.1641 - mean_squared_error: 0.1641 - val_loss: 0.1887 - val_mean_squared_error: 0.1887\n",
            "Epoch 824/1000\n",
            "60/60 [==============================] - 0s 202us/sample - loss: 0.1530 - mean_squared_error: 0.1530 - val_loss: 0.1882 - val_mean_squared_error: 0.1882\n",
            "Epoch 825/1000\n",
            "60/60 [==============================] - 0s 176us/sample - loss: 0.1391 - mean_squared_error: 0.1391 - val_loss: 0.1875 - val_mean_squared_error: 0.1875\n",
            "Epoch 826/1000\n",
            "60/60 [==============================] - 0s 206us/sample - loss: 0.1411 - mean_squared_error: 0.1411 - val_loss: 0.1981 - val_mean_squared_error: 0.1981\n",
            "Epoch 827/1000\n",
            "60/60 [==============================] - 0s 177us/sample - loss: 0.1427 - mean_squared_error: 0.1427 - val_loss: 0.1970 - val_mean_squared_error: 0.1970\n",
            "Epoch 828/1000\n",
            "60/60 [==============================] - 0s 203us/sample - loss: 0.1395 - mean_squared_error: 0.1395 - val_loss: 0.1956 - val_mean_squared_error: 0.1956\n",
            "Epoch 829/1000\n",
            "60/60 [==============================] - 0s 174us/sample - loss: 0.1389 - mean_squared_error: 0.1389 - val_loss: 0.1936 - val_mean_squared_error: 0.1936\n",
            "Epoch 830/1000\n",
            "60/60 [==============================] - 0s 169us/sample - loss: 0.1371 - mean_squared_error: 0.1371 - val_loss: 0.1920 - val_mean_squared_error: 0.1920\n",
            "Epoch 831/1000\n",
            "60/60 [==============================] - 0s 242us/sample - loss: 0.1391 - mean_squared_error: 0.1391 - val_loss: 0.1869 - val_mean_squared_error: 0.1869\n",
            "Epoch 832/1000\n",
            "60/60 [==============================] - 0s 182us/sample - loss: 0.1376 - mean_squared_error: 0.1376 - val_loss: 0.1935 - val_mean_squared_error: 0.1935\n",
            "Epoch 833/1000\n",
            "60/60 [==============================] - 0s 177us/sample - loss: 0.1519 - mean_squared_error: 0.1519 - val_loss: 0.2069 - val_mean_squared_error: 0.2069\n",
            "Epoch 834/1000\n",
            "60/60 [==============================] - 0s 192us/sample - loss: 0.1364 - mean_squared_error: 0.1364 - val_loss: 0.1865 - val_mean_squared_error: 0.1865\n",
            "Epoch 835/1000\n",
            "60/60 [==============================] - 0s 240us/sample - loss: 0.1542 - mean_squared_error: 0.1542 - val_loss: 0.2561 - val_mean_squared_error: 0.2561\n",
            "Epoch 836/1000\n",
            "60/60 [==============================] - 0s 200us/sample - loss: 0.2193 - mean_squared_error: 0.2193 - val_loss: 0.1856 - val_mean_squared_error: 0.1856\n",
            "Epoch 837/1000\n",
            "60/60 [==============================] - 0s 177us/sample - loss: 0.1367 - mean_squared_error: 0.1367 - val_loss: 0.1862 - val_mean_squared_error: 0.1862\n",
            "Epoch 838/1000\n",
            "60/60 [==============================] - 0s 199us/sample - loss: 0.1362 - mean_squared_error: 0.1362 - val_loss: 0.1880 - val_mean_squared_error: 0.1880\n",
            "Epoch 839/1000\n",
            "60/60 [==============================] - 0s 173us/sample - loss: 0.1541 - mean_squared_error: 0.1541 - val_loss: 0.1852 - val_mean_squared_error: 0.1852\n",
            "Epoch 840/1000\n",
            "60/60 [==============================] - 0s 187us/sample - loss: 0.1682 - mean_squared_error: 0.1682 - val_loss: 0.2037 - val_mean_squared_error: 0.2037\n",
            "Epoch 841/1000\n",
            "60/60 [==============================] - 0s 218us/sample - loss: 0.1387 - mean_squared_error: 0.1387 - val_loss: 0.1851 - val_mean_squared_error: 0.1851\n",
            "Epoch 842/1000\n",
            "60/60 [==============================] - 0s 191us/sample - loss: 0.1378 - mean_squared_error: 0.1378 - val_loss: 0.1860 - val_mean_squared_error: 0.1860\n",
            "Epoch 843/1000\n",
            "60/60 [==============================] - 0s 190us/sample - loss: 0.1398 - mean_squared_error: 0.1398 - val_loss: 0.1878 - val_mean_squared_error: 0.1878\n",
            "Epoch 844/1000\n",
            "60/60 [==============================] - 0s 180us/sample - loss: 0.1398 - mean_squared_error: 0.1398 - val_loss: 0.1851 - val_mean_squared_error: 0.1851\n",
            "Epoch 845/1000\n",
            "60/60 [==============================] - 0s 212us/sample - loss: 0.1496 - mean_squared_error: 0.1496 - val_loss: 0.1864 - val_mean_squared_error: 0.1864\n",
            "Epoch 846/1000\n",
            "60/60 [==============================] - 0s 183us/sample - loss: 0.1369 - mean_squared_error: 0.1369 - val_loss: 0.1933 - val_mean_squared_error: 0.1933\n",
            "Epoch 847/1000\n",
            "60/60 [==============================] - 0s 291us/sample - loss: 0.1351 - mean_squared_error: 0.1351 - val_loss: 0.1884 - val_mean_squared_error: 0.1884\n",
            "Epoch 848/1000\n",
            "60/60 [==============================] - 0s 179us/sample - loss: 0.1481 - mean_squared_error: 0.1481 - val_loss: 0.1903 - val_mean_squared_error: 0.1903\n",
            "Epoch 849/1000\n",
            "60/60 [==============================] - 0s 180us/sample - loss: 0.1381 - mean_squared_error: 0.1381 - val_loss: 0.1853 - val_mean_squared_error: 0.1853\n",
            "Epoch 850/1000\n",
            "60/60 [==============================] - 0s 211us/sample - loss: 0.1357 - mean_squared_error: 0.1357 - val_loss: 0.1851 - val_mean_squared_error: 0.1851\n",
            "Epoch 851/1000\n",
            "60/60 [==============================] - 0s 173us/sample - loss: 0.1351 - mean_squared_error: 0.1351 - val_loss: 0.1931 - val_mean_squared_error: 0.1931\n",
            "Epoch 852/1000\n",
            "60/60 [==============================] - 0s 211us/sample - loss: 0.1356 - mean_squared_error: 0.1356 - val_loss: 0.1909 - val_mean_squared_error: 0.1909\n",
            "Epoch 853/1000\n",
            "60/60 [==============================] - 0s 219us/sample - loss: 0.1404 - mean_squared_error: 0.1404 - val_loss: 0.1851 - val_mean_squared_error: 0.1851\n",
            "Epoch 854/1000\n",
            "60/60 [==============================] - 0s 201us/sample - loss: 0.1508 - mean_squared_error: 0.1508 - val_loss: 0.1904 - val_mean_squared_error: 0.1904\n",
            "Epoch 855/1000\n",
            "60/60 [==============================] - 0s 183us/sample - loss: 0.1374 - mean_squared_error: 0.1374 - val_loss: 0.1896 - val_mean_squared_error: 0.1896\n",
            "Epoch 856/1000\n",
            "60/60 [==============================] - 0s 184us/sample - loss: 0.1688 - mean_squared_error: 0.1688 - val_loss: 0.1888 - val_mean_squared_error: 0.1888\n",
            "Epoch 857/1000\n",
            "60/60 [==============================] - 0s 193us/sample - loss: 0.1444 - mean_squared_error: 0.1444 - val_loss: 0.2379 - val_mean_squared_error: 0.2379\n",
            "Epoch 858/1000\n",
            "60/60 [==============================] - 0s 227us/sample - loss: 0.1623 - mean_squared_error: 0.1623 - val_loss: 0.1831 - val_mean_squared_error: 0.1831\n",
            "Epoch 859/1000\n",
            "60/60 [==============================] - 0s 192us/sample - loss: 0.1338 - mean_squared_error: 0.1338 - val_loss: 0.2439 - val_mean_squared_error: 0.2439\n",
            "Epoch 860/1000\n",
            "60/60 [==============================] - 0s 187us/sample - loss: 0.1542 - mean_squared_error: 0.1542 - val_loss: 0.1843 - val_mean_squared_error: 0.1843\n",
            "Epoch 861/1000\n",
            "60/60 [==============================] - 0s 185us/sample - loss: 0.1509 - mean_squared_error: 0.1509 - val_loss: 0.2466 - val_mean_squared_error: 0.2466\n",
            "Epoch 862/1000\n",
            "60/60 [==============================] - 0s 216us/sample - loss: 0.1743 - mean_squared_error: 0.1743 - val_loss: 0.2750 - val_mean_squared_error: 0.2750\n",
            "Epoch 863/1000\n",
            "60/60 [==============================] - 0s 220us/sample - loss: 0.2344 - mean_squared_error: 0.2344 - val_loss: 0.1824 - val_mean_squared_error: 0.1824\n",
            "Epoch 864/1000\n",
            "60/60 [==============================] - 0s 177us/sample - loss: 0.1325 - mean_squared_error: 0.1325 - val_loss: 0.2506 - val_mean_squared_error: 0.2506\n",
            "Epoch 865/1000\n",
            "60/60 [==============================] - 0s 189us/sample - loss: 0.2108 - mean_squared_error: 0.2108 - val_loss: 0.1969 - val_mean_squared_error: 0.1969\n",
            "Epoch 866/1000\n",
            "60/60 [==============================] - 0s 180us/sample - loss: 0.1583 - mean_squared_error: 0.1583 - val_loss: 0.1873 - val_mean_squared_error: 0.1873\n",
            "Epoch 867/1000\n",
            "60/60 [==============================] - 0s 194us/sample - loss: 0.1376 - mean_squared_error: 0.1376 - val_loss: 0.1822 - val_mean_squared_error: 0.1822\n",
            "Epoch 868/1000\n",
            "60/60 [==============================] - 0s 240us/sample - loss: 0.1746 - mean_squared_error: 0.1746 - val_loss: 0.2617 - val_mean_squared_error: 0.2617\n",
            "Epoch 869/1000\n",
            "60/60 [==============================] - 0s 192us/sample - loss: 0.1723 - mean_squared_error: 0.1723 - val_loss: 0.2199 - val_mean_squared_error: 0.2199\n",
            "Epoch 870/1000\n",
            "60/60 [==============================] - 0s 196us/sample - loss: 0.1354 - mean_squared_error: 0.1354 - val_loss: 0.1831 - val_mean_squared_error: 0.1831\n",
            "Epoch 871/1000\n",
            "60/60 [==============================] - 0s 187us/sample - loss: 0.1560 - mean_squared_error: 0.1560 - val_loss: 0.1865 - val_mean_squared_error: 0.1865\n",
            "Epoch 872/1000\n",
            "60/60 [==============================] - 0s 180us/sample - loss: 0.1332 - mean_squared_error: 0.1332 - val_loss: 0.1844 - val_mean_squared_error: 0.1844\n",
            "Epoch 873/1000\n",
            "60/60 [==============================] - 0s 188us/sample - loss: 0.1340 - mean_squared_error: 0.1340 - val_loss: 0.1816 - val_mean_squared_error: 0.1816\n",
            "Epoch 874/1000\n",
            "60/60 [==============================] - 0s 195us/sample - loss: 0.1449 - mean_squared_error: 0.1449 - val_loss: 0.2313 - val_mean_squared_error: 0.2313\n",
            "Epoch 875/1000\n",
            "60/60 [==============================] - 0s 194us/sample - loss: 0.1588 - mean_squared_error: 0.1588 - val_loss: 0.1951 - val_mean_squared_error: 0.1951\n",
            "Epoch 876/1000\n",
            "60/60 [==============================] - 0s 184us/sample - loss: 0.1382 - mean_squared_error: 0.1382 - val_loss: 0.1836 - val_mean_squared_error: 0.1836\n",
            "Epoch 877/1000\n",
            "60/60 [==============================] - 0s 178us/sample - loss: 0.1331 - mean_squared_error: 0.1331 - val_loss: 0.1889 - val_mean_squared_error: 0.1889\n",
            "Epoch 878/1000\n",
            "60/60 [==============================] - 0s 181us/sample - loss: 0.1503 - mean_squared_error: 0.1503 - val_loss: 0.1886 - val_mean_squared_error: 0.1886\n",
            "Epoch 879/1000\n",
            "60/60 [==============================] - 0s 217us/sample - loss: 0.1335 - mean_squared_error: 0.1335 - val_loss: 0.1853 - val_mean_squared_error: 0.1853\n",
            "Epoch 880/1000\n",
            "60/60 [==============================] - 0s 220us/sample - loss: 0.1376 - mean_squared_error: 0.1376 - val_loss: 0.1824 - val_mean_squared_error: 0.1824\n",
            "Epoch 881/1000\n",
            "60/60 [==============================] - 0s 174us/sample - loss: 0.1403 - mean_squared_error: 0.1403 - val_loss: 0.1963 - val_mean_squared_error: 0.1963\n",
            "Epoch 882/1000\n",
            "60/60 [==============================] - 0s 189us/sample - loss: 0.1466 - mean_squared_error: 0.1466 - val_loss: 0.1870 - val_mean_squared_error: 0.1870\n",
            "Epoch 883/1000\n",
            "60/60 [==============================] - 0s 179us/sample - loss: 0.1308 - mean_squared_error: 0.1308 - val_loss: 0.1852 - val_mean_squared_error: 0.1852\n",
            "Epoch 884/1000\n",
            "60/60 [==============================] - 0s 198us/sample - loss: 0.1339 - mean_squared_error: 0.1339 - val_loss: 0.1807 - val_mean_squared_error: 0.1807\n",
            "Epoch 885/1000\n",
            "60/60 [==============================] - 0s 212us/sample - loss: 0.1339 - mean_squared_error: 0.1339 - val_loss: 0.1830 - val_mean_squared_error: 0.1830\n",
            "Epoch 886/1000\n",
            "60/60 [==============================] - 0s 214us/sample - loss: 0.1369 - mean_squared_error: 0.1369 - val_loss: 0.1827 - val_mean_squared_error: 0.1827\n",
            "Epoch 887/1000\n",
            "60/60 [==============================] - 0s 208us/sample - loss: 0.1299 - mean_squared_error: 0.1299 - val_loss: 0.1895 - val_mean_squared_error: 0.1895\n",
            "Epoch 888/1000\n",
            "60/60 [==============================] - 0s 173us/sample - loss: 0.1623 - mean_squared_error: 0.1623 - val_loss: 0.2579 - val_mean_squared_error: 0.2579\n",
            "Epoch 889/1000\n",
            "60/60 [==============================] - 0s 194us/sample - loss: 0.1456 - mean_squared_error: 0.1456 - val_loss: 0.1806 - val_mean_squared_error: 0.1806\n",
            "Epoch 890/1000\n",
            "60/60 [==============================] - 0s 193us/sample - loss: 0.1455 - mean_squared_error: 0.1455 - val_loss: 0.1805 - val_mean_squared_error: 0.1805\n",
            "Epoch 891/1000\n",
            "60/60 [==============================] - 0s 267us/sample - loss: 0.1372 - mean_squared_error: 0.1372 - val_loss: 0.2217 - val_mean_squared_error: 0.2217\n",
            "Epoch 892/1000\n",
            "60/60 [==============================] - 0s 230us/sample - loss: 0.1580 - mean_squared_error: 0.1580 - val_loss: 0.1817 - val_mean_squared_error: 0.1817\n",
            "Epoch 893/1000\n",
            "60/60 [==============================] - 0s 221us/sample - loss: 0.1346 - mean_squared_error: 0.1346 - val_loss: 0.1839 - val_mean_squared_error: 0.1839\n",
            "Epoch 894/1000\n",
            "60/60 [==============================] - 0s 203us/sample - loss: 0.1307 - mean_squared_error: 0.1307 - val_loss: 0.1826 - val_mean_squared_error: 0.1826\n",
            "Epoch 895/1000\n",
            "60/60 [==============================] - 0s 210us/sample - loss: 0.1772 - mean_squared_error: 0.1772 - val_loss: 0.2402 - val_mean_squared_error: 0.2402\n",
            "Epoch 896/1000\n",
            "60/60 [==============================] - 0s 194us/sample - loss: 0.1450 - mean_squared_error: 0.1450 - val_loss: 0.1826 - val_mean_squared_error: 0.1826\n",
            "Epoch 897/1000\n",
            "60/60 [==============================] - 0s 172us/sample - loss: 0.1357 - mean_squared_error: 0.1357 - val_loss: 0.1882 - val_mean_squared_error: 0.1882\n",
            "Epoch 898/1000\n",
            "60/60 [==============================] - 0s 212us/sample - loss: 0.1300 - mean_squared_error: 0.1300 - val_loss: 0.1896 - val_mean_squared_error: 0.1896\n",
            "Epoch 899/1000\n",
            "60/60 [==============================] - 0s 220us/sample - loss: 0.1595 - mean_squared_error: 0.1595 - val_loss: 0.1804 - val_mean_squared_error: 0.1804\n",
            "Epoch 900/1000\n",
            "60/60 [==============================] - 0s 224us/sample - loss: 0.1469 - mean_squared_error: 0.1469 - val_loss: 0.2214 - val_mean_squared_error: 0.2214\n",
            "Epoch 901/1000\n",
            "60/60 [==============================] - 0s 265us/sample - loss: 0.1445 - mean_squared_error: 0.1445 - val_loss: 0.2054 - val_mean_squared_error: 0.2054\n",
            "Epoch 902/1000\n",
            "60/60 [==============================] - 0s 203us/sample - loss: 0.1285 - mean_squared_error: 0.1285 - val_loss: 0.1804 - val_mean_squared_error: 0.1804\n",
            "Epoch 903/1000\n",
            "60/60 [==============================] - 0s 237us/sample - loss: 0.1322 - mean_squared_error: 0.1322 - val_loss: 0.1790 - val_mean_squared_error: 0.1790\n",
            "Epoch 904/1000\n",
            "60/60 [==============================] - 0s 215us/sample - loss: 0.1329 - mean_squared_error: 0.1329 - val_loss: 0.1807 - val_mean_squared_error: 0.1807\n",
            "Epoch 905/1000\n",
            "60/60 [==============================] - 0s 206us/sample - loss: 0.1628 - mean_squared_error: 0.1628 - val_loss: 0.2004 - val_mean_squared_error: 0.2004\n",
            "Epoch 906/1000\n",
            "60/60 [==============================] - 0s 216us/sample - loss: 0.1600 - mean_squared_error: 0.1600 - val_loss: 0.1778 - val_mean_squared_error: 0.1778\n",
            "Epoch 907/1000\n",
            "60/60 [==============================] - 0s 211us/sample - loss: 0.1476 - mean_squared_error: 0.1476 - val_loss: 0.1777 - val_mean_squared_error: 0.1777\n",
            "Epoch 908/1000\n",
            "60/60 [==============================] - 0s 209us/sample - loss: 0.1356 - mean_squared_error: 0.1356 - val_loss: 0.1806 - val_mean_squared_error: 0.1806\n",
            "Epoch 909/1000\n",
            "60/60 [==============================] - 0s 233us/sample - loss: 0.1379 - mean_squared_error: 0.1379 - val_loss: 0.1831 - val_mean_squared_error: 0.1831\n",
            "Epoch 910/1000\n",
            "60/60 [==============================] - 0s 251us/sample - loss: 0.1366 - mean_squared_error: 0.1366 - val_loss: 0.1778 - val_mean_squared_error: 0.1778\n",
            "Epoch 911/1000\n",
            "60/60 [==============================] - 0s 239us/sample - loss: 0.1340 - mean_squared_error: 0.1340 - val_loss: 0.1851 - val_mean_squared_error: 0.1851\n",
            "Epoch 912/1000\n",
            "60/60 [==============================] - 0s 216us/sample - loss: 0.1371 - mean_squared_error: 0.1371 - val_loss: 0.2592 - val_mean_squared_error: 0.2592\n",
            "Epoch 913/1000\n",
            "60/60 [==============================] - 0s 294us/sample - loss: 0.1908 - mean_squared_error: 0.1908 - val_loss: 0.1835 - val_mean_squared_error: 0.1835\n",
            "Epoch 914/1000\n",
            "60/60 [==============================] - 0s 219us/sample - loss: 0.1345 - mean_squared_error: 0.1345 - val_loss: 0.2252 - val_mean_squared_error: 0.2252\n",
            "Epoch 915/1000\n",
            "60/60 [==============================] - 0s 282us/sample - loss: 0.1525 - mean_squared_error: 0.1525 - val_loss: 0.2065 - val_mean_squared_error: 0.2065\n",
            "Epoch 916/1000\n",
            "60/60 [==============================] - 0s 235us/sample - loss: 0.1884 - mean_squared_error: 0.1884 - val_loss: 0.1792 - val_mean_squared_error: 0.1792\n",
            "Epoch 917/1000\n",
            "60/60 [==============================] - 0s 275us/sample - loss: 0.1396 - mean_squared_error: 0.1396 - val_loss: 0.1834 - val_mean_squared_error: 0.1834\n",
            "Epoch 918/1000\n",
            "60/60 [==============================] - 0s 266us/sample - loss: 0.1384 - mean_squared_error: 0.1384 - val_loss: 0.2002 - val_mean_squared_error: 0.2002\n",
            "Epoch 919/1000\n",
            "60/60 [==============================] - 0s 278us/sample - loss: 0.1718 - mean_squared_error: 0.1718 - val_loss: 0.1759 - val_mean_squared_error: 0.1759\n",
            "Epoch 920/1000\n",
            "60/60 [==============================] - 0s 246us/sample - loss: 0.1303 - mean_squared_error: 0.1303 - val_loss: 0.1762 - val_mean_squared_error: 0.1762\n",
            "Epoch 921/1000\n",
            "60/60 [==============================] - 0s 238us/sample - loss: 0.1432 - mean_squared_error: 0.1432 - val_loss: 0.2056 - val_mean_squared_error: 0.2056\n",
            "Epoch 922/1000\n",
            "60/60 [==============================] - 0s 233us/sample - loss: 0.1314 - mean_squared_error: 0.1314 - val_loss: 0.1868 - val_mean_squared_error: 0.1868\n",
            "Epoch 923/1000\n",
            "60/60 [==============================] - 0s 234us/sample - loss: 0.1694 - mean_squared_error: 0.1694 - val_loss: 0.1757 - val_mean_squared_error: 0.1757\n",
            "Epoch 924/1000\n",
            "60/60 [==============================] - 0s 207us/sample - loss: 0.1293 - mean_squared_error: 0.1293 - val_loss: 0.1756 - val_mean_squared_error: 0.1756\n",
            "Epoch 925/1000\n",
            "60/60 [==============================] - 0s 177us/sample - loss: 0.1273 - mean_squared_error: 0.1273 - val_loss: 0.1964 - val_mean_squared_error: 0.1964\n",
            "Epoch 926/1000\n",
            "60/60 [==============================] - 0s 185us/sample - loss: 0.1475 - mean_squared_error: 0.1475 - val_loss: 0.1979 - val_mean_squared_error: 0.1979\n",
            "Epoch 927/1000\n",
            "60/60 [==============================] - 0s 189us/sample - loss: 0.1325 - mean_squared_error: 0.1325 - val_loss: 0.1854 - val_mean_squared_error: 0.1854\n",
            "Epoch 928/1000\n",
            "60/60 [==============================] - 0s 204us/sample - loss: 0.1385 - mean_squared_error: 0.1385 - val_loss: 0.2368 - val_mean_squared_error: 0.2368\n",
            "Epoch 929/1000\n",
            "60/60 [==============================] - 0s 193us/sample - loss: 0.2225 - mean_squared_error: 0.2225 - val_loss: 0.1749 - val_mean_squared_error: 0.1749\n",
            "Epoch 930/1000\n",
            "60/60 [==============================] - 0s 170us/sample - loss: 0.1609 - mean_squared_error: 0.1609 - val_loss: 0.1893 - val_mean_squared_error: 0.1893\n",
            "Epoch 931/1000\n",
            "60/60 [==============================] - 0s 255us/sample - loss: 0.1295 - mean_squared_error: 0.1295 - val_loss: 0.1767 - val_mean_squared_error: 0.1767\n",
            "Epoch 932/1000\n",
            "60/60 [==============================] - 0s 267us/sample - loss: 0.1508 - mean_squared_error: 0.1508 - val_loss: 0.1751 - val_mean_squared_error: 0.1751\n",
            "Epoch 933/1000\n",
            "60/60 [==============================] - 0s 220us/sample - loss: 0.1449 - mean_squared_error: 0.1449 - val_loss: 0.1777 - val_mean_squared_error: 0.1777\n",
            "Epoch 934/1000\n",
            "60/60 [==============================] - 0s 230us/sample - loss: 0.1350 - mean_squared_error: 0.1350 - val_loss: 0.2087 - val_mean_squared_error: 0.2087\n",
            "Epoch 935/1000\n",
            "60/60 [==============================] - 0s 204us/sample - loss: 0.1338 - mean_squared_error: 0.1338 - val_loss: 0.1748 - val_mean_squared_error: 0.1748\n",
            "Epoch 936/1000\n",
            "60/60 [==============================] - 0s 196us/sample - loss: 0.1291 - mean_squared_error: 0.1291 - val_loss: 0.1973 - val_mean_squared_error: 0.1973\n",
            "Epoch 937/1000\n",
            "60/60 [==============================] - 0s 183us/sample - loss: 0.2087 - mean_squared_error: 0.2087 - val_loss: 0.1772 - val_mean_squared_error: 0.1772\n",
            "Epoch 938/1000\n",
            "60/60 [==============================] - 0s 178us/sample - loss: 0.1345 - mean_squared_error: 0.1345 - val_loss: 0.1928 - val_mean_squared_error: 0.1928\n",
            "Epoch 939/1000\n",
            "60/60 [==============================] - 0s 193us/sample - loss: 0.1285 - mean_squared_error: 0.1285 - val_loss: 0.1854 - val_mean_squared_error: 0.1854\n",
            "Epoch 940/1000\n",
            "60/60 [==============================] - 0s 210us/sample - loss: 0.1273 - mean_squared_error: 0.1273 - val_loss: 0.1986 - val_mean_squared_error: 0.1986\n",
            "Epoch 941/1000\n",
            "60/60 [==============================] - 0s 208us/sample - loss: 0.1284 - mean_squared_error: 0.1284 - val_loss: 0.1741 - val_mean_squared_error: 0.1741\n",
            "Epoch 942/1000\n",
            "60/60 [==============================] - 0s 180us/sample - loss: 0.1288 - mean_squared_error: 0.1288 - val_loss: 0.1809 - val_mean_squared_error: 0.1809\n",
            "Epoch 943/1000\n",
            "60/60 [==============================] - 0s 185us/sample - loss: 0.1337 - mean_squared_error: 0.1337 - val_loss: 0.1785 - val_mean_squared_error: 0.1785\n",
            "Epoch 944/1000\n",
            "60/60 [==============================] - 0s 196us/sample - loss: 0.1652 - mean_squared_error: 0.1652 - val_loss: 0.1770 - val_mean_squared_error: 0.1770\n",
            "Epoch 945/1000\n",
            "60/60 [==============================] - 0s 194us/sample - loss: 0.1534 - mean_squared_error: 0.1534 - val_loss: 0.2246 - val_mean_squared_error: 0.2246\n",
            "Epoch 946/1000\n",
            "60/60 [==============================] - 0s 208us/sample - loss: 0.1479 - mean_squared_error: 0.1479 - val_loss: 0.2042 - val_mean_squared_error: 0.2042\n",
            "Epoch 947/1000\n",
            "60/60 [==============================] - 0s 193us/sample - loss: 0.1376 - mean_squared_error: 0.1376 - val_loss: 0.1875 - val_mean_squared_error: 0.1875\n",
            "Epoch 948/1000\n",
            "60/60 [==============================] - 0s 182us/sample - loss: 0.1651 - mean_squared_error: 0.1651 - val_loss: 0.1797 - val_mean_squared_error: 0.1797\n",
            "Epoch 949/1000\n",
            "60/60 [==============================] - 0s 215us/sample - loss: 0.1297 - mean_squared_error: 0.1297 - val_loss: 0.1804 - val_mean_squared_error: 0.1804\n",
            "Epoch 950/1000\n",
            "60/60 [==============================] - 0s 233us/sample - loss: 0.1331 - mean_squared_error: 0.1331 - val_loss: 0.1792 - val_mean_squared_error: 0.1792\n",
            "Epoch 951/1000\n",
            "60/60 [==============================] - 0s 176us/sample - loss: 0.1279 - mean_squared_error: 0.1279 - val_loss: 0.1724 - val_mean_squared_error: 0.1724\n",
            "Epoch 952/1000\n",
            "60/60 [==============================] - 0s 187us/sample - loss: 0.1342 - mean_squared_error: 0.1342 - val_loss: 0.1729 - val_mean_squared_error: 0.1729\n",
            "Epoch 953/1000\n",
            "60/60 [==============================] - 0s 173us/sample - loss: 0.1422 - mean_squared_error: 0.1422 - val_loss: 0.1819 - val_mean_squared_error: 0.1819\n",
            "Epoch 954/1000\n",
            "60/60 [==============================] - 0s 225us/sample - loss: 0.1274 - mean_squared_error: 0.1274 - val_loss: 0.1743 - val_mean_squared_error: 0.1743\n",
            "Epoch 955/1000\n",
            "60/60 [==============================] - 0s 205us/sample - loss: 0.1254 - mean_squared_error: 0.1254 - val_loss: 0.1866 - val_mean_squared_error: 0.1866\n",
            "Epoch 956/1000\n",
            "60/60 [==============================] - 0s 206us/sample - loss: 0.1338 - mean_squared_error: 0.1338 - val_loss: 0.1726 - val_mean_squared_error: 0.1726\n",
            "Epoch 957/1000\n",
            "60/60 [==============================] - 0s 192us/sample - loss: 0.1549 - mean_squared_error: 0.1549 - val_loss: 0.1781 - val_mean_squared_error: 0.1781\n",
            "Epoch 958/1000\n",
            "60/60 [==============================] - 0s 193us/sample - loss: 0.1294 - mean_squared_error: 0.1294 - val_loss: 0.1742 - val_mean_squared_error: 0.1742\n",
            "Epoch 959/1000\n",
            "60/60 [==============================] - 0s 163us/sample - loss: 0.1263 - mean_squared_error: 0.1263 - val_loss: 0.1724 - val_mean_squared_error: 0.1724\n",
            "Epoch 960/1000\n",
            "60/60 [==============================] - 0s 186us/sample - loss: 0.1317 - mean_squared_error: 0.1317 - val_loss: 0.1762 - val_mean_squared_error: 0.1762\n",
            "Epoch 961/1000\n",
            "60/60 [==============================] - 0s 161us/sample - loss: 0.1452 - mean_squared_error: 0.1452 - val_loss: 0.1878 - val_mean_squared_error: 0.1878\n",
            "Epoch 962/1000\n",
            "60/60 [==============================] - 0s 171us/sample - loss: 0.1277 - mean_squared_error: 0.1277 - val_loss: 0.1771 - val_mean_squared_error: 0.1771\n",
            "Epoch 963/1000\n",
            "60/60 [==============================] - 0s 200us/sample - loss: 0.1482 - mean_squared_error: 0.1482 - val_loss: 0.2127 - val_mean_squared_error: 0.2127\n",
            "Epoch 964/1000\n",
            "60/60 [==============================] - 0s 219us/sample - loss: 0.1345 - mean_squared_error: 0.1345 - val_loss: 0.1762 - val_mean_squared_error: 0.1762\n",
            "Epoch 965/1000\n",
            "60/60 [==============================] - 0s 183us/sample - loss: 0.1317 - mean_squared_error: 0.1317 - val_loss: 0.2129 - val_mean_squared_error: 0.2129\n",
            "Epoch 966/1000\n",
            "60/60 [==============================] - 0s 184us/sample - loss: 0.1380 - mean_squared_error: 0.1380 - val_loss: 0.1796 - val_mean_squared_error: 0.1796\n",
            "Epoch 967/1000\n",
            "60/60 [==============================] - 0s 187us/sample - loss: 0.1272 - mean_squared_error: 0.1272 - val_loss: 0.1912 - val_mean_squared_error: 0.1912\n",
            "Epoch 968/1000\n",
            "60/60 [==============================] - 0s 194us/sample - loss: 0.1475 - mean_squared_error: 0.1475 - val_loss: 0.1817 - val_mean_squared_error: 0.1817\n",
            "Epoch 969/1000\n",
            "60/60 [==============================] - 0s 269us/sample - loss: 0.1332 - mean_squared_error: 0.1332 - val_loss: 0.2102 - val_mean_squared_error: 0.2102\n",
            "Epoch 970/1000\n",
            "60/60 [==============================] - 0s 179us/sample - loss: 0.1690 - mean_squared_error: 0.1690 - val_loss: 0.1815 - val_mean_squared_error: 0.1815\n",
            "Epoch 971/1000\n",
            "60/60 [==============================] - 0s 185us/sample - loss: 0.1293 - mean_squared_error: 0.1293 - val_loss: 0.1803 - val_mean_squared_error: 0.1803\n",
            "Epoch 972/1000\n",
            "60/60 [==============================] - 0s 195us/sample - loss: 0.1308 - mean_squared_error: 0.1308 - val_loss: 0.1706 - val_mean_squared_error: 0.1706\n",
            "Epoch 973/1000\n",
            "60/60 [==============================] - 0s 193us/sample - loss: 0.1233 - mean_squared_error: 0.1233 - val_loss: 0.1803 - val_mean_squared_error: 0.1803\n",
            "Epoch 974/1000\n",
            "60/60 [==============================] - 0s 253us/sample - loss: 0.1404 - mean_squared_error: 0.1404 - val_loss: 0.1737 - val_mean_squared_error: 0.1737\n",
            "Epoch 975/1000\n",
            "60/60 [==============================] - 0s 209us/sample - loss: 0.1289 - mean_squared_error: 0.1289 - val_loss: 0.1739 - val_mean_squared_error: 0.1739\n",
            "Epoch 976/1000\n",
            "60/60 [==============================] - 0s 202us/sample - loss: 0.1408 - mean_squared_error: 0.1408 - val_loss: 0.1702 - val_mean_squared_error: 0.1702\n",
            "Epoch 977/1000\n",
            "60/60 [==============================] - 0s 305us/sample - loss: 0.1228 - mean_squared_error: 0.1228 - val_loss: 0.1855 - val_mean_squared_error: 0.1855\n",
            "Epoch 978/1000\n",
            "60/60 [==============================] - 0s 213us/sample - loss: 0.1254 - mean_squared_error: 0.1254 - val_loss: 0.1700 - val_mean_squared_error: 0.1700\n",
            "Epoch 979/1000\n",
            "60/60 [==============================] - 0s 211us/sample - loss: 0.1337 - mean_squared_error: 0.1337 - val_loss: 0.1745 - val_mean_squared_error: 0.1745\n",
            "Epoch 980/1000\n",
            "60/60 [==============================] - 0s 216us/sample - loss: 0.1452 - mean_squared_error: 0.1452 - val_loss: 0.2223 - val_mean_squared_error: 0.2223\n",
            "Epoch 981/1000\n",
            "60/60 [==============================] - 0s 274us/sample - loss: 0.1346 - mean_squared_error: 0.1346 - val_loss: 0.1832 - val_mean_squared_error: 0.1832\n",
            "Epoch 982/1000\n",
            "60/60 [==============================] - 0s 191us/sample - loss: 0.1218 - mean_squared_error: 0.1218 - val_loss: 0.1817 - val_mean_squared_error: 0.1817\n",
            "Epoch 983/1000\n",
            "60/60 [==============================] - 0s 198us/sample - loss: 0.1477 - mean_squared_error: 0.1477 - val_loss: 0.2385 - val_mean_squared_error: 0.2385\n",
            "Epoch 984/1000\n",
            "60/60 [==============================] - 0s 244us/sample - loss: 0.1400 - mean_squared_error: 0.1400 - val_loss: 0.1857 - val_mean_squared_error: 0.1857\n",
            "Epoch 985/1000\n",
            "60/60 [==============================] - 0s 174us/sample - loss: 0.1258 - mean_squared_error: 0.1258 - val_loss: 0.1694 - val_mean_squared_error: 0.1694\n",
            "Epoch 986/1000\n",
            "60/60 [==============================] - 0s 214us/sample - loss: 0.1302 - mean_squared_error: 0.1302 - val_loss: 0.1710 - val_mean_squared_error: 0.1710\n",
            "Epoch 987/1000\n",
            "60/60 [==============================] - 0s 197us/sample - loss: 0.1391 - mean_squared_error: 0.1391 - val_loss: 0.1694 - val_mean_squared_error: 0.1694\n",
            "Epoch 988/1000\n",
            "60/60 [==============================] - 0s 191us/sample - loss: 0.1203 - mean_squared_error: 0.1203 - val_loss: 0.1858 - val_mean_squared_error: 0.1858\n",
            "Epoch 989/1000\n",
            "60/60 [==============================] - 0s 195us/sample - loss: 0.1234 - mean_squared_error: 0.1234 - val_loss: 0.1729 - val_mean_squared_error: 0.1729\n",
            "Epoch 990/1000\n",
            "60/60 [==============================] - 0s 182us/sample - loss: 0.1250 - mean_squared_error: 0.1250 - val_loss: 0.1699 - val_mean_squared_error: 0.1699\n",
            "Epoch 991/1000\n",
            "60/60 [==============================] - 0s 185us/sample - loss: 0.1255 - mean_squared_error: 0.1255 - val_loss: 0.1747 - val_mean_squared_error: 0.1747\n",
            "Epoch 992/1000\n",
            "60/60 [==============================] - 0s 206us/sample - loss: 0.1612 - mean_squared_error: 0.1612 - val_loss: 0.1824 - val_mean_squared_error: 0.1824\n",
            "Epoch 993/1000\n",
            "60/60 [==============================] - 0s 219us/sample - loss: 0.1277 - mean_squared_error: 0.1277 - val_loss: 0.1703 - val_mean_squared_error: 0.1703\n",
            "Epoch 994/1000\n",
            "60/60 [==============================] - 0s 191us/sample - loss: 0.1265 - mean_squared_error: 0.1265 - val_loss: 0.1740 - val_mean_squared_error: 0.1740\n",
            "Epoch 995/1000\n",
            "60/60 [==============================] - 0s 193us/sample - loss: 0.1287 - mean_squared_error: 0.1287 - val_loss: 0.1798 - val_mean_squared_error: 0.1798\n",
            "Epoch 996/1000\n",
            "60/60 [==============================] - 0s 215us/sample - loss: 0.1248 - mean_squared_error: 0.1248 - val_loss: 0.1702 - val_mean_squared_error: 0.1702\n",
            "Epoch 997/1000\n",
            "60/60 [==============================] - 0s 209us/sample - loss: 0.1515 - mean_squared_error: 0.1515 - val_loss: 0.2381 - val_mean_squared_error: 0.2381\n",
            "Epoch 998/1000\n",
            "60/60 [==============================] - 0s 236us/sample - loss: 0.1532 - mean_squared_error: 0.1532 - val_loss: 0.1712 - val_mean_squared_error: 0.1712\n",
            "Epoch 999/1000\n",
            "60/60 [==============================] - 0s 211us/sample - loss: 0.1335 - mean_squared_error: 0.1335 - val_loss: 0.1684 - val_mean_squared_error: 0.1684\n",
            "Epoch 1000/1000\n",
            "60/60 [==============================] - 0s 192us/sample - loss: 0.1306 - mean_squared_error: 0.1306 - val_loss: 0.1728 - val_mean_squared_error: 0.1728\n",
            "elapsed : 15.848994255065918\n"
          ],
          "name": "stdout"
        }
      ]
    },
    {
      "cell_type": "code",
      "metadata": {
        "id": "MHYyNc5q4kxO",
        "colab_type": "code",
        "colab": {
          "base_uri": "https://localhost:8080/",
          "height": 283
        },
        "outputId": "09bcc657-729f-43b9-81af-460efd6f35a9"
      },
      "source": [
        "plt.plot(history.history['loss'], label='loss')\n",
        "plt.plot(history.history['val_loss'], label='val_loss')\n",
        "plt.legend()"
      ],
      "execution_count": 13,
      "outputs": [
        {
          "output_type": "execute_result",
          "data": {
            "text/plain": [
              "<matplotlib.legend.Legend at 0x7fa03c97c5f8>"
            ]
          },
          "metadata": {
            "tags": []
          },
          "execution_count": 13
        },
        {
          "output_type": "display_data",
          "data": {
            "image/png": "[encoded data removed]",
            "text/plain": [
              "<Figure size 432x288 with 1 Axes>"
            ]
          },
          "metadata": {
            "tags": [],
            "needs_background": "light"
          }
        }
      ]
    },
    {
      "cell_type": "markdown",
      "metadata": {
        "id": "ApcDoqRa4tjf",
        "colab_type": "text"
      },
      "source": [
        "##model.fit()의 Validation_split 옵션\n",
        "model.fit()에서 validation_split 옵션을 이용해서 test data로 준것의 일부를 validation에 사용하도록 설정  \n",
        "validation에 사용된 data는 학습에 사용되지 않음"
      ]
    },
    {
      "cell_type": "code",
      "metadata": {
        "id": "motOrtX55Z4R",
        "colab_type": "code",
        "colab": {
          "base_uri": "https://localhost:8080/",
          "height": 287
        },
        "outputId": "250ea3db-d25f-4fa7-abc8-5498f7c906d4"
      },
      "source": [
        "(train_x, train_y), (test_x, test_y) = get_sin_data(start=0, end=10, step=0.1)\n",
        "\n",
        "model = keras.Sequential()\n",
        "model.add(Dense(10, activation='tanh', input_shape=(1,)))\n",
        "model.add(Dense(10, activation='tanh'))\n",
        "model.add(Dense(1))\n",
        "\n",
        "\n",
        "model.compile(optimizer=\"SGD\", loss=\"mse\", metrics=[\"mse\"])\n",
        "model.summary()\n",
        "\n",
        "\n",
        "start_time = time.time()\n",
        "# history = model.fit(train_x, train_y, epochs=1000, verbose=0, batch_size=20)\n",
        "history = model.fit(train_x, train_y, epochs=1000, verbose=0, batch_size=20, validation_split=0.1)\n",
        "print(\"elapsed : {}\".format(time.time() - start_time))    "
      ],
      "execution_count": 14,
      "outputs": [
        {
          "output_type": "stream",
          "text": [
            "Model: \"sequential_12\"\n",
            "_________________________________________________________________\n",
            "Layer (type)                 Output Shape              Param #   \n",
            "=================================================================\n",
            "dense_36 (Dense)             (None, 10)                20        \n",
            "_________________________________________________________________\n",
            "dense_37 (Dense)             (None, 10)                110       \n",
            "_________________________________________________________________\n",
            "dense_38 (Dense)             (None, 1)                 11        \n",
            "=================================================================\n",
            "Total params: 141\n",
            "Trainable params: 141\n",
            "Non-trainable params: 0\n",
            "_________________________________________________________________\n",
            "elapsed : 6.890994548797607\n"
          ],
          "name": "stdout"
        }
      ]
    },
    {
      "cell_type": "code",
      "metadata": {
        "id": "imMxsGWN5p_B",
        "colab_type": "code",
        "colab": {
          "base_uri": "https://localhost:8080/",
          "height": 283
        },
        "outputId": "500eabd2-d6ab-4716-fbfc-e1c4ca01ebb4"
      },
      "source": [
        "plt.plot(history.history['loss'], label='loss')\n",
        "plt.plot(history.history['val_loss'], label='val_loss')\n",
        "plt.legend()"
      ],
      "execution_count": 16,
      "outputs": [
        {
          "output_type": "execute_result",
          "data": {
            "text/plain": [
              "<matplotlib.legend.Legend at 0x7fa03c2df278>"
            ]
          },
          "metadata": {
            "tags": []
          },
          "execution_count": 16
        },
        {
          "output_type": "display_data",
          "data": {
            "image/png": "[encoded data removed]",
            "text/plain": [
              "<Figure size 432x288 with 1 Axes>"
            ]
          },
          "metadata": {
            "tags": [],
            "needs_background": "light"
          }
        }
      ]
    },
    {
      "cell_type": "markdown",
      "metadata": {
        "id": "i3Ab9Fdg5vk1",
        "colab_type": "text"
      },
      "source": [
        "##Data 크기 vs epoch 수의 영향\n",
        "data 크기 100배 증가  \n",
        "epoch 수를 1000번에서 5번으로 감소해도 학습이 잘됨"
      ]
    },
    {
      "cell_type": "code",
      "metadata": {
        "id": "yVslT8az51Mf",
        "colab_type": "code",
        "colab": {
          "base_uri": "https://localhost:8080/",
          "height": 485
        },
        "outputId": "1c83fa3c-6276-4d07-b96d-b67fb518bedb"
      },
      "source": [
        "# (train_x, train_y), (test_x, test_y) = get_sin_data(start=0, end=10, step=0.01)\n",
        "(train_x, train_y), (test_x, test_y) = get_sin_data(start=0, end=10, step=0.0001)\n",
        "\n",
        "model = keras.Sequential()\n",
        "model.add(Dense(10, activation='tanh', input_shape=(1,)))\n",
        "model.add(Dense(10, activation='tanh'))\n",
        "model.add(Dense(1))\n",
        "\n",
        "\n",
        "model.compile(optimizer=\"SGD\", loss=\"mse\", metrics=[\"mse\"])\n",
        "model.summary()\n",
        "\n",
        "start_time = time.time()\n",
        "# history = model.fit(train_x, train_y, epochs=1000, verbose=0, batch_size=20)\n",
        "history = model.fit(train_x, train_y, epochs=5, verbose=2, batch_size=20)\n",
        "print(\"elapsed : {}\".format(time.time() - start_time))  "
      ],
      "execution_count": 17,
      "outputs": [
        {
          "output_type": "stream",
          "text": [
            "Model: \"sequential_13\"\n",
            "_________________________________________________________________\n",
            "Layer (type)                 Output Shape              Param #   \n",
            "=================================================================\n",
            "dense_39 (Dense)             (None, 10)                20        \n",
            "_________________________________________________________________\n",
            "dense_40 (Dense)             (None, 10)                110       \n",
            "_________________________________________________________________\n",
            "dense_41 (Dense)             (None, 1)                 11        \n",
            "=================================================================\n",
            "Total params: 141\n",
            "Trainable params: 141\n",
            "Non-trainable params: 0\n",
            "_________________________________________________________________\n",
            "Train on 60000 samples\n",
            "Epoch 1/5\n",
            "60000/60000 - 3s - loss: 0.2765 - mean_squared_error: 0.2765\n",
            "Epoch 2/5\n",
            "60000/60000 - 3s - loss: 0.1062 - mean_squared_error: 0.1062\n",
            "Epoch 3/5\n",
            "60000/60000 - 3s - loss: 0.0393 - mean_squared_error: 0.0393\n",
            "Epoch 4/5\n",
            "60000/60000 - 3s - loss: 0.0230 - mean_squared_error: 0.0230\n",
            "Epoch 5/5\n",
            "60000/60000 - 3s - loss: 0.0210 - mean_squared_error: 0.0210\n",
            "elapsed : 16.116719961166382\n"
          ],
          "name": "stdout"
        }
      ]
    },
    {
      "cell_type": "code",
      "metadata": {
        "id": "FWDg8QWP55j8",
        "colab_type": "code",
        "colab": {
          "base_uri": "https://localhost:8080/",
          "height": 265
        },
        "outputId": "f03adcc5-5698-428e-eb5f-b8977f9566e8"
      },
      "source": [
        "y_ = model.predict(test_x)\n",
        "\n",
        "plt.scatter(test_x,test_y)\n",
        "plt.scatter(test_x,y_,color='r')\n",
        "plt.show()\n"
      ],
      "execution_count": 18,
      "outputs": [
        {
          "output_type": "display_data",
          "data": {
            "image/png": "[encoded data removed]",
            "text/plain": [
              "<Figure size 432x288 with 1 Axes>"
            ]
          },
          "metadata": {
            "tags": [],
            "needs_background": "light"
          }
        }
      ]
    },
    {
      "cell_type": "markdown",
      "metadata": {
        "id": "_dJaiuGp6aOh",
        "colab_type": "text"
      },
      "source": [
        "##Shuffle - data 편향 방지를 통한 학습 향상"
      ]
    },
    {
      "cell_type": "code",
      "metadata": {
        "id": "bkUPh26M6gc5",
        "colab_type": "code",
        "colab": {
          "base_uri": "https://localhost:8080/",
          "height": 535
        },
        "outputId": "37268afb-c21f-46d6-b45f-bc4e0ec75cd1"
      },
      "source": [
        "(train_x, train_y), (test_x, test_y) = get_sin_data(start=0, end=10, step=0.01)\n",
        "\n",
        "model = keras.Sequential()\n",
        "model.add(Dense(10, activation='tanh', input_shape=(1,)))\n",
        "model.add(Dense(10, activation='tanh'))\n",
        "model.add(Dense(1))\n",
        "\n",
        "\n",
        "model.compile(optimizer=\"SGD\", loss=\"mse\", metrics=[\"mse\"])\n",
        "model.summary()\n",
        "\n",
        "start_time = time.time()\n",
        "history = model.fit(train_x, train_y, epochs=50, verbose=0, batch_size=20)\n",
        "#history = model.fit(train_x, train_y, epochs=50, verbose=0, batch_size=20, shuffle=True) #This should be tested\n",
        "print(\"elapsed : {}\".format(time.time() - start_time)) \n",
        "\n",
        "y_ = model.predict(test_x)\n",
        "\n",
        "plt.scatter(test_x,test_y)\n",
        "plt.scatter(test_x,y_,color='r')\n",
        "plt.show()"
      ],
      "execution_count": 19,
      "outputs": [
        {
          "output_type": "stream",
          "text": [
            "Model: \"sequential_14\"\n",
            "_________________________________________________________________\n",
            "Layer (type)                 Output Shape              Param #   \n",
            "=================================================================\n",
            "dense_42 (Dense)             (None, 10)                20        \n",
            "_________________________________________________________________\n",
            "dense_43 (Dense)             (None, 10)                110       \n",
            "_________________________________________________________________\n",
            "dense_44 (Dense)             (None, 1)                 11        \n",
            "=================================================================\n",
            "Total params: 141\n",
            "Trainable params: 141\n",
            "Non-trainable params: 0\n",
            "_________________________________________________________________\n",
            "elapsed : 2.1278762817382812\n"
          ],
          "name": "stdout"
        },
        {
          "output_type": "display_data",
          "data": {
            "image/png": "[encoded data removed]",
            "text/plain": [
              "<Figure size 432x288 with 1 Axes>"
            ]
          },
          "metadata": {
            "tags": [],
            "needs_background": "light"
          }
        }
      ]
    },
    {
      "cell_type": "markdown",
      "metadata": {
        "id": "BnlXhC_W7Ffy",
        "colab_type": "text"
      },
      "source": [
        "##Shuffled data 준비"
      ]
    },
    {
      "cell_type": "markdown",
      "metadata": {
        "id": "rE7f71FC7SFh",
        "colab_type": "text"
      },
      "source": [
        "shuffle 되지 않은 data로 학습하는 경우"
      ]
    },
    {
      "cell_type": "code",
      "metadata": {
        "id": "_MeJuXox7P1H",
        "colab_type": "code",
        "colab": {
          "base_uri": "https://localhost:8080/",
          "height": 301
        },
        "outputId": "d3abac38-b073-417f-a957-2d2e2a99ce5c"
      },
      "source": [
        "#DATA 준비\n",
        "x = np.arange(0,10,0.01)\n",
        "# np.random.shuffle(x) # COMMENTED\n",
        "y = np.sin(x)\n",
        "\n",
        "split_index = int(x.shape[0]*0.6)\n",
        "print(split_index)\n",
        "\n",
        "train_x, test_x = x[:split_index], x[split_index:]\n",
        "train_y, test_y = y[:split_index], y[split_index:]\n",
        "\n",
        "plt.scatter(train_x, train_y)\n",
        "plt.scatter(test_x, test_y, color=\"r\")"
      ],
      "execution_count": 20,
      "outputs": [
        {
          "output_type": "stream",
          "text": [
            "600\n"
          ],
          "name": "stdout"
        },
        {
          "output_type": "execute_result",
          "data": {
            "text/plain": [
              "<matplotlib.collections.PathCollection at 0x7fa03c88e358>"
            ]
          },
          "metadata": {
            "tags": []
          },
          "execution_count": 20
        },
        {
          "output_type": "display_data",
          "data": {
            "image/png": "[encoded data removed]",
            "text/plain": [
              "<Figure size 432x288 with 1 Axes>"
            ]
          },
          "metadata": {
            "tags": [],
            "needs_background": "light"
          }
        }
      ]
    },
    {
      "cell_type": "code",
      "metadata": {
        "id": "fdsn8oTU7YqN",
        "colab_type": "code",
        "colab": {
          "base_uri": "https://localhost:8080/",
          "height": 535
        },
        "outputId": "ee303e80-a86c-495c-d243-eb98171c6acf"
      },
      "source": [
        "#학습\n",
        "model = keras.Sequential()\n",
        "model.add(Dense(10, activation='tanh', input_shape=(1,)))\n",
        "model.add(Dense(10, activation='tanh'))\n",
        "model.add(Dense(1))\n",
        "\n",
        "\n",
        "model.compile(optimizer=\"SGD\", loss=\"mse\", metrics=[\"mse\"])\n",
        "model.summary()\n",
        "\n",
        "start_time = time.time()\n",
        "history = model.fit(train_x, train_y, epochs=50, verbose=0, batch_size=20)\n",
        "print(\"elapsed : {}\".format(time.time() - start_time)) \n",
        "\n",
        "y_ = model.predict(test_x)\n",
        "\n",
        "plt.scatter(test_x,test_y)\n",
        "plt.scatter(test_x,y_,color='r')\n",
        "plt.show()"
      ],
      "execution_count": 21,
      "outputs": [
        {
          "output_type": "stream",
          "text": [
            "Model: \"sequential_15\"\n",
            "_________________________________________________________________\n",
            "Layer (type)                 Output Shape              Param #   \n",
            "=================================================================\n",
            "dense_45 (Dense)             (None, 10)                20        \n",
            "_________________________________________________________________\n",
            "dense_46 (Dense)             (None, 10)                110       \n",
            "_________________________________________________________________\n",
            "dense_47 (Dense)             (None, 1)                 11        \n",
            "=================================================================\n",
            "Total params: 141\n",
            "Trainable params: 141\n",
            "Non-trainable params: 0\n",
            "_________________________________________________________________\n",
            "elapsed : 2.191728115081787\n"
          ],
          "name": "stdout"
        },
        {
          "output_type": "display_data",
          "data": {
            "image/png": "[encoded data removed]",
            "text/plain": [
              "<Figure size 432x288 with 1 Axes>"
            ]
          },
          "metadata": {
            "tags": [],
            "needs_background": "light"
          }
        }
      ]
    },
    {
      "cell_type": "markdown",
      "metadata": {
        "id": "18gueAPQ7b5f",
        "colab_type": "text"
      },
      "source": [
        "Shuffle된 data로 학습하는 경우"
      ]
    },
    {
      "cell_type": "code",
      "metadata": {
        "id": "7DL6e0LA8fWf",
        "colab_type": "code",
        "colab": {
          "base_uri": "https://localhost:8080/",
          "height": 301
        },
        "outputId": "200520c4-1709-4403-8c96-38e4d2575176"
      },
      "source": [
        "#DATA 준비\n",
        "x = np.arange(0,10,0.01)\n",
        "np.random.shuffle(x) # UNCOMMENT\n",
        "y = np.sin(x)\n",
        "\n",
        "split_index = int(x.shape[0]*0.6)\n",
        "print(split_index)\n",
        "\n",
        "train_x, test_x = x[:split_index], x[split_index:]\n",
        "train_y, test_y = y[:split_index], y[split_index:]\n",
        "\n",
        "plt.scatter(train_x, train_y)\n",
        "plt.scatter(test_x, test_y, color=\"r\")"
      ],
      "execution_count": 22,
      "outputs": [
        {
          "output_type": "stream",
          "text": [
            "600\n"
          ],
          "name": "stdout"
        },
        {
          "output_type": "execute_result",
          "data": {
            "text/plain": [
              "<matplotlib.collections.PathCollection at 0x7fa03c88e5c0>"
            ]
          },
          "metadata": {
            "tags": []
          },
          "execution_count": 22
        },
        {
          "output_type": "display_data",
          "data": {
            "image/png": "[encoded data removed]",
            "text/plain": [
              "<Figure size 432x288 with 1 Axes>"
            ]
          },
          "metadata": {
            "tags": [],
            "needs_background": "light"
          }
        }
      ]
    },
    {
      "cell_type": "code",
      "metadata": {
        "id": "kyaQID3l8jEx",
        "colab_type": "code",
        "colab": {
          "base_uri": "https://localhost:8080/",
          "height": 535
        },
        "outputId": "7817d784-4959-4d82-e221-0fac9f6a64bf"
      },
      "source": [
        "#학습\n",
        "model = keras.Sequential()\n",
        "model.add(Dense(10, activation='tanh', input_shape=(1,)))\n",
        "model.add(Dense(10, activation='tanh'))\n",
        "model.add(Dense(1))\n",
        "\n",
        "\n",
        "model.compile(optimizer=\"SGD\", loss=\"mse\", metrics=[\"mse\"])\n",
        "model.summary()\n",
        "\n",
        "start_time = time.time()\n",
        "history = model.fit(train_x, train_y, epochs=50, verbose=0, batch_size=20)\n",
        "print(\"elapsed : {}\".format(time.time() - start_time)) \n",
        "\n",
        "y_ = model.predict(test_x)\n",
        "\n",
        "plt.scatter(test_x,test_y)\n",
        "plt.scatter(test_x,y_,color='r')\n",
        "plt.show()"
      ],
      "execution_count": 23,
      "outputs": [
        {
          "output_type": "stream",
          "text": [
            "Model: \"sequential_16\"\n",
            "_________________________________________________________________\n",
            "Layer (type)                 Output Shape              Param #   \n",
            "=================================================================\n",
            "dense_48 (Dense)             (None, 10)                20        \n",
            "_________________________________________________________________\n",
            "dense_49 (Dense)             (None, 10)                110       \n",
            "_________________________________________________________________\n",
            "dense_50 (Dense)             (None, 1)                 11        \n",
            "=================================================================\n",
            "Total params: 141\n",
            "Trainable params: 141\n",
            "Non-trainable params: 0\n",
            "_________________________________________________________________\n",
            "elapsed : 2.245638847351074\n"
          ],
          "name": "stdout"
        },
        {
          "output_type": "display_data",
          "data": {
            "image/png": "[encoded data removed]",
            "text/plain": [
              "<Figure size 432x288 with 1 Axes>"
            ]
          },
          "metadata": {
            "tags": [],
            "needs_background": "light"
          }
        }
      ]
    },
    {
      "cell_type": "markdown",
      "metadata": {
        "id": "HXc2Lvc1-tYg",
        "colab_type": "text"
      },
      "source": [
        "##Normalization/standardization   \n",
        "입력이 여러 차원일 때 각 차원의 입력을 동일한 스케일로 맞춰주면 학습이 빨라짐  \n",
        "본 실습 데이터로는 그런 효과가 보여지지 않고 오히려 학습이 저하됨  \n",
        "Normalization 하는 방법/예로만 참고"
      ]
    },
    {
      "cell_type": "markdown",
      "metadata": {
        "id": "xKAltACROfML",
        "colab_type": "text"
      },
      "source": [
        "###Before Normalization"
      ]
    },
    {
      "cell_type": "code",
      "metadata": {
        "id": "fyjbeocyOZ9m",
        "colab_type": "code",
        "colab": {
          "base_uri": "https://localhost:8080/",
          "height": 319
        },
        "outputId": "2a54f48c-df36-445c-b69e-b22520b6ceaf"
      },
      "source": [
        "(train_x, train_y), (test_x, test_y) = get_sin_data(start=-10, end=10, step=0.1)\n",
        "\n",
        "print(\"min=\",np.min(train_x))\n",
        "print(\"max=\",np.max(train_x))\n",
        "\n",
        "plt.scatter(train_x, train_y)\n",
        "plt.scatter(test_x, test_y, color=\"r\")"
      ],
      "execution_count": 24,
      "outputs": [
        {
          "output_type": "stream",
          "text": [
            "min= -10.0\n",
            "max= 9.899999999999928\n"
          ],
          "name": "stdout"
        },
        {
          "output_type": "execute_result",
          "data": {
            "text/plain": [
              "<matplotlib.collections.PathCollection at 0x7fa03bdf3cf8>"
            ]
          },
          "metadata": {
            "tags": []
          },
          "execution_count": 24
        },
        {
          "output_type": "display_data",
          "data": {
            "image/png": "[encoded data removed]",
            "text/plain": [
              "<Figure size 432x288 with 1 Axes>"
            ]
          },
          "metadata": {
            "tags": [],
            "needs_background": "light"
          }
        }
      ]
    },
    {
      "cell_type": "markdown",
      "metadata": {
        "id": "dtbtoq9wVjRn",
        "colab_type": "text"
      },
      "source": [
        "###Batch Normalization"
      ]
    },
    {
      "cell_type": "code",
      "metadata": {
        "id": "1oIgW1j5OsVG",
        "colab_type": "code",
        "colab": {
          "base_uri": "https://localhost:8080/",
          "height": 589
        },
        "outputId": "ece4e704-d2e3-42c0-ef71-17dca6bc4918"
      },
      "source": [
        "model = keras.Sequential()\n",
        "model.add(Dense(10, activation='tanh', input_shape=(1,)))\n",
        "model.add(Dense(10, activation='tanh'))\n",
        "model.add(Dense(1))\n",
        "\n",
        "\n",
        "model.compile(optimizer=\"SGD\", loss=\"mse\", metrics=[\"mse\"])\n",
        "model.summary()\n",
        "\n",
        "\n",
        "start_time = time.time()\n",
        "model.fit(train_x, train_y, epochs=1000, verbose=0, batch_size=20)\n",
        "print(\"elapsed : {}\".format(time.time() - start_time))    \n",
        "\n",
        "\n",
        "loss, mse = model.evaluate(test_x, test_y)\n",
        "print(\"loss=\",loss)\n",
        "print(\"mse=\",mse)\n",
        "\n",
        "\n",
        "y_ = model.predict(test_x)\n",
        "\n",
        "plt.scatter(test_x,test_y)\n",
        "plt.scatter(test_x,y_,color='r')\n",
        "plt.show()"
      ],
      "execution_count": 26,
      "outputs": [
        {
          "output_type": "stream",
          "text": [
            "Model: \"sequential_18\"\n",
            "_________________________________________________________________\n",
            "Layer (type)                 Output Shape              Param #   \n",
            "=================================================================\n",
            "dense_54 (Dense)             (None, 10)                20        \n",
            "_________________________________________________________________\n",
            "dense_55 (Dense)             (None, 10)                110       \n",
            "_________________________________________________________________\n",
            "dense_56 (Dense)             (None, 1)                 11        \n",
            "=================================================================\n",
            "Total params: 141\n",
            "Trainable params: 141\n",
            "Non-trainable params: 0\n",
            "_________________________________________________________________\n",
            "elapsed : 8.230056762695312\n",
            "80/80 [==============================] - 0s 1ms/sample - loss: 0.2470 - mean_squared_error: 0.2470\n",
            "loss= 0.24696613550186158\n",
            "mse= 0.24696612\n"
          ],
          "name": "stdout"
        },
        {
          "output_type": "display_data",
          "data": {
            "image/png": "[encoded data removed]",
            "text/plain": [
              "<Figure size 432x288 with 1 Axes>"
            ]
          },
          "metadata": {
            "tags": [],
            "needs_background": "light"
          }
        }
      ]
    },
    {
      "cell_type": "code",
      "metadata": {
        "id": "QCOOGdXsVOb_",
        "colab_type": "code",
        "colab": {
          "base_uri": "https://localhost:8080/",
          "height": 625
        },
        "outputId": "2fcf1a4a-2d56-4496-ca57-ace80fdc4f1f"
      },
      "source": [
        "from tensorflow.keras.layers import BatchNormalization\n",
        "\n",
        "model = keras.Sequential()\n",
        "model.add(Dense(10, activation='tanh', input_shape=(1,)))\n",
        "model.add(BatchNormalization())\n",
        "model.add(Dense(10, activation='tanh'))\n",
        "model.add(Dense(1))\n",
        "\n",
        "\n",
        "model.compile(optimizer=\"SGD\", loss=\"mse\", metrics=[\"mse\"])\n",
        "model.summary()\n",
        "\n",
        "\n",
        "start_time = time.time()\n",
        "model.fit(train_x, train_y, epochs=1000, verbose=0, batch_size=20)\n",
        "print(\"elapsed : {}\".format(time.time() - start_time))    \n",
        "\n",
        "\n",
        "loss, mse = model.evaluate(test_x, test_y)\n",
        "print(\"loss=\",loss)\n",
        "print(\"mse=\",mse)\n",
        "\n",
        "\n",
        "y_ = model.predict(test_x)\n",
        "\n",
        "plt.scatter(test_x,test_y)\n",
        "plt.scatter(test_x,y_,color='r')\n",
        "plt.show()"
      ],
      "execution_count": 29,
      "outputs": [
        {
          "output_type": "stream",
          "text": [
            "Model: \"sequential_20\"\n",
            "_________________________________________________________________\n",
            "Layer (type)                 Output Shape              Param #   \n",
            "=================================================================\n",
            "dense_60 (Dense)             (None, 10)                20        \n",
            "_________________________________________________________________\n",
            "batch_normalization (BatchNo (None, 10)                40        \n",
            "_________________________________________________________________\n",
            "dense_61 (Dense)             (None, 10)                110       \n",
            "_________________________________________________________________\n",
            "dense_62 (Dense)             (None, 1)                 11        \n",
            "=================================================================\n",
            "Total params: 181\n",
            "Trainable params: 161\n",
            "Non-trainable params: 20\n",
            "_________________________________________________________________\n",
            "elapsed : 9.731405973434448\n",
            "80/80 [==============================] - 0s 2ms/sample - loss: 0.3211 - mean_squared_error: 0.3211\n",
            "loss= 0.32113468647003174\n",
            "mse= 0.3211347\n"
          ],
          "name": "stdout"
        },
        {
          "output_type": "display_data",
          "data": {
            "image/png": "[encoded data removed]",
            "text/plain": [
              "<Figure size 432x288 with 1 Axes>"
            ]
          },
          "metadata": {
            "tags": [],
            "needs_background": "light"
          }
        }
      ]
    },
    {
      "cell_type": "markdown",
      "metadata": {
        "id": "ofA4WBHgO7i6",
        "colab_type": "text"
      },
      "source": [
        "###After Normalization"
      ]
    },
    {
      "cell_type": "code",
      "metadata": {
        "id": "w6NDDst4O90o",
        "colab_type": "code",
        "colab": {
          "base_uri": "https://localhost:8080/",
          "height": 319
        },
        "outputId": "1f0a77d9-2a28-4c66-a2f6-0e9abc2e5aa3"
      },
      "source": [
        "min = -10 # ADDED\n",
        "max = 10 # ADDED\n",
        "\n",
        "train_x = (train_x-min)/(max-min) # ADDED\n",
        "test_x = (test_x-min)/(max-min) # ADDED\n",
        "\n",
        "print(\"min=\",np.min(train_x))\n",
        "print(\"max=\",np.max(train_x))\n",
        "\n",
        "plt.scatter(train_x, train_y)\n",
        "plt.scatter(test_x, test_y, color=\"r\")"
      ],
      "execution_count": 27,
      "outputs": [
        {
          "output_type": "stream",
          "text": [
            "min= 0.0\n",
            "max= 0.9949999999999963\n"
          ],
          "name": "stdout"
        },
        {
          "output_type": "execute_result",
          "data": {
            "text/plain": [
              "<matplotlib.collections.PathCollection at 0x7fa03c5558d0>"
            ]
          },
          "metadata": {
            "tags": []
          },
          "execution_count": 27
        },
        {
          "output_type": "display_data",
          "data": {
            "image/png": "[encoded data removed]",
            "text/plain": [
              "<Figure size 432x288 with 1 Axes>"
            ]
          },
          "metadata": {
            "tags": [],
            "needs_background": "light"
          }
        }
      ]
    },
    {
      "cell_type": "code",
      "metadata": {
        "id": "x2vd1lQKPDiV",
        "colab_type": "code",
        "colab": {
          "base_uri": "https://localhost:8080/",
          "height": 589
        },
        "outputId": "271fcfe5-d081-410a-e1f5-89f14d277643"
      },
      "source": [
        "model = keras.Sequential()\n",
        "model.add(Dense(10, activation='tanh', input_shape=(1,)))\n",
        "model.add(Dense(10, activation='tanh'))\n",
        "model.add(Dense(1))\n",
        "\n",
        "\n",
        "model.compile(optimizer=\"SGD\", loss=\"mse\", metrics=[\"mse\"])\n",
        "model.summary()\n",
        "\n",
        "\n",
        "start_time = time.time()\n",
        "model.fit(train_x, train_y, epochs=1000, verbose=0, batch_size=20)\n",
        "print(\"elapsed : {}\".format(time.time() - start_time))    \n",
        "\n",
        "\n",
        "loss, mse = model.evaluate(test_x, test_y)\n",
        "print(\"loss=\",loss)\n",
        "print(\"mse=\",mse)\n",
        "\n",
        "\n",
        "y_ = model.predict(test_x)\n",
        "\n",
        "plt.scatter(test_x,test_y)\n",
        "plt.scatter(test_x,y_,color='r')\n",
        "plt.show()"
      ],
      "execution_count": 28,
      "outputs": [
        {
          "output_type": "stream",
          "text": [
            "Model: \"sequential_19\"\n",
            "_________________________________________________________________\n",
            "Layer (type)                 Output Shape              Param #   \n",
            "=================================================================\n",
            "dense_57 (Dense)             (None, 10)                20        \n",
            "_________________________________________________________________\n",
            "dense_58 (Dense)             (None, 10)                110       \n",
            "_________________________________________________________________\n",
            "dense_59 (Dense)             (None, 1)                 11        \n",
            "=================================================================\n",
            "Total params: 141\n",
            "Trainable params: 141\n",
            "Non-trainable params: 0\n",
            "_________________________________________________________________\n",
            "elapsed : 8.275115966796875\n",
            "80/80 [==============================] - 0s 1ms/sample - loss: 0.4426 - mean_squared_error: 0.4426\n",
            "loss= 0.44260373711586\n",
            "mse= 0.44260374\n"
          ],
          "name": "stdout"
        },
        {
          "output_type": "display_data",
          "data": {
            "image/png": "[encoded data removed]",
            "text/plain": [
              "<Figure size 432x288 with 1 Axes>"
            ]
          },
          "metadata": {
            "tags": [],
            "needs_background": "light"
          }
        }
      ]
    }
  ]
}