{
  "nbformat": 4,
  "nbformat_minor": 0,
  "metadata": {
    "colab": {
      "name": "Untitled20.ipynb",
      "provenance": [],
      "toc_visible": true
    },
    "kernelspec": {
      "name": "python3",
      "display_name": "Python 3"
    }
  },
  "cells": [
    {
      "cell_type": "code",
      "metadata": {
        "id": "V8NeO7ilUzB8",
        "colab_type": "code",
        "colab": {
          "base_uri": "https://localhost:8080/",
          "height": 35
        },
        "outputId": "33894233-985e-4b97-893d-93a1e8200b16"
      },
      "source": [
        "%tensorflow_version 1.x"
      ],
      "execution_count": 1,
      "outputs": [
        {
          "output_type": "stream",
          "text": [
            "TensorFlow 1.x selected.\n"
          ],
          "name": "stdout"
        }
      ]
    },
    {
      "cell_type": "code",
      "metadata": {
        "id": "Je0Gs0TeVBxi",
        "colab_type": "code",
        "colab": {}
      },
      "source": [
        "import numpy as np\n",
        "import pandas as pd\n",
        "\n",
        "import tensorflow as tf\n",
        "from tensorflow import keras\n",
        "\n",
        "import numpy as np\n",
        "import matplotlib.pyplot as plt\n",
        "\n",
        "import time"
      ],
      "execution_count": 2,
      "outputs": []
    },
    {
      "cell_type": "markdown",
      "metadata": {
        "id": "37wmMct6VJiw",
        "colab_type": "text"
      },
      "source": [
        "###Data 준비"
      ]
    },
    {
      "cell_type": "code",
      "metadata": {
        "id": "pmcEvgiuVLW1",
        "colab_type": "code",
        "colab": {}
      },
      "source": [
        "def build_square_data(all_low, all_high, square_low, square_high, zero_count, one_count):\n",
        "\n",
        "  x1 = np.random.rand(one_count)\n",
        "  x1 = x1*(square_high-square_low) + square_low\n",
        "\n",
        "  x0 = np.random.rand(zero_count*100)\n",
        "  x0 = x0[ (x0<square_low) | (square_high<x0) ]\n",
        "  x0 = x0[:zero_count]\n",
        "\n",
        "  x = np.append(x1, x0)\n",
        "\n",
        "  plt.hist(x)\n",
        "  plt.xlim(0, 1)\n",
        "  plt.show()\n",
        "\n",
        "  # 범위 안의 것을 1, 범위 밖의 것을 0으로 하고\n",
        "  all_data = np.ones((len(x),2))\n",
        "  all_data[:,0] = x\n",
        "\n",
        "  all_data[:len(x1),1] = 1\n",
        "  all_data[len(x1):,1] = 0\n",
        "\n",
        "  # 섞는다\n",
        "  np.random.shuffle(all_data)\n",
        "\n",
        "  # x, y로 분리하고\n",
        "  x = all_data[:,0]\n",
        "  y = all_data[:,1]\n",
        "\n",
        "  plt.xlim(0, 1)\n",
        "\n",
        "  plt.scatter(x, y)\n",
        "\n",
        "  return x, y"
      ],
      "execution_count": 3,
      "outputs": []
    },
    {
      "cell_type": "markdown",
      "metadata": {
        "id": "KG38y5xCVP5k",
        "colab_type": "text"
      },
      "source": [
        "###1개의 출력노드 \n",
        "특정영역은 1, 이외의 영역은 0을 출력  \n",
        "출력된 값이 0.5보다 크면 1로, 작으면 0으로 간주"
      ]
    },
    {
      "cell_type": "code",
      "metadata": {
        "id": "jC5Eii51VZgk",
        "colab_type": "code",
        "colab": {
          "base_uri": "https://localhost:8080/",
          "height": 513
        },
        "outputId": "3e1eae3e-a6f4-4adf-fd6c-11de2ac6504d"
      },
      "source": [
        "all_low = 0\n",
        "all_high = 1\n",
        "square_low = 0.5\n",
        "square_high = 0.6\n",
        "zero_count = 10000\n",
        "one_count = 10000\n",
        "\n",
        "train_x, train_y = build_square_data(all_low, all_high, square_low, square_high, zero_count, one_count)"
      ],
      "execution_count": 4,
      "outputs": [
        {
          "output_type": "display_data",
          "data": {
            "image/png": "[encoded data removed]",
            "text/plain": [
              "<Figure size 432x288 with 1 Axes>"
            ]
          },
          "metadata": {
            "tags": [],
            "needs_background": "light"
          }
        },
        {
          "output_type": "display_data",
          "data": {
            "image/png": "[encoded data removed]",
            "text/plain": [
              "<Figure size 432x288 with 1 Axes>"
            ]
          },
          "metadata": {
            "tags": [],
            "needs_background": "light"
          }
        }
      ]
    },
    {
      "cell_type": "code",
      "metadata": {
        "id": "3giVksVQVsZB",
        "colab_type": "code",
        "colab": {
          "base_uri": "https://localhost:8080/",
          "height": 1000
        },
        "outputId": "2e50582f-a897-4099-e76d-00cbf672685c"
      },
      "source": [
        "from tensorflow import keras\n",
        "from tensorflow.keras import optimizers\n",
        "from tensorflow.keras.layers import Dense\n",
        "from tensorflow.keras.optimizers import SGD\n",
        "\n",
        "\n",
        "model = keras.Sequential()\n",
        "model.add(Dense(10, activation='relu', input_shape=(1,)))\n",
        "model.add(Dense(10, activation='relu'))\n",
        "model.add(Dense(10, activation='relu'))\n",
        "model.add(Dense(1, activation=\"sigmoid\"))\n",
        "\n",
        "\n",
        "model.compile(optimizer=\"SGD\", loss=\"mse\")\n",
        "model.fit(train_x, train_y, epochs=100, verbose=1, batch_size=32, validation_split=0.1)\n",
        "\n",
        "x_ = np.arange(all_low, all_high, 0.01)\n",
        "y_ = model.predict(x_)\n",
        "plt.scatter(x_, y_)"
      ],
      "execution_count": 5,
      "outputs": [
        {
          "output_type": "stream",
          "text": [
            "WARNING:tensorflow:From /tensorflow-1.15.2/python3.6/tensorflow_core/python/ops/resource_variable_ops.py:1630: calling BaseResourceVariable.__init__ (from tensorflow.python.ops.resource_variable_ops) with constraint is deprecated and will be removed in a future version.\n",
            "Instructions for updating:\n",
            "If using Keras pass *_constraint arguments to layers.\n",
            "Train on 18000 samples, validate on 2000 samples\n",
            "Epoch 1/100\n",
            "18000/18000 [==============================] - 1s 73us/sample - loss: 0.2488 - val_loss: 0.2470\n",
            "Epoch 2/100\n",
            "18000/18000 [==============================] - 1s 46us/sample - loss: 0.2450 - val_loss: 0.2436\n",
            "Epoch 3/100\n",
            "18000/18000 [==============================] - 1s 41us/sample - loss: 0.2422 - val_loss: 0.2406\n",
            "Epoch 4/100\n",
            "18000/18000 [==============================] - 1s 41us/sample - loss: 0.2387 - val_loss: 0.2366\n",
            "Epoch 5/100\n",
            "18000/18000 [==============================] - 1s 42us/sample - loss: 0.2340 - val_loss: 0.2309\n",
            "Epoch 6/100\n",
            "18000/18000 [==============================] - 1s 42us/sample - loss: 0.2268 - val_loss: 0.2224\n",
            "Epoch 7/100\n",
            "18000/18000 [==============================] - 1s 43us/sample - loss: 0.2165 - val_loss: 0.2103\n",
            "Epoch 8/100\n",
            "18000/18000 [==============================] - 1s 43us/sample - loss: 0.2015 - val_loss: 0.1927\n",
            "Epoch 9/100\n",
            "18000/18000 [==============================] - 1s 40us/sample - loss: 0.1804 - val_loss: 0.1686\n",
            "Epoch 10/100\n",
            "18000/18000 [==============================] - 1s 41us/sample - loss: 0.1536 - val_loss: 0.1404\n",
            "Epoch 11/100\n",
            "18000/18000 [==============================] - 1s 44us/sample - loss: 0.1254 - val_loss: 0.1141\n",
            "Epoch 12/100\n",
            "18000/18000 [==============================] - 1s 40us/sample - loss: 0.1016 - val_loss: 0.0938\n",
            "Epoch 13/100\n",
            "18000/18000 [==============================] - 1s 42us/sample - loss: 0.0839 - val_loss: 0.0792\n",
            "Epoch 14/100\n",
            "18000/18000 [==============================] - 1s 45us/sample - loss: 0.0711 - val_loss: 0.0684\n",
            "Epoch 15/100\n",
            "18000/18000 [==============================] - 1s 42us/sample - loss: 0.0617 - val_loss: 0.0603\n",
            "Epoch 16/100\n",
            "18000/18000 [==============================] - 1s 43us/sample - loss: 0.0545 - val_loss: 0.0537\n",
            "Epoch 17/100\n",
            "18000/18000 [==============================] - 1s 41us/sample - loss: 0.0489 - val_loss: 0.0487\n",
            "Epoch 18/100\n",
            "18000/18000 [==============================] - 1s 42us/sample - loss: 0.0443 - val_loss: 0.0446\n",
            "Epoch 19/100\n",
            "18000/18000 [==============================] - 1s 41us/sample - loss: 0.0406 - val_loss: 0.0410\n",
            "Epoch 20/100\n",
            "18000/18000 [==============================] - 1s 40us/sample - loss: 0.0376 - val_loss: 0.0383\n",
            "Epoch 21/100\n",
            "18000/18000 [==============================] - 1s 40us/sample - loss: 0.0349 - val_loss: 0.0360\n",
            "Epoch 22/100\n",
            "18000/18000 [==============================] - 1s 39us/sample - loss: 0.0327 - val_loss: 0.0337\n",
            "Epoch 23/100\n",
            "18000/18000 [==============================] - 1s 40us/sample - loss: 0.0308 - val_loss: 0.0318\n",
            "Epoch 24/100\n",
            "18000/18000 [==============================] - 1s 41us/sample - loss: 0.0290 - val_loss: 0.0300\n",
            "Epoch 25/100\n",
            "18000/18000 [==============================] - 1s 42us/sample - loss: 0.0276 - val_loss: 0.0284\n",
            "Epoch 26/100\n",
            "18000/18000 [==============================] - 1s 41us/sample - loss: 0.0263 - val_loss: 0.0270\n",
            "Epoch 27/100\n",
            "18000/18000 [==============================] - 1s 42us/sample - loss: 0.0250 - val_loss: 0.0260\n",
            "Epoch 28/100\n",
            "18000/18000 [==============================] - 1s 43us/sample - loss: 0.0240 - val_loss: 0.0246\n",
            "Epoch 29/100\n",
            "18000/18000 [==============================] - 1s 40us/sample - loss: 0.0230 - val_loss: 0.0238\n",
            "Epoch 30/100\n",
            "18000/18000 [==============================] - 1s 44us/sample - loss: 0.0221 - val_loss: 0.0230\n",
            "Epoch 31/100\n",
            "18000/18000 [==============================] - 1s 44us/sample - loss: 0.0213 - val_loss: 0.0222\n",
            "Epoch 32/100\n",
            "18000/18000 [==============================] - 1s 42us/sample - loss: 0.0206 - val_loss: 0.0214\n",
            "Epoch 33/100\n",
            "18000/18000 [==============================] - 1s 45us/sample - loss: 0.0198 - val_loss: 0.0207\n",
            "Epoch 34/100\n",
            "18000/18000 [==============================] - 1s 43us/sample - loss: 0.0193 - val_loss: 0.0200\n",
            "Epoch 35/100\n",
            "18000/18000 [==============================] - 1s 45us/sample - loss: 0.0187 - val_loss: 0.0203\n",
            "Epoch 36/100\n",
            "18000/18000 [==============================] - 1s 43us/sample - loss: 0.0182 - val_loss: 0.0193\n",
            "Epoch 37/100\n",
            "18000/18000 [==============================] - 1s 41us/sample - loss: 0.0176 - val_loss: 0.0188\n",
            "Epoch 38/100\n",
            "18000/18000 [==============================] - 1s 39us/sample - loss: 0.0172 - val_loss: 0.0177\n",
            "Epoch 39/100\n",
            "18000/18000 [==============================] - 1s 40us/sample - loss: 0.0168 - val_loss: 0.0172\n",
            "Epoch 40/100\n",
            "18000/18000 [==============================] - 1s 38us/sample - loss: 0.0164 - val_loss: 0.0171\n",
            "Epoch 41/100\n",
            "18000/18000 [==============================] - 1s 40us/sample - loss: 0.0160 - val_loss: 0.0170\n",
            "Epoch 42/100\n",
            "18000/18000 [==============================] - 1s 41us/sample - loss: 0.0156 - val_loss: 0.0162\n",
            "Epoch 43/100\n",
            "18000/18000 [==============================] - 1s 39us/sample - loss: 0.0153 - val_loss: 0.0159\n",
            "Epoch 44/100\n",
            "18000/18000 [==============================] - 1s 40us/sample - loss: 0.0149 - val_loss: 0.0153\n",
            "Epoch 45/100\n",
            "18000/18000 [==============================] - 1s 40us/sample - loss: 0.0147 - val_loss: 0.0149\n",
            "Epoch 46/100\n",
            "18000/18000 [==============================] - 1s 41us/sample - loss: 0.0143 - val_loss: 0.0146\n",
            "Epoch 47/100\n",
            "18000/18000 [==============================] - 1s 38us/sample - loss: 0.0140 - val_loss: 0.0144\n",
            "Epoch 48/100\n",
            "18000/18000 [==============================] - 1s 40us/sample - loss: 0.0138 - val_loss: 0.0143\n",
            "Epoch 49/100\n",
            "18000/18000 [==============================] - 1s 39us/sample - loss: 0.0135 - val_loss: 0.0141\n",
            "Epoch 50/100\n",
            "18000/18000 [==============================] - 1s 39us/sample - loss: 0.0132 - val_loss: 0.0138\n",
            "Epoch 51/100\n",
            "18000/18000 [==============================] - 1s 40us/sample - loss: 0.0131 - val_loss: 0.0133\n",
            "Epoch 52/100\n",
            "18000/18000 [==============================] - 1s 39us/sample - loss: 0.0128 - val_loss: 0.0131\n",
            "Epoch 53/100\n",
            "18000/18000 [==============================] - 1s 38us/sample - loss: 0.0126 - val_loss: 0.0130\n",
            "Epoch 54/100\n",
            "18000/18000 [==============================] - 1s 40us/sample - loss: 0.0125 - val_loss: 0.0128\n",
            "Epoch 55/100\n",
            "18000/18000 [==============================] - 1s 41us/sample - loss: 0.0122 - val_loss: 0.0123\n",
            "Epoch 56/100\n",
            "18000/18000 [==============================] - 1s 40us/sample - loss: 0.0120 - val_loss: 0.0122\n",
            "Epoch 57/100\n",
            "18000/18000 [==============================] - 1s 38us/sample - loss: 0.0118 - val_loss: 0.0123\n",
            "Epoch 58/100\n",
            "18000/18000 [==============================] - 1s 40us/sample - loss: 0.0117 - val_loss: 0.0120\n",
            "Epoch 59/100\n",
            "18000/18000 [==============================] - 1s 39us/sample - loss: 0.0115 - val_loss: 0.0121\n",
            "Epoch 60/100\n",
            "18000/18000 [==============================] - 1s 39us/sample - loss: 0.0114 - val_loss: 0.0114\n",
            "Epoch 61/100\n",
            "18000/18000 [==============================] - 1s 40us/sample - loss: 0.0112 - val_loss: 0.0115\n",
            "Epoch 62/100\n",
            "18000/18000 [==============================] - 1s 40us/sample - loss: 0.0111 - val_loss: 0.0111\n",
            "Epoch 63/100\n",
            "18000/18000 [==============================] - 1s 41us/sample - loss: 0.0108 - val_loss: 0.0110\n",
            "Epoch 64/100\n",
            "18000/18000 [==============================] - 1s 39us/sample - loss: 0.0107 - val_loss: 0.0112\n",
            "Epoch 65/100\n",
            "18000/18000 [==============================] - 1s 40us/sample - loss: 0.0106 - val_loss: 0.0108\n",
            "Epoch 66/100\n",
            "18000/18000 [==============================] - 1s 39us/sample - loss: 0.0105 - val_loss: 0.0106\n",
            "Epoch 67/100\n",
            "18000/18000 [==============================] - 1s 39us/sample - loss: 0.0103 - val_loss: 0.0104\n",
            "Epoch 68/100\n",
            "18000/18000 [==============================] - 1s 40us/sample - loss: 0.0102 - val_loss: 0.0104\n",
            "Epoch 69/100\n",
            "18000/18000 [==============================] - 1s 39us/sample - loss: 0.0101 - val_loss: 0.0105\n",
            "Epoch 70/100\n",
            "18000/18000 [==============================] - 1s 40us/sample - loss: 0.0100 - val_loss: 0.0102\n",
            "Epoch 71/100\n",
            "18000/18000 [==============================] - 1s 42us/sample - loss: 0.0099 - val_loss: 0.0100\n",
            "Epoch 72/100\n",
            "18000/18000 [==============================] - 1s 40us/sample - loss: 0.0098 - val_loss: 0.0101\n",
            "Epoch 73/100\n",
            "18000/18000 [==============================] - 1s 40us/sample - loss: 0.0096 - val_loss: 0.0100\n",
            "Epoch 74/100\n",
            "18000/18000 [==============================] - 1s 40us/sample - loss: 0.0095 - val_loss: 0.0095\n",
            "Epoch 75/100\n",
            "18000/18000 [==============================] - 1s 38us/sample - loss: 0.0095 - val_loss: 0.0098\n",
            "Epoch 76/100\n",
            "18000/18000 [==============================] - 1s 39us/sample - loss: 0.0093 - val_loss: 0.0100\n",
            "Epoch 77/100\n",
            "18000/18000 [==============================] - 1s 39us/sample - loss: 0.0092 - val_loss: 0.0096\n",
            "Epoch 78/100\n",
            "18000/18000 [==============================] - 1s 39us/sample - loss: 0.0092 - val_loss: 0.0093\n",
            "Epoch 79/100\n",
            "18000/18000 [==============================] - 1s 39us/sample - loss: 0.0091 - val_loss: 0.0092\n",
            "Epoch 80/100\n",
            "18000/18000 [==============================] - 1s 40us/sample - loss: 0.0090 - val_loss: 0.0099\n",
            "Epoch 81/100\n",
            "18000/18000 [==============================] - 1s 39us/sample - loss: 0.0088 - val_loss: 0.0095\n",
            "Epoch 82/100\n",
            "18000/18000 [==============================] - 1s 39us/sample - loss: 0.0088 - val_loss: 0.0100\n",
            "Epoch 83/100\n",
            "18000/18000 [==============================] - 1s 38us/sample - loss: 0.0086 - val_loss: 0.0091\n",
            "Epoch 84/100\n",
            "18000/18000 [==============================] - 1s 41us/sample - loss: 0.0086 - val_loss: 0.0089\n",
            "Epoch 85/100\n",
            "18000/18000 [==============================] - 1s 41us/sample - loss: 0.0086 - val_loss: 0.0087\n",
            "Epoch 86/100\n",
            "18000/18000 [==============================] - 1s 40us/sample - loss: 0.0084 - val_loss: 0.0085\n",
            "Epoch 87/100\n",
            "18000/18000 [==============================] - 1s 41us/sample - loss: 0.0084 - val_loss: 0.0085\n",
            "Epoch 88/100\n",
            "18000/18000 [==============================] - 1s 43us/sample - loss: 0.0083 - val_loss: 0.0087\n",
            "Epoch 89/100\n",
            "18000/18000 [==============================] - 1s 42us/sample - loss: 0.0082 - val_loss: 0.0083\n",
            "Epoch 90/100\n",
            "18000/18000 [==============================] - 1s 42us/sample - loss: 0.0082 - val_loss: 0.0124\n",
            "Epoch 91/100\n",
            "18000/18000 [==============================] - 1s 43us/sample - loss: 0.0081 - val_loss: 0.0086\n",
            "Epoch 92/100\n",
            "18000/18000 [==============================] - 1s 41us/sample - loss: 0.0081 - val_loss: 0.0088\n",
            "Epoch 93/100\n",
            "18000/18000 [==============================] - 1s 42us/sample - loss: 0.0080 - val_loss: 0.0080\n",
            "Epoch 94/100\n",
            "18000/18000 [==============================] - 1s 45us/sample - loss: 0.0079 - val_loss: 0.0079\n",
            "Epoch 95/100\n",
            "18000/18000 [==============================] - 1s 41us/sample - loss: 0.0079 - val_loss: 0.0079\n",
            "Epoch 96/100\n",
            "18000/18000 [==============================] - 1s 42us/sample - loss: 0.0078 - val_loss: 0.0078\n",
            "Epoch 97/100\n",
            "18000/18000 [==============================] - 1s 45us/sample - loss: 0.0077 - val_loss: 0.0084\n",
            "Epoch 98/100\n",
            "18000/18000 [==============================] - 1s 45us/sample - loss: 0.0077 - val_loss: 0.0081\n",
            "Epoch 99/100\n",
            "18000/18000 [==============================] - 1s 48us/sample - loss: 0.0076 - val_loss: 0.0076\n",
            "Epoch 100/100\n",
            "18000/18000 [==============================] - 1s 43us/sample - loss: 0.0075 - val_loss: 0.0077\n"
          ],
          "name": "stdout"
        },
        {
          "output_type": "execute_result",
          "data": {
            "text/plain": [
              "<matplotlib.collections.PathCollection at 0x7f173f6c4240>"
            ]
          },
          "metadata": {
            "tags": []
          },
          "execution_count": 5
        },
        {
          "output_type": "display_data",
          "data": {
            "image/png": "[encoded data removed]",
            "text/plain": [
              "<Figure size 432x288 with 1 Axes>"
            ]
          },
          "metadata": {
            "tags": [],
            "needs_background": "light"
          }
        }
      ]
    },
    {
      "cell_type": "markdown",
      "metadata": {
        "id": "qOf8e0P7WBXT",
        "colab_type": "text"
      },
      "source": [
        "###2개의 클래스 분류\n",
        "출력노드 2개"
      ]
    },
    {
      "cell_type": "code",
      "metadata": {
        "id": "Sv7QJyCqWJdD",
        "colab_type": "code",
        "colab": {
          "base_uri": "https://localhost:8080/",
          "height": 513
        },
        "outputId": "57805471-33c7-483e-80dd-f6bfaa2a3901"
      },
      "source": [
        "all_low = 0\n",
        "all_high = 1\n",
        "square_low = 0.5\n",
        "square_high = 0.6\n",
        "zero_count = 10000\n",
        "one_count = 10000\n",
        "\n",
        "train_x, train_y = build_square_data(all_low, all_high, square_low, square_high, zero_count, one_count)"
      ],
      "execution_count": 6,
      "outputs": [
        {
          "output_type": "display_data",
          "data": {
            "image/png": "[encoded data removed]",
            "text/plain": [
              "<Figure size 432x288 with 1 Axes>"
            ]
          },
          "metadata": {
            "tags": [],
            "needs_background": "light"
          }
        },
        {
          "output_type": "display_data",
          "data": {
            "image/png": "[encoded data removed]",
            "text/plain": [
              "<Figure size 432x288 with 1 Axes>"
            ]
          },
          "metadata": {
            "tags": [],
            "needs_background": "light"
          }
        }
      ]
    },
    {
      "cell_type": "code",
      "metadata": {
        "id": "0RysiNPdWZGl",
        "colab_type": "code",
        "colab": {}
      },
      "source": [
        "# ADD START\n",
        "reshaped_y = train_y.reshape((train_y.shape[0],1))\n",
        "train_y = np.append(reshaped_y, reshaped_y, axis=1)\n",
        "train_y[:,1] = 1-train_y[:,0]\n",
        "# ADD END"
      ],
      "execution_count": 7,
      "outputs": []
    },
    {
      "cell_type": "code",
      "metadata": {
        "id": "hawTtgyIWaQx",
        "colab_type": "code",
        "colab": {
          "base_uri": "https://localhost:8080/",
          "height": 1000
        },
        "outputId": "bbf8fa8c-5203-4971-d555-aa87a5f62a57"
      },
      "source": [
        "from tensorflow import keras\n",
        "from tensorflow.keras import optimizers\n",
        "from tensorflow.keras.layers import Dense\n",
        "from tensorflow.keras.optimizers import SGD\n",
        "\n",
        "\n",
        "model = keras.Sequential()\n",
        "model.add(Dense(10, activation='relu', input_shape=(1,)))\n",
        "model.add(Dense(10, activation='relu'))\n",
        "model.add(Dense(10, activation='relu'))\n",
        "# model.add(Dense(1))\n",
        "model.add(Dense(2))\n",
        "\n",
        "model.compile(optimizer=\"SGD\", loss=\"mse\")\n",
        "model.fit(train_x, train_y, epochs=100, verbose=1, batch_size=32, validation_split=0.1)\n",
        "\n",
        "x_ = np.arange(all_low, all_high, 0.01)\n",
        "y_ = model.predict(x_)\n",
        "plt.scatter(x_, y_[:,0])"
      ],
      "execution_count": 8,
      "outputs": [
        {
          "output_type": "stream",
          "text": [
            "Train on 18000 samples, validate on 2000 samples\n",
            "Epoch 1/100\n",
            "18000/18000 [==============================] - 1s 47us/sample - loss: 0.2551 - val_loss: 0.2392\n",
            "Epoch 2/100\n",
            "18000/18000 [==============================] - 1s 41us/sample - loss: 0.2320 - val_loss: 0.2226\n",
            "Epoch 3/100\n",
            "18000/18000 [==============================] - 1s 39us/sample - loss: 0.2115 - val_loss: 0.1963\n",
            "Epoch 4/100\n",
            "18000/18000 [==============================] - 1s 39us/sample - loss: 0.1828 - val_loss: 0.1700\n",
            "Epoch 5/100\n",
            "18000/18000 [==============================] - 1s 39us/sample - loss: 0.1573 - val_loss: 0.1404\n",
            "Epoch 6/100\n",
            "18000/18000 [==============================] - 1s 39us/sample - loss: 0.1194 - val_loss: 0.0936\n",
            "Epoch 7/100\n",
            "18000/18000 [==============================] - 1s 39us/sample - loss: 0.0780 - val_loss: 0.0662\n",
            "Epoch 8/100\n",
            "18000/18000 [==============================] - 1s 42us/sample - loss: 0.0608 - val_loss: 0.0579\n",
            "Epoch 9/100\n",
            "18000/18000 [==============================] - 1s 41us/sample - loss: 0.0554 - val_loss: 0.0559\n",
            "Epoch 10/100\n",
            "18000/18000 [==============================] - 1s 42us/sample - loss: 0.0529 - val_loss: 0.0532\n",
            "Epoch 11/100\n",
            "18000/18000 [==============================] - 1s 42us/sample - loss: 0.0510 - val_loss: 0.0528\n",
            "Epoch 12/100\n",
            "18000/18000 [==============================] - 1s 42us/sample - loss: 0.0496 - val_loss: 0.0504\n",
            "Epoch 13/100\n",
            "18000/18000 [==============================] - 1s 44us/sample - loss: 0.0483 - val_loss: 0.0493\n",
            "Epoch 14/100\n",
            "18000/18000 [==============================] - 1s 42us/sample - loss: 0.0470 - val_loss: 0.0481\n",
            "Epoch 15/100\n",
            "18000/18000 [==============================] - 1s 44us/sample - loss: 0.0459 - val_loss: 0.0487\n",
            "Epoch 16/100\n",
            "18000/18000 [==============================] - 1s 43us/sample - loss: 0.0447 - val_loss: 0.0466\n",
            "Epoch 17/100\n",
            "18000/18000 [==============================] - 1s 42us/sample - loss: 0.0436 - val_loss: 0.0447\n",
            "Epoch 18/100\n",
            "18000/18000 [==============================] - 1s 41us/sample - loss: 0.0426 - val_loss: 0.0435\n",
            "Epoch 19/100\n",
            "18000/18000 [==============================] - 1s 42us/sample - loss: 0.0416 - val_loss: 0.0432\n",
            "Epoch 20/100\n",
            "18000/18000 [==============================] - 1s 43us/sample - loss: 0.0406 - val_loss: 0.0414\n",
            "Epoch 21/100\n",
            "18000/18000 [==============================] - 1s 40us/sample - loss: 0.0396 - val_loss: 0.0404\n",
            "Epoch 22/100\n",
            "18000/18000 [==============================] - 1s 41us/sample - loss: 0.0386 - val_loss: 0.0390\n",
            "Epoch 23/100\n",
            "18000/18000 [==============================] - 1s 40us/sample - loss: 0.0372 - val_loss: 0.0383\n",
            "Epoch 24/100\n",
            "18000/18000 [==============================] - 1s 40us/sample - loss: 0.0360 - val_loss: 0.0365\n",
            "Epoch 25/100\n",
            "18000/18000 [==============================] - 1s 39us/sample - loss: 0.0346 - val_loss: 0.0357\n",
            "Epoch 26/100\n",
            "18000/18000 [==============================] - 1s 40us/sample - loss: 0.0331 - val_loss: 0.0334\n",
            "Epoch 27/100\n",
            "18000/18000 [==============================] - 1s 39us/sample - loss: 0.0316 - val_loss: 0.0318\n",
            "Epoch 28/100\n",
            "18000/18000 [==============================] - 1s 40us/sample - loss: 0.0301 - val_loss: 0.0299\n",
            "Epoch 29/100\n",
            "18000/18000 [==============================] - 1s 41us/sample - loss: 0.0286 - val_loss: 0.0286\n",
            "Epoch 30/100\n",
            "18000/18000 [==============================] - 1s 43us/sample - loss: 0.0270 - val_loss: 0.0267\n",
            "Epoch 31/100\n",
            "18000/18000 [==============================] - 1s 40us/sample - loss: 0.0255 - val_loss: 0.0252\n",
            "Epoch 32/100\n",
            "18000/18000 [==============================] - 1s 41us/sample - loss: 0.0241 - val_loss: 0.0237\n",
            "Epoch 33/100\n",
            "18000/18000 [==============================] - 1s 41us/sample - loss: 0.0228 - val_loss: 0.0226\n",
            "Epoch 34/100\n",
            "18000/18000 [==============================] - 1s 41us/sample - loss: 0.0214 - val_loss: 0.0210\n",
            "Epoch 35/100\n",
            "18000/18000 [==============================] - 1s 41us/sample - loss: 0.0202 - val_loss: 0.0195\n",
            "Epoch 36/100\n",
            "18000/18000 [==============================] - 1s 42us/sample - loss: 0.0192 - val_loss: 0.0219\n",
            "Epoch 37/100\n",
            "18000/18000 [==============================] - 1s 41us/sample - loss: 0.0181 - val_loss: 0.0186\n",
            "Epoch 38/100\n",
            "18000/18000 [==============================] - 1s 41us/sample - loss: 0.0172 - val_loss: 0.0177\n",
            "Epoch 39/100\n",
            "18000/18000 [==============================] - 1s 41us/sample - loss: 0.0164 - val_loss: 0.0157\n",
            "Epoch 40/100\n",
            "18000/18000 [==============================] - 1s 40us/sample - loss: 0.0158 - val_loss: 0.0151\n",
            "Epoch 41/100\n",
            "18000/18000 [==============================] - 1s 40us/sample - loss: 0.0151 - val_loss: 0.0145\n",
            "Epoch 42/100\n",
            "18000/18000 [==============================] - 1s 41us/sample - loss: 0.0146 - val_loss: 0.0140\n",
            "Epoch 43/100\n",
            "18000/18000 [==============================] - 1s 40us/sample - loss: 0.0140 - val_loss: 0.0134\n",
            "Epoch 44/100\n",
            "18000/18000 [==============================] - 1s 42us/sample - loss: 0.0137 - val_loss: 0.0130\n",
            "Epoch 45/100\n",
            "18000/18000 [==============================] - 1s 43us/sample - loss: 0.0133 - val_loss: 0.0127\n",
            "Epoch 46/100\n",
            "18000/18000 [==============================] - 1s 42us/sample - loss: 0.0129 - val_loss: 0.0149\n",
            "Epoch 47/100\n",
            "18000/18000 [==============================] - 1s 41us/sample - loss: 0.0127 - val_loss: 0.0120\n",
            "Epoch 48/100\n",
            "18000/18000 [==============================] - 1s 43us/sample - loss: 0.0123 - val_loss: 0.0116\n",
            "Epoch 49/100\n",
            "18000/18000 [==============================] - 1s 42us/sample - loss: 0.0120 - val_loss: 0.0113\n",
            "Epoch 50/100\n",
            "18000/18000 [==============================] - 1s 42us/sample - loss: 0.0117 - val_loss: 0.0114\n",
            "Epoch 51/100\n",
            "18000/18000 [==============================] - 1s 41us/sample - loss: 0.0115 - val_loss: 0.0108\n",
            "Epoch 52/100\n",
            "18000/18000 [==============================] - 1s 41us/sample - loss: 0.0114 - val_loss: 0.0109\n",
            "Epoch 53/100\n",
            "18000/18000 [==============================] - 1s 42us/sample - loss: 0.0111 - val_loss: 0.0105\n",
            "Epoch 54/100\n",
            "18000/18000 [==============================] - 1s 43us/sample - loss: 0.0109 - val_loss: 0.0101\n",
            "Epoch 55/100\n",
            "18000/18000 [==============================] - 1s 43us/sample - loss: 0.0107 - val_loss: 0.0102\n",
            "Epoch 56/100\n",
            "18000/18000 [==============================] - 1s 43us/sample - loss: 0.0104 - val_loss: 0.0103\n",
            "Epoch 57/100\n",
            "18000/18000 [==============================] - 1s 44us/sample - loss: 0.0103 - val_loss: 0.0095\n",
            "Epoch 58/100\n",
            "18000/18000 [==============================] - 1s 44us/sample - loss: 0.0101 - val_loss: 0.0092\n",
            "Epoch 59/100\n",
            "18000/18000 [==============================] - 1s 42us/sample - loss: 0.0100 - val_loss: 0.0095\n",
            "Epoch 60/100\n",
            "18000/18000 [==============================] - 1s 43us/sample - loss: 0.0099 - val_loss: 0.0091\n",
            "Epoch 61/100\n",
            "18000/18000 [==============================] - 1s 44us/sample - loss: 0.0097 - val_loss: 0.0090\n",
            "Epoch 62/100\n",
            "18000/18000 [==============================] - 1s 43us/sample - loss: 0.0096 - val_loss: 0.0086\n",
            "Epoch 63/100\n",
            "18000/18000 [==============================] - 1s 43us/sample - loss: 0.0094 - val_loss: 0.0086\n",
            "Epoch 64/100\n",
            "18000/18000 [==============================] - 1s 46us/sample - loss: 0.0092 - val_loss: 0.0083\n",
            "Epoch 65/100\n",
            "18000/18000 [==============================] - 1s 45us/sample - loss: 0.0091 - val_loss: 0.0091\n",
            "Epoch 66/100\n",
            "18000/18000 [==============================] - 1s 44us/sample - loss: 0.0091 - val_loss: 0.0081\n",
            "Epoch 67/100\n",
            "18000/18000 [==============================] - 1s 44us/sample - loss: 0.0090 - val_loss: 0.0079\n",
            "Epoch 68/100\n",
            "18000/18000 [==============================] - 1s 44us/sample - loss: 0.0088 - val_loss: 0.0084\n",
            "Epoch 69/100\n",
            "18000/18000 [==============================] - 1s 44us/sample - loss: 0.0087 - val_loss: 0.0079\n",
            "Epoch 70/100\n",
            "18000/18000 [==============================] - 1s 43us/sample - loss: 0.0086 - val_loss: 0.0078\n",
            "Epoch 71/100\n",
            "18000/18000 [==============================] - 1s 44us/sample - loss: 0.0086 - val_loss: 0.0080\n",
            "Epoch 72/100\n",
            "18000/18000 [==============================] - 1s 42us/sample - loss: 0.0085 - val_loss: 0.0078\n",
            "Epoch 73/100\n",
            "18000/18000 [==============================] - 1s 40us/sample - loss: 0.0084 - val_loss: 0.0074\n",
            "Epoch 74/100\n",
            "18000/18000 [==============================] - 1s 44us/sample - loss: 0.0083 - val_loss: 0.0073\n",
            "Epoch 75/100\n",
            "18000/18000 [==============================] - 1s 41us/sample - loss: 0.0083 - val_loss: 0.0074\n",
            "Epoch 76/100\n",
            "18000/18000 [==============================] - 1s 41us/sample - loss: 0.0080 - val_loss: 0.0072\n",
            "Epoch 77/100\n",
            "18000/18000 [==============================] - 1s 44us/sample - loss: 0.0081 - val_loss: 0.0084\n",
            "Epoch 78/100\n",
            "18000/18000 [==============================] - 1s 43us/sample - loss: 0.0080 - val_loss: 0.0070\n",
            "Epoch 79/100\n",
            "18000/18000 [==============================] - 1s 45us/sample - loss: 0.0080 - val_loss: 0.0069\n",
            "Epoch 80/100\n",
            "18000/18000 [==============================] - 1s 42us/sample - loss: 0.0079 - val_loss: 0.0110\n",
            "Epoch 81/100\n",
            "18000/18000 [==============================] - 1s 41us/sample - loss: 0.0078 - val_loss: 0.0068\n",
            "Epoch 82/100\n",
            "18000/18000 [==============================] - 1s 42us/sample - loss: 0.0078 - val_loss: 0.0090\n",
            "Epoch 83/100\n",
            "18000/18000 [==============================] - 1s 42us/sample - loss: 0.0077 - val_loss: 0.0067\n",
            "Epoch 84/100\n",
            "18000/18000 [==============================] - 1s 43us/sample - loss: 0.0076 - val_loss: 0.0068\n",
            "Epoch 85/100\n",
            "18000/18000 [==============================] - 1s 44us/sample - loss: 0.0075 - val_loss: 0.0065\n",
            "Epoch 86/100\n",
            "18000/18000 [==============================] - 1s 41us/sample - loss: 0.0076 - val_loss: 0.0065\n",
            "Epoch 87/100\n",
            "18000/18000 [==============================] - 1s 43us/sample - loss: 0.0074 - val_loss: 0.0067\n",
            "Epoch 88/100\n",
            "18000/18000 [==============================] - 1s 43us/sample - loss: 0.0074 - val_loss: 0.0088\n",
            "Epoch 89/100\n",
            "18000/18000 [==============================] - 1s 43us/sample - loss: 0.0074 - val_loss: 0.0093\n",
            "Epoch 90/100\n",
            "18000/18000 [==============================] - 1s 42us/sample - loss: 0.0073 - val_loss: 0.0062\n",
            "Epoch 91/100\n",
            "18000/18000 [==============================] - 1s 45us/sample - loss: 0.0073 - val_loss: 0.0064\n",
            "Epoch 92/100\n",
            "18000/18000 [==============================] - 1s 44us/sample - loss: 0.0071 - val_loss: 0.0063\n",
            "Epoch 93/100\n",
            "18000/18000 [==============================] - 1s 45us/sample - loss: 0.0072 - val_loss: 0.0097\n",
            "Epoch 94/100\n",
            "18000/18000 [==============================] - 1s 45us/sample - loss: 0.0071 - val_loss: 0.0061\n",
            "Epoch 95/100\n",
            "18000/18000 [==============================] - 1s 44us/sample - loss: 0.0069 - val_loss: 0.0062\n",
            "Epoch 96/100\n",
            "18000/18000 [==============================] - 1s 41us/sample - loss: 0.0070 - val_loss: 0.0076\n",
            "Epoch 97/100\n",
            "18000/18000 [==============================] - 1s 40us/sample - loss: 0.0071 - val_loss: 0.0070\n",
            "Epoch 98/100\n",
            "18000/18000 [==============================] - 1s 41us/sample - loss: 0.0069 - val_loss: 0.0066\n",
            "Epoch 99/100\n",
            "18000/18000 [==============================] - 1s 39us/sample - loss: 0.0069 - val_loss: 0.0064\n",
            "Epoch 100/100\n",
            "18000/18000 [==============================] - 1s 39us/sample - loss: 0.0069 - val_loss: 0.0058\n"
          ],
          "name": "stdout"
        },
        {
          "output_type": "execute_result",
          "data": {
            "text/plain": [
              "<matplotlib.collections.PathCollection at 0x7f16f02a7d30>"
            ]
          },
          "metadata": {
            "tags": []
          },
          "execution_count": 8
        },
        {
          "output_type": "display_data",
          "data": {
            "image/png": "[encoded data removed]",
            "text/plain": [
              "<Figure size 432x288 with 1 Axes>"
            ]
          },
          "metadata": {
            "tags": [],
            "needs_background": "light"
          }
        }
      ]
    },
    {
      "cell_type": "markdown",
      "metadata": {
        "id": "mgiL521mWlg6",
        "colab_type": "text"
      },
      "source": [
        "###4개의 클래스 분류"
      ]
    },
    {
      "cell_type": "code",
      "metadata": {
        "id": "hiJ7Srq3Wonz",
        "colab_type": "code",
        "colab": {
          "base_uri": "https://localhost:8080/",
          "height": 445
        },
        "outputId": "36a8679e-1a8a-4b5a-81d6-458f5d3178dc"
      },
      "source": [
        "train_x = np.arange(0, 1, 0.001)\n",
        "\n",
        "class_index = np.zeros_like(train_x, dtype=np.int)\n",
        "class_index[:250] = 0\n",
        "class_index[250:500] = 1\n",
        "class_index[500:750] = 2\n",
        "class_index[750:] = 3\n",
        "\n",
        "\n",
        "plt.scatter(train_x, class_index)\n",
        "plt.show()\n",
        "\n",
        "train_y = np.zeros((1000, 4))\n",
        "train_y[np.arange(1000), class_index] = 1 # one-hot 인코딩\n",
        "\n",
        "print(train_y[245:255])"
      ],
      "execution_count": 9,
      "outputs": [
        {
          "output_type": "display_data",
          "data": {
            "image/png": "[encoded data removed]",
            "text/plain": [
              "<Figure size 432x288 with 1 Axes>"
            ]
          },
          "metadata": {
            "tags": [],
            "needs_background": "light"
          }
        },
        {
          "output_type": "stream",
          "text": [
            "[[1. 0. 0. 0.]\n",
            " [1. 0. 0. 0.]\n",
            " [1. 0. 0. 0.]\n",
            " [1. 0. 0. 0.]\n",
            " [1. 0. 0. 0.]\n",
            " [0. 1. 0. 0.]\n",
            " [0. 1. 0. 0.]\n",
            " [0. 1. 0. 0.]\n",
            " [0. 1. 0. 0.]\n",
            " [0. 1. 0. 0.]]\n"
          ],
          "name": "stdout"
        }
      ]
    },
    {
      "cell_type": "code",
      "metadata": {
        "id": "R-zFIgJvWyNP",
        "colab_type": "code",
        "colab": {
          "base_uri": "https://localhost:8080/",
          "height": 1000
        },
        "outputId": "f9e3a2d6-e03a-40a2-b4ce-6e2f6b6201fb"
      },
      "source": [
        "from tensorflow import keras\n",
        "from tensorflow.keras import optimizers\n",
        "from tensorflow.keras.layers import Dense\n",
        "from tensorflow.keras.optimizers import SGD\n",
        "\n",
        "\n",
        "model = keras.Sequential()\n",
        "model.add(Dense(10, activation='relu', input_shape=(1,)))\n",
        "model.add(Dense(10, activation='relu'))\n",
        "model.add(Dense(10, activation='relu'))\n",
        "model.add(Dense(4))\n",
        "\n",
        "model.compile(optimizer=\"SGD\", loss=\"mse\")\n",
        "model.fit(train_x, train_y, epochs=100, verbose=1, batch_size=1, validation_split=0.1)\n",
        "\n",
        "x_ = np.arange(0, 1, 0.01)\n",
        "y_ = model.predict(x_)\n",
        "for i in range(4):\n",
        "  plt.scatter(x_, y_[:,i])\n",
        "  plt.show()"
      ],
      "execution_count": 10,
      "outputs": [
        {
          "output_type": "stream",
          "text": [
            "Train on 900 samples, validate on 100 samples\n",
            "Epoch 1/100\n",
            "900/900 [==============================] - 1s 1ms/sample - loss: 0.1879 - val_loss: 0.2166\n",
            "Epoch 2/100\n",
            "900/900 [==============================] - 1s 1ms/sample - loss: 0.1585 - val_loss: 0.2136\n",
            "Epoch 3/100\n",
            "900/900 [==============================] - 1s 1ms/sample - loss: 0.1398 - val_loss: 0.2551\n",
            "Epoch 4/100\n",
            "900/900 [==============================] - 1s 1ms/sample - loss: 0.1311 - val_loss: 0.1994\n",
            "Epoch 5/100\n",
            "900/900 [==============================] - 1s 1ms/sample - loss: 0.1272 - val_loss: 0.1831\n",
            "Epoch 6/100\n",
            "900/900 [==============================] - 1s 1ms/sample - loss: 0.1245 - val_loss: 0.1755\n",
            "Epoch 7/100\n",
            "900/900 [==============================] - 1s 1ms/sample - loss: 0.1223 - val_loss: 0.1981\n",
            "Epoch 8/100\n",
            "900/900 [==============================] - 1s 1ms/sample - loss: 0.1191 - val_loss: 0.1988\n",
            "Epoch 9/100\n",
            "900/900 [==============================] - 1s 1ms/sample - loss: 0.1147 - val_loss: 0.1703\n",
            "Epoch 10/100\n",
            "900/900 [==============================] - 1s 1ms/sample - loss: 0.1083 - val_loss: 0.2024\n",
            "Epoch 11/100\n",
            "900/900 [==============================] - 1s 1ms/sample - loss: 0.1003 - val_loss: 0.1355\n",
            "Epoch 12/100\n",
            "900/900 [==============================] - 1s 1ms/sample - loss: 0.0908 - val_loss: 0.1346\n",
            "Epoch 13/100\n",
            "900/900 [==============================] - 1s 1ms/sample - loss: 0.0814 - val_loss: 0.1310\n",
            "Epoch 14/100\n",
            "900/900 [==============================] - 1s 1ms/sample - loss: 0.0723 - val_loss: 0.1166\n",
            "Epoch 15/100\n",
            "900/900 [==============================] - 1s 1ms/sample - loss: 0.0650 - val_loss: 0.0901\n",
            "Epoch 16/100\n",
            "900/900 [==============================] - 1s 1ms/sample - loss: 0.0586 - val_loss: 0.0799\n",
            "Epoch 17/100\n",
            "900/900 [==============================] - 1s 1ms/sample - loss: 0.0534 - val_loss: 0.0641\n",
            "Epoch 18/100\n",
            "900/900 [==============================] - 1s 1ms/sample - loss: 0.0494 - val_loss: 0.0521\n",
            "Epoch 19/100\n",
            "900/900 [==============================] - 1s 1ms/sample - loss: 0.0446 - val_loss: 0.0416\n",
            "Epoch 20/100\n",
            "900/900 [==============================] - 1s 1ms/sample - loss: 0.0411 - val_loss: 0.0288\n",
            "Epoch 21/100\n",
            "900/900 [==============================] - 1s 1ms/sample - loss: 0.0393 - val_loss: 0.0228\n",
            "Epoch 22/100\n",
            "900/900 [==============================] - 1s 1ms/sample - loss: 0.0362 - val_loss: 0.0164\n",
            "Epoch 23/100\n",
            "900/900 [==============================] - 1s 1ms/sample - loss: 0.0351 - val_loss: 0.0127\n",
            "Epoch 24/100\n",
            "900/900 [==============================] - 1s 1ms/sample - loss: 0.0332 - val_loss: 0.0092\n",
            "Epoch 25/100\n",
            "900/900 [==============================] - 1s 1ms/sample - loss: 0.0325 - val_loss: 0.0077\n",
            "Epoch 26/100\n",
            "900/900 [==============================] - 1s 1ms/sample - loss: 0.0313 - val_loss: 0.0053\n",
            "Epoch 27/100\n",
            "900/900 [==============================] - 1s 1ms/sample - loss: 0.0298 - val_loss: 0.0041\n",
            "Epoch 28/100\n",
            "900/900 [==============================] - 1s 1ms/sample - loss: 0.0291 - val_loss: 0.0033\n",
            "Epoch 29/100\n",
            "900/900 [==============================] - 1s 1ms/sample - loss: 0.0285 - val_loss: 0.0027\n",
            "Epoch 30/100\n",
            "900/900 [==============================] - 1s 1ms/sample - loss: 0.0278 - val_loss: 0.0020\n",
            "Epoch 31/100\n",
            "900/900 [==============================] - 1s 1ms/sample - loss: 0.0276 - val_loss: 0.0018\n",
            "Epoch 32/100\n",
            "900/900 [==============================] - 1s 1ms/sample - loss: 0.0270 - val_loss: 0.0012\n",
            "Epoch 33/100\n",
            "900/900 [==============================] - 1s 1ms/sample - loss: 0.0270 - val_loss: 0.0010\n",
            "Epoch 34/100\n",
            "900/900 [==============================] - 1s 1ms/sample - loss: 0.0270 - val_loss: 7.4209e-04\n",
            "Epoch 35/100\n",
            "900/900 [==============================] - 1s 1ms/sample - loss: 0.0254 - val_loss: 0.0018\n",
            "Epoch 36/100\n",
            "900/900 [==============================] - 1s 1ms/sample - loss: 0.0264 - val_loss: 7.4010e-04\n",
            "Epoch 37/100\n",
            "900/900 [==============================] - 1s 1ms/sample - loss: 0.0266 - val_loss: 0.0018\n",
            "Epoch 38/100\n",
            "900/900 [==============================] - 1s 1ms/sample - loss: 0.0254 - val_loss: 6.6901e-04\n",
            "Epoch 39/100\n",
            "900/900 [==============================] - 1s 1ms/sample - loss: 0.0250 - val_loss: 4.6283e-04\n",
            "Epoch 40/100\n",
            "900/900 [==============================] - 1s 1ms/sample - loss: 0.0252 - val_loss: 5.6839e-04\n",
            "Epoch 41/100\n",
            "900/900 [==============================] - 1s 1ms/sample - loss: 0.0240 - val_loss: 5.9048e-04\n",
            "Epoch 42/100\n",
            "900/900 [==============================] - 1s 1ms/sample - loss: 0.0240 - val_loss: 4.5050e-04\n",
            "Epoch 43/100\n",
            "900/900 [==============================] - 1s 1ms/sample - loss: 0.0237 - val_loss: 9.6963e-04\n",
            "Epoch 44/100\n",
            "900/900 [==============================] - 1s 1ms/sample - loss: 0.0242 - val_loss: 7.1513e-04\n",
            "Epoch 45/100\n",
            "900/900 [==============================] - 1s 1ms/sample - loss: 0.0236 - val_loss: 6.7049e-04\n",
            "Epoch 46/100\n",
            "900/900 [==============================] - 1s 1ms/sample - loss: 0.0225 - val_loss: 3.4648e-04\n",
            "Epoch 47/100\n",
            "900/900 [==============================] - 1s 1ms/sample - loss: 0.0223 - val_loss: 0.0012\n",
            "Epoch 48/100\n",
            "900/900 [==============================] - 1s 1ms/sample - loss: 0.0221 - val_loss: 4.2808e-04\n",
            "Epoch 49/100\n",
            "900/900 [==============================] - 1s 1ms/sample - loss: 0.0212 - val_loss: 3.5797e-04\n",
            "Epoch 50/100\n",
            "900/900 [==============================] - 1s 1ms/sample - loss: 0.0216 - val_loss: 3.1972e-04\n",
            "Epoch 51/100\n",
            "900/900 [==============================] - 1s 1ms/sample - loss: 0.0212 - val_loss: 2.6631e-04\n",
            "Epoch 52/100\n",
            "900/900 [==============================] - 1s 1ms/sample - loss: 0.0206 - val_loss: 3.2873e-04\n",
            "Epoch 53/100\n",
            "900/900 [==============================] - 1s 1ms/sample - loss: 0.0216 - val_loss: 3.1666e-04\n",
            "Epoch 54/100\n",
            "900/900 [==============================] - 1s 1ms/sample - loss: 0.0201 - val_loss: 5.2161e-04\n",
            "Epoch 55/100\n",
            "900/900 [==============================] - 1s 1ms/sample - loss: 0.0195 - val_loss: 3.7083e-04\n",
            "Epoch 56/100\n",
            "900/900 [==============================] - 1s 1ms/sample - loss: 0.0207 - val_loss: 0.0013\n",
            "Epoch 57/100\n",
            "900/900 [==============================] - 1s 1ms/sample - loss: 0.0186 - val_loss: 1.9192e-04\n",
            "Epoch 58/100\n",
            "900/900 [==============================] - 1s 1ms/sample - loss: 0.0196 - val_loss: 1.9926e-04\n",
            "Epoch 59/100\n",
            "900/900 [==============================] - 1s 1ms/sample - loss: 0.0188 - val_loss: 1.9360e-04\n",
            "Epoch 60/100\n",
            "900/900 [==============================] - 1s 1ms/sample - loss: 0.0175 - val_loss: 3.3462e-04\n",
            "Epoch 61/100\n",
            "900/900 [==============================] - 1s 1ms/sample - loss: 0.0190 - val_loss: 1.8904e-04\n",
            "Epoch 62/100\n",
            "900/900 [==============================] - 1s 1ms/sample - loss: 0.0169 - val_loss: 1.6779e-04\n",
            "Epoch 63/100\n",
            "900/900 [==============================] - 1s 1ms/sample - loss: 0.0189 - val_loss: 5.3005e-04\n",
            "Epoch 64/100\n",
            "900/900 [==============================] - 1s 1ms/sample - loss: 0.0183 - val_loss: 3.2596e-04\n",
            "Epoch 65/100\n",
            "900/900 [==============================] - 1s 1ms/sample - loss: 0.0169 - val_loss: 5.2118e-04\n",
            "Epoch 66/100\n",
            "900/900 [==============================] - 1s 1ms/sample - loss: 0.0180 - val_loss: 1.5241e-04\n",
            "Epoch 67/100\n",
            "900/900 [==============================] - 1s 1ms/sample - loss: 0.0172 - val_loss: 1.7259e-04\n",
            "Epoch 68/100\n",
            "900/900 [==============================] - 1s 1ms/sample - loss: 0.0170 - val_loss: 1.7515e-04\n",
            "Epoch 69/100\n",
            "900/900 [==============================] - 1s 1ms/sample - loss: 0.0178 - val_loss: 1.2292e-04\n",
            "Epoch 70/100\n",
            "900/900 [==============================] - 1s 1ms/sample - loss: 0.0160 - val_loss: 9.4740e-04\n",
            "Epoch 71/100\n",
            "900/900 [==============================] - 1s 1ms/sample - loss: 0.0166 - val_loss: 4.5843e-04\n",
            "Epoch 72/100\n",
            "900/900 [==============================] - 1s 1ms/sample - loss: 0.0166 - val_loss: 7.6569e-05\n",
            "Epoch 73/100\n",
            "900/900 [==============================] - 1s 1ms/sample - loss: 0.0159 - val_loss: 5.4398e-04\n",
            "Epoch 74/100\n",
            "900/900 [==============================] - 1s 1ms/sample - loss: 0.0173 - val_loss: 1.9773e-04\n",
            "Epoch 75/100\n",
            "900/900 [==============================] - 1s 1ms/sample - loss: 0.0164 - val_loss: 2.0191e-04\n",
            "Epoch 76/100\n",
            "900/900 [==============================] - 1s 1ms/sample - loss: 0.0152 - val_loss: 5.1049e-05\n",
            "Epoch 77/100\n",
            "900/900 [==============================] - 1s 1ms/sample - loss: 0.0153 - val_loss: 2.4580e-04\n",
            "Epoch 78/100\n",
            "900/900 [==============================] - 1s 1ms/sample - loss: 0.0158 - val_loss: 5.6882e-05\n",
            "Epoch 79/100\n",
            "900/900 [==============================] - 1s 1ms/sample - loss: 0.0155 - val_loss: 3.3550e-04\n",
            "Epoch 80/100\n",
            "900/900 [==============================] - 1s 1ms/sample - loss: 0.0165 - val_loss: 0.0010\n",
            "Epoch 81/100\n",
            "900/900 [==============================] - 1s 1ms/sample - loss: 0.0156 - val_loss: 2.4529e-05\n",
            "Epoch 82/100\n",
            "900/900 [==============================] - 1s 1ms/sample - loss: 0.0153 - val_loss: 7.0229e-04\n",
            "Epoch 83/100\n",
            "900/900 [==============================] - 1s 1ms/sample - loss: 0.0157 - val_loss: 0.0034\n",
            "Epoch 84/100\n",
            "900/900 [==============================] - 1s 1ms/sample - loss: 0.0152 - val_loss: 1.1793e-04\n",
            "Epoch 85/100\n",
            "900/900 [==============================] - 1s 1ms/sample - loss: 0.0154 - val_loss: 2.2557e-04\n",
            "Epoch 86/100\n",
            "900/900 [==============================] - 1s 1ms/sample - loss: 0.0158 - val_loss: 1.2295e-04\n",
            "Epoch 87/100\n",
            "900/900 [==============================] - 1s 1ms/sample - loss: 0.0156 - val_loss: 8.3476e-05\n",
            "Epoch 88/100\n",
            "900/900 [==============================] - 1s 1ms/sample - loss: 0.0164 - val_loss: 1.0900e-04\n",
            "Epoch 89/100\n",
            "900/900 [==============================] - 1s 1ms/sample - loss: 0.0148 - val_loss: 3.2593e-04\n",
            "Epoch 90/100\n",
            "900/900 [==============================] - 1s 1ms/sample - loss: 0.0149 - val_loss: 7.3227e-04\n",
            "Epoch 91/100\n",
            "900/900 [==============================] - 1s 1ms/sample - loss: 0.0154 - val_loss: 8.4482e-04\n",
            "Epoch 92/100\n",
            "900/900 [==============================] - 1s 1ms/sample - loss: 0.0154 - val_loss: 0.0015\n",
            "Epoch 93/100\n",
            "900/900 [==============================] - 1s 1ms/sample - loss: 0.0158 - val_loss: 5.8447e-05\n",
            "Epoch 94/100\n",
            "900/900 [==============================] - 1s 1ms/sample - loss: 0.0145 - val_loss: 1.3811e-04\n",
            "Epoch 95/100\n",
            "900/900 [==============================] - 1s 1ms/sample - loss: 0.0141 - val_loss: 2.0433e-04\n",
            "Epoch 96/100\n",
            "900/900 [==============================] - 1s 1ms/sample - loss: 0.0150 - val_loss: 0.0034\n",
            "Epoch 97/100\n",
            "900/900 [==============================] - 1s 1ms/sample - loss: 0.0145 - val_loss: 2.7765e-04\n",
            "Epoch 98/100\n",
            "900/900 [==============================] - 1s 1ms/sample - loss: 0.0150 - val_loss: 1.0948e-04\n",
            "Epoch 99/100\n",
            "900/900 [==============================] - 1s 1ms/sample - loss: 0.0141 - val_loss: 1.9702e-04\n",
            "Epoch 100/100\n",
            "900/900 [==============================] - 1s 1ms/sample - loss: 0.0151 - val_loss: 4.0821e-05\n"
          ],
          "name": "stdout"
        },
        {
          "output_type": "display_data",
          "data": {
            "image/png": "[encoded data removed]",
            "text/plain": [
              "<Figure size 432x288 with 1 Axes>"
            ]
          },
          "metadata": {
            "tags": [],
            "needs_background": "light"
          }
        },
        {
          "output_type": "display_data",
          "data": {
            "image/png": "[encoded data removed]",
            "text/plain": [
              "<Figure size 432x288 with 1 Axes>"
            ]
          },
          "metadata": {
            "tags": [],
            "needs_background": "light"
          }
        },
        {
          "output_type": "display_data",
          "data": {
            "image/png": "[encoded data removed]",
            "text/plain": [
              "<Figure size 432x288 with 1 Axes>"
            ]
          },
          "metadata": {
            "tags": [],
            "needs_background": "light"
          }
        },
        {
          "output_type": "display_data",
          "data": {
            "image/png": "[encoded data removed]",
            "text/plain": [
              "<Figure size 432x288 with 1 Axes>"
            ]
          },
          "metadata": {
            "tags": [],
            "needs_background": "light"
          }
        }
      ]
    }
  ]
}