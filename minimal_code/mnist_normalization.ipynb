{
  "nbformat": 4,
  "nbformat_minor": 0,
  "metadata": {
    "colab": {
      "name": "Untitled21.ipynb",
      "provenance": []
    },
    "kernelspec": {
      "name": "python3",
      "display_name": "Python 3"
    },
    "accelerator": "GPU"
  },
  "cells": [
    {
      "cell_type": "code",
      "metadata": {
        "id": "8_ZHDQCm6QdE",
        "colab_type": "code",
        "colab": {
          "base_uri": "https://localhost:8080/",
          "height": 35
        },
        "outputId": "62db7ef8-1bab-471d-9b4d-c108320742a4"
      },
      "source": [
        "%tensorflow_version 1.x"
      ],
      "execution_count": 1,
      "outputs": [
        {
          "output_type": "stream",
          "text": [
            "TensorFlow 1.x selected.\n"
          ],
          "name": "stdout"
        }
      ]
    },
    {
      "cell_type": "code",
      "metadata": {
        "id": "j-NDJTLw6kTW",
        "colab_type": "code",
        "colab": {}
      },
      "source": [
        "import numpy as np\n",
        "import matplotlib.pyplot as plt\n",
        "\n",
        "import tensorflow as tf\n",
        "from tensorflow import keras\n",
        "from tensorflow.keras import optimizers\n",
        "from tensorflow.keras.layers import Dense, Flatten\n",
        "\n",
        "import time"
      ],
      "execution_count": 3,
      "outputs": []
    },
    {
      "cell_type": "markdown",
      "metadata": {
        "id": "7v6Ew2k96Y1J",
        "colab_type": "text"
      },
      "source": [
        "#MNIST"
      ]
    },
    {
      "cell_type": "markdown",
      "metadata": {
        "id": "Hkpab-936cEQ",
        "colab_type": "text"
      },
      "source": [
        "Data download"
      ]
    },
    {
      "cell_type": "code",
      "metadata": {
        "id": "5jtXJKAu6eew",
        "colab_type": "code",
        "colab": {
          "base_uri": "https://localhost:8080/",
          "height": 53
        },
        "outputId": "e15ee6d1-8efa-4372-bd70-ecb121d75563"
      },
      "source": [
        "(raw_train_x, raw_train_y), (raw_test_x, raw_test_y) = tf.keras.datasets.mnist.load_data()"
      ],
      "execution_count": 4,
      "outputs": [
        {
          "output_type": "stream",
          "text": [
            "Downloading data from https://storage.googleapis.com/tensorflow/tf-keras-datasets/mnist.npz\n",
            "11493376/11490434 [==============================] - 0s 0us/step\n"
          ],
          "name": "stdout"
        }
      ]
    },
    {
      "cell_type": "markdown",
      "metadata": {
        "id": "7f8vVmrr7O1l",
        "colab_type": "text"
      },
      "source": [
        "Data 갯수와 모양을 출력"
      ]
    },
    {
      "cell_type": "code",
      "metadata": {
        "id": "AoxWxAFO6ri8",
        "colab_type": "code",
        "colab": {
          "base_uri": "https://localhost:8080/",
          "height": 89
        },
        "outputId": "6655188d-5ad2-454b-8399-86e4dc505461"
      },
      "source": [
        "print(raw_train_x.shape) #Data 갯수와 모양을 출력\n",
        "print(raw_train_y.shape)\n",
        "print(raw_test_x.shape)\n",
        "print(raw_test_y.shape)"
      ],
      "execution_count": 5,
      "outputs": [
        {
          "output_type": "stream",
          "text": [
            "(60000, 28, 28)\n",
            "(60000,)\n",
            "(10000, 28, 28)\n",
            "(10000,)\n"
          ],
          "name": "stdout"
        }
      ]
    },
    {
      "cell_type": "markdown",
      "metadata": {
        "id": "dxCBdAaD7SM8",
        "colab_type": "text"
      },
      "source": [
        "일부 Data 출력 (Label과 함께 출력)"
      ]
    },
    {
      "cell_type": "code",
      "metadata": {
        "id": "ndaDWtq16yHi",
        "colab_type": "code",
        "colab": {
          "base_uri": "https://localhost:8080/",
          "height": 549
        },
        "outputId": "4afef487-fd04-4897-c394-bdde9f6759cf"
      },
      "source": [
        "for i in range(2):\n",
        "  print(raw_train_y[i])\n",
        "  plt.imshow(raw_train_x[i], cmap=plt.cm.binary)\n",
        "  plt.show()"
      ],
      "execution_count": 8,
      "outputs": [
        {
          "output_type": "stream",
          "text": [
            "5\n"
          ],
          "name": "stdout"
        },
        {
          "output_type": "display_data",
          "data": {
            "image/png": "[encoded data removed]",
            "text/plain": [
              "<Figure size 432x288 with 1 Axes>"
            ]
          },
          "metadata": {
            "tags": [],
            "needs_background": "light"
          }
        },
        {
          "output_type": "stream",
          "text": [
            "0\n"
          ],
          "name": "stdout"
        },
        {
          "output_type": "display_data",
          "data": {
            "image/png": "[encoded data removed]",
            "text/plain": [
              "<Figure size 432x288 with 1 Axes>"
            ]
          },
          "metadata": {
            "tags": [],
            "needs_background": "light"
          }
        }
      ]
    },
    {
      "cell_type": "markdown",
      "metadata": {
        "id": "K2iE3XJk7Lny",
        "colab_type": "text"
      },
      "source": [
        "Normalization"
      ]
    },
    {
      "cell_type": "code",
      "metadata": {
        "id": "5IrqPV4g7use",
        "colab_type": "code",
        "colab": {
          "base_uri": "https://localhost:8080/",
          "height": 89
        },
        "outputId": "08def965-65ba-440c-d298-f1f06e794cf6"
      },
      "source": [
        "print(np.max(raw_train_x[:,]))\n",
        "print(np.max(raw_test_x[:,]))\n",
        "\n",
        "train_x = raw_train_x/255\n",
        "test_x = raw_test_x/255\n",
        "\n",
        "train_y = raw_train_y\n",
        "test_y = raw_test_y\n",
        "\n",
        "print(np.max(train_x[:,]))\n",
        "print(np.max(test_x[:,]))"
      ],
      "execution_count": 9,
      "outputs": [
        {
          "output_type": "stream",
          "text": [
            "255\n",
            "255\n",
            "1.0\n",
            "1.0\n"
          ],
          "name": "stdout"
        }
      ]
    },
    {
      "cell_type": "code",
      "metadata": {
        "id": "iSMlo21k9DKW",
        "colab_type": "code",
        "colab": {
          "base_uri": "https://localhost:8080/",
          "height": 53
        },
        "outputId": "ca0966b9-5642-46de-d971-75d7d87f7c90"
      },
      "source": [
        "data_count = train_x.shape[0]\n",
        "data_size = train_x.shape[1]*train_x.shape[2]\n",
        "train_x = train_x.reshape((data_count, data_size))\n",
        "\n",
        "data_count = test_x.shape[0]\n",
        "test_x = test_x.reshape((data_count, data_size))\n",
        "\n",
        "print(train_x.shape)\n",
        "print(test_x.shape)"
      ],
      "execution_count": 10,
      "outputs": [
        {
          "output_type": "stream",
          "text": [
            "(60000, 784)\n",
            "(10000, 784)\n"
          ],
          "name": "stdout"
        }
      ]
    },
    {
      "cell_type": "markdown",
      "metadata": {
        "id": "sfTJHJPr9Vis",
        "colab_type": "text"
      },
      "source": [
        "#모델 준비"
      ]
    },
    {
      "cell_type": "code",
      "metadata": {
        "id": "UxGKVJ9W9W-O",
        "colab_type": "code",
        "colab": {
          "base_uri": "https://localhost:8080/",
          "height": 485
        },
        "outputId": "32034180-ad2b-4777-fb4d-5d16b4fce0ff"
      },
      "source": [
        "model = keras.Sequential()\n",
        "# model.add(Dense(10, activation='relu', input_shape=(1,)))\n",
        "model.add(Dense(10, activation='relu', input_shape=(28*28,)))\n",
        "model.add(Dense(10, activation='relu'))\n",
        "# model.add(Dense(1))\n",
        "model.add(Dense(10, activation='softmax'))\n",
        "\n",
        "model.compile(optimizer=\"adam\", loss=\"sparse_categorical_crossentropy\", metrics=[\"accuracy\"])\n",
        "model.summary()\n",
        "\n",
        "# start_time = time.time() # REMOVED\n",
        "model.fit(train_x, train_y, epochs=5, verbose=1, batch_size=128)\n",
        "# print(\"elapsed : {}\".format(time.time() - start_time)) # REMOVED"
      ],
      "execution_count": 12,
      "outputs": [
        {
          "output_type": "stream",
          "text": [
            "Model: \"sequential_1\"\n",
            "_________________________________________________________________\n",
            "Layer (type)                 Output Shape              Param #   \n",
            "=================================================================\n",
            "dense_3 (Dense)              (None, 10)                7850      \n",
            "_________________________________________________________________\n",
            "dense_4 (Dense)              (None, 10)                110       \n",
            "_________________________________________________________________\n",
            "dense_5 (Dense)              (None, 10)                110       \n",
            "=================================================================\n",
            "Total params: 8,070\n",
            "Trainable params: 8,070\n",
            "Non-trainable params: 0\n",
            "_________________________________________________________________\n",
            "Train on 60000 samples\n",
            "Epoch 1/5\n",
            "60000/60000 [==============================] - 1s 24us/sample - loss: 1.0224 - acc: 0.6769\n",
            "Epoch 2/5\n",
            "60000/60000 [==============================] - 1s 19us/sample - loss: 0.3649 - acc: 0.8975\n",
            "Epoch 3/5\n",
            "60000/60000 [==============================] - 1s 19us/sample - loss: 0.2972 - acc: 0.9156\n",
            "Epoch 4/5\n",
            "60000/60000 [==============================] - 1s 19us/sample - loss: 0.2707 - acc: 0.9237\n",
            "Epoch 5/5\n",
            "60000/60000 [==============================] - 1s 18us/sample - loss: 0.2550 - acc: 0.9279\n"
          ],
          "name": "stdout"
        },
        {
          "output_type": "execute_result",
          "data": {
            "text/plain": [
              "<tensorflow.python.keras.callbacks.History at 0x7f27b3a44ac8>"
            ]
          },
          "metadata": {
            "tags": []
          },
          "execution_count": 12
        }
      ]
    },
    {
      "cell_type": "code",
      "metadata": {
        "id": "QFu_L-zp9wEc",
        "colab_type": "code",
        "colab": {
          "base_uri": "https://localhost:8080/",
          "height": 71
        },
        "outputId": "68c9ddf8-6421-4f5f-b7ae-5b054ee2a687"
      },
      "source": [
        "loss, acc = model.evaluate(test_x, test_y)\n",
        "print(\"loss=\",loss)\n",
        "print(\"acc=\",acc)"
      ],
      "execution_count": 13,
      "outputs": [
        {
          "output_type": "stream",
          "text": [
            "10000/10000 [==============================] - 0s 26us/sample - loss: 0.2500 - acc: 0.9279\n",
            "loss= 0.24996049018353222\n",
            "acc= 0.9279\n"
          ],
          "name": "stdout"
        }
      ]
    },
    {
      "cell_type": "code",
      "metadata": {
        "id": "Pz73rt0W9-1U",
        "colab_type": "code",
        "colab": {
          "base_uri": "https://localhost:8080/",
          "height": 1000
        },
        "outputId": "f6495bff-eaed-4671-8be4-446556363ec0"
      },
      "source": [
        "y_ = model.predict(test_x)\n",
        "print(y_)\n",
        "predicted = np.argmax(y_, axis=1)\n",
        "print(predicted)\n",
        "\n",
        "for i in range(4):\n",
        "  print(raw_test_y[i])\n",
        "  plt.imshow(raw_test_x[i], cmap=plt.cm.binary)\n",
        "  plt.show()"
      ],
      "execution_count": 14,
      "outputs": [
        {
          "output_type": "stream",
          "text": [
            "[[1.6726382e-03 1.4439524e-08 4.8927846e-05 ... 9.8337263e-01\n",
            "  4.5343027e-06 4.8616446e-05]\n",
            " [1.4163124e-03 1.3529589e-05 9.9171925e-01 ... 8.0151363e-12\n",
            "  2.2046968e-06 3.2326049e-13]\n",
            " [1.1819618e-04 9.8189294e-01 7.5024455e-03 ... 1.7580017e-03\n",
            "  2.1599594e-03 1.4142621e-05]\n",
            " ...\n",
            " [5.3557710e-07 5.2114796e-08 3.5270758e-05 ... 8.3691186e-05\n",
            "  9.5910707e-04 1.0935562e-02]\n",
            " [3.5732261e-05 1.2755416e-05 1.9245837e-05 ... 1.1954486e-08\n",
            "  8.1502544e-03 2.8914480e-08]\n",
            " [1.3583631e-05 2.4722015e-08 1.1958680e-05 ... 1.5771206e-11\n",
            "  3.1325362e-09 3.6928396e-09]]\n",
            "[7 2 1 ... 4 5 6]\n",
            "7\n"
          ],
          "name": "stdout"
        },
        {
          "output_type": "display_data",
          "data": {
            "image/png": "[encoded data removed]",
            "text/plain": [
              "<Figure size 432x288 with 1 Axes>"
            ]
          },
          "metadata": {
            "tags": [],
            "needs_background": "light"
          }
        },
        {
          "output_type": "stream",
          "text": [
            "2\n"
          ],
          "name": "stdout"
        },
        {
          "output_type": "display_data",
          "data": {
            "image/png": "[encoded data removed]",
            "text/plain": [
              "<Figure size 432x288 with 1 Axes>"
            ]
          },
          "metadata": {
            "tags": [],
            "needs_background": "light"
          }
        },
        {
          "output_type": "stream",
          "text": [
            "1\n"
          ],
          "name": "stdout"
        },
        {
          "output_type": "display_data",
          "data": {
            "image/png": "[encoded data removed]",
            "text/plain": [
              "<Figure size 432x288 with 1 Axes>"
            ]
          },
          "metadata": {
            "tags": [],
            "needs_background": "light"
          }
        },
        {
          "output_type": "stream",
          "text": [
            "0\n"
          ],
          "name": "stdout"
        },
        {
          "output_type": "display_data",
          "data": {
            "image/png": "[encoded data removed]",
            "text/plain": [
              "<Figure size 432x288 with 1 Axes>"
            ]
          },
          "metadata": {
            "tags": [],
            "needs_background": "light"
          }
        }
      ]
    },
    {
      "cell_type": "markdown",
      "metadata": {
        "id": "GEAiKSwW-FdH",
        "colab_type": "text"
      },
      "source": [
        "#전체 코드"
      ]
    },
    {
      "cell_type": "code",
      "metadata": {
        "id": "qFJl4vb2-Hmx",
        "colab_type": "code",
        "colab": {
          "base_uri": "https://localhost:8080/",
          "height": 539
        },
        "outputId": "b7164af1-d79a-4336-95f0-5d19453d12f5"
      },
      "source": [
        "import numpy as np\n",
        "import matplotlib.pyplot as plt\n",
        "\n",
        "import tensorflow as tf\n",
        "from tensorflow import keras\n",
        "from tensorflow.keras import optimizers\n",
        "from tensorflow.keras.layers import Dense\n",
        "\n",
        "import time\n",
        "\n",
        "\n",
        "(raw_train_x, raw_train_y), (raw_test_x, raw_test_y) = tf.keras.datasets.mnist.load_data()\n",
        "\n",
        "train_x = raw_train_x/255\n",
        "test_x = raw_test_x/255\n",
        "\n",
        "train_y = raw_train_y\n",
        "test_y = raw_test_y\n",
        "\n",
        "train_x = train_x.reshape((60000, 28*28))\n",
        "test_x = test_x.reshape((10000, 28*28))\n",
        "\n",
        "\n",
        "model = keras.Sequential()\n",
        "model.add(Dense(10, activation='relu', input_shape=(28*28,)))\n",
        "model.add(Dense(10, activation='relu'))\n",
        "model.add(Dense(10, activation='softmax'))\n",
        "\n",
        "model.compile(optimizer=\"adam\", loss=\"sparse_categorical_crossentropy\", metrics=[\"accuracy\"])\n",
        "model.summary()\n",
        "\n",
        "\n",
        "model.fit(train_x, train_y, epochs=5, verbose=1, batch_size=128)\n",
        "\n",
        "\n",
        "loss, acc = model.evaluate(test_x, test_y)\n",
        "print(\"loss=\",loss)\n",
        "print(\"acc=\",acc)\n",
        "\n",
        "y_ = model.predict(test_x)\n",
        "predicted = np.argmax(y_, axis=1)\n",
        "\n",
        "print(predicted)"
      ],
      "execution_count": 15,
      "outputs": [
        {
          "output_type": "stream",
          "text": [
            "Model: \"sequential_2\"\n",
            "_________________________________________________________________\n",
            "Layer (type)                 Output Shape              Param #   \n",
            "=================================================================\n",
            "dense_6 (Dense)              (None, 10)                7850      \n",
            "_________________________________________________________________\n",
            "dense_7 (Dense)              (None, 10)                110       \n",
            "_________________________________________________________________\n",
            "dense_8 (Dense)              (None, 10)                110       \n",
            "=================================================================\n",
            "Total params: 8,070\n",
            "Trainable params: 8,070\n",
            "Non-trainable params: 0\n",
            "_________________________________________________________________\n",
            "Train on 60000 samples\n",
            "Epoch 1/5\n",
            "60000/60000 [==============================] - 1s 21us/sample - loss: 0.9507 - acc: 0.6851\n",
            "Epoch 2/5\n",
            "60000/60000 [==============================] - 1s 18us/sample - loss: 0.3843 - acc: 0.8879\n",
            "Epoch 3/5\n",
            "60000/60000 [==============================] - 1s 19us/sample - loss: 0.3189 - acc: 0.9069\n",
            "Epoch 4/5\n",
            "60000/60000 [==============================] - 1s 19us/sample - loss: 0.2928 - acc: 0.9142\n",
            "Epoch 5/5\n",
            "60000/60000 [==============================] - 1s 19us/sample - loss: 0.2757 - acc: 0.9190\n",
            "10000/10000 [==============================] - 0s 31us/sample - loss: 0.2665 - acc: 0.9213\n",
            "loss= 0.2665359703361988\n",
            "acc= 0.9213\n",
            "[7 2 1 ... 4 5 6]\n"
          ],
          "name": "stdout"
        }
      ]
    },
    {
      "cell_type": "markdown",
      "metadata": {
        "id": "GGHJW2nLB0Y_",
        "colab_type": "text"
      },
      "source": [
        "#DNN Classification Template"
      ]
    },
    {
      "cell_type": "code",
      "metadata": {
        "id": "25rvwNGvB3Dz",
        "colab_type": "code",
        "colab": {
          "base_uri": "https://localhost:8080/",
          "height": 575
        },
        "outputId": "758520d4-67e0-4acc-b9fb-00afa94bc91d"
      },
      "source": [
        "import numpy as np\n",
        "import matplotlib.pyplot as plt\n",
        "\n",
        "import tensorflow as tf\n",
        "from tensorflow import keras\n",
        "from tensorflow.keras import optimizers\n",
        "from tensorflow.keras.layers import Dense\n",
        "\n",
        "import time\n",
        "\n",
        "\n",
        "(train_x, train_y), (test_x, test_y) = tf.keras.datasets.mnist.load_data()\n",
        "\n",
        "train_x = train_x/255\n",
        "test_x = test_x/255\n",
        "\n",
        "#(None,28,28)의 train_x는 그대로 사용, 모델의 처음에 Flatten() 레이어를 두어 입력 모양을 변경\n",
        "model = keras.Sequential()\n",
        "model.add(Flatten(input_shape=(28, 28)))#ADD\n",
        "#model.add(Dense(10, activation-'relu', input_shape=(28*28,))) #COMMENT OUT\n",
        "model.add(Dense(10, activation='relu'))\n",
        "model.add(Dense(10, activation='relu'))\n",
        "model.add(Dense(10, activation='softmax'))\n",
        "\n",
        "model.compile(optimizer=\"adam\", loss=\"sparse_categorical_crossentropy\", metrics=[\"accuracy\"])\n",
        "model.summary()\n",
        "\n",
        "\n",
        "model.fit(train_x, train_y, epochs=5, verbose=1, batch_size=128)\n",
        "\n",
        "\n",
        "loss, acc = model.evaluate(test_x, test_y)\n",
        "print(\"loss=\",loss)\n",
        "print(\"acc=\",acc)\n",
        "\n",
        "y_ = model.predict(test_x)\n",
        "predicted = np.argmax(y_, axis=1)\n",
        "\n",
        "print(predicted)"
      ],
      "execution_count": 16,
      "outputs": [
        {
          "output_type": "stream",
          "text": [
            "Model: \"sequential_3\"\n",
            "_________________________________________________________________\n",
            "Layer (type)                 Output Shape              Param #   \n",
            "=================================================================\n",
            "flatten (Flatten)            (None, 784)               0         \n",
            "_________________________________________________________________\n",
            "dense_9 (Dense)              (None, 10)                7850      \n",
            "_________________________________________________________________\n",
            "dense_10 (Dense)             (None, 10)                110       \n",
            "_________________________________________________________________\n",
            "dense_11 (Dense)             (None, 10)                110       \n",
            "=================================================================\n",
            "Total params: 8,070\n",
            "Trainable params: 8,070\n",
            "Non-trainable params: 0\n",
            "_________________________________________________________________\n",
            "Train on 60000 samples\n",
            "Epoch 1/5\n",
            "60000/60000 [==============================] - 1s 22us/sample - loss: 0.9338 - acc: 0.6873\n",
            "Epoch 2/5\n",
            "60000/60000 [==============================] - 1s 21us/sample - loss: 0.4184 - acc: 0.8791\n",
            "Epoch 3/5\n",
            "60000/60000 [==============================] - 1s 19us/sample - loss: 0.3505 - acc: 0.8996\n",
            "Epoch 4/5\n",
            "60000/60000 [==============================] - 1s 20us/sample - loss: 0.3170 - acc: 0.9083\n",
            "Epoch 5/5\n",
            "60000/60000 [==============================] - 1s 19us/sample - loss: 0.2961 - acc: 0.9149\n",
            "10000/10000 [==============================] - 0s 31us/sample - loss: 0.2899 - acc: 0.9182\n",
            "loss= 0.28988812409341336\n",
            "acc= 0.9182\n",
            "[7 2 1 ... 4 5 6]\n"
          ],
          "name": "stdout"
        }
      ]
    },
    {
      "cell_type": "markdown",
      "metadata": {
        "id": "hepJHBb-DI59",
        "colab_type": "text"
      },
      "source": [
        "#Normalization test"
      ]
    },
    {
      "cell_type": "markdown",
      "metadata": {
        "id": "rqVDJuqbDWTf",
        "colab_type": "text"
      },
      "source": [
        "0~255 값으로 학습 실행"
      ]
    },
    {
      "cell_type": "code",
      "metadata": {
        "id": "jwdsizRdDZs-",
        "colab_type": "code",
        "colab": {
          "base_uri": "https://localhost:8080/",
          "height": 593
        },
        "outputId": "4302529d-93dc-4709-dd45-44d0bc7c808c"
      },
      "source": [
        "#Data 준비\n",
        "\n",
        "(train_x, train_y), (test_x, test_y) = tf.keras.datasets.mnist.load_data()\n",
        "\n",
        "# train_x = train_x/255\n",
        "# test_x = test_x/255\n",
        "\n",
        "#모델\n",
        "model = keras.Sequential()\n",
        "model.add(Flatten(input_shape=(28, 28)))\n",
        "model.add(Dense(10, activation='relu'))\n",
        "model.add(Dense(10, activation='relu'))\n",
        "model.add(Dense(10, activation='softmax'))\n",
        "\n",
        "model.compile(optimizer=\"adam\", loss=\"sparse_categorical_crossentropy\", metrics=[\"accuracy\"])\n",
        "model.summary()\n",
        "\n",
        "start_time = time.time()\n",
        "model.fit(train_x, train_y, epochs=5, verbose=1, batch_size=128)\n",
        "print(\"elapsed : {}\".format(time.time() - start_time))\n",
        "\n",
        "loss, acc = model.evaluate(test_x, test_y)\n",
        "print(\"loss=\",loss)\n",
        "print(\"acc=\",acc)\n",
        "\n",
        "y_ = model.predict(test_x)\n",
        "predicted = np.argmax(y_, axis=1)\n",
        "\n",
        "print(predicted)"
      ],
      "execution_count": 20,
      "outputs": [
        {
          "output_type": "stream",
          "text": [
            "Model: \"sequential_7\"\n",
            "_________________________________________________________________\n",
            "Layer (type)                 Output Shape              Param #   \n",
            "=================================================================\n",
            "flatten_4 (Flatten)          (None, 784)               0         \n",
            "_________________________________________________________________\n",
            "dense_21 (Dense)             (None, 10)                7850      \n",
            "_________________________________________________________________\n",
            "dense_22 (Dense)             (None, 10)                110       \n",
            "_________________________________________________________________\n",
            "dense_23 (Dense)             (None, 10)                110       \n",
            "=================================================================\n",
            "Total params: 8,070\n",
            "Trainable params: 8,070\n",
            "Non-trainable params: 0\n",
            "_________________________________________________________________\n",
            "Train on 60000 samples\n",
            "Epoch 1/5\n",
            "60000/60000 [==============================] - 1s 19us/sample - loss: 3.0471 - acc: 0.1124\n",
            "Epoch 2/5\n",
            "60000/60000 [==============================] - 1s 17us/sample - loss: 2.2535 - acc: 0.1387\n",
            "Epoch 3/5\n",
            "60000/60000 [==============================] - 1s 18us/sample - loss: 2.1214 - acc: 0.1904\n",
            "Epoch 4/5\n",
            "60000/60000 [==============================] - 1s 18us/sample - loss: 1.9593 - acc: 0.2617\n",
            "Epoch 5/5\n",
            "60000/60000 [==============================] - 1s 18us/sample - loss: 1.8325 - acc: 0.2973\n",
            "elapsed : 5.841329097747803\n",
            "10000/10000 [==============================] - 0s 35us/sample - loss: 1.7931 - acc: 0.3206\n",
            "loss= 1.7930989349365234\n",
            "acc= 0.3206\n",
            "[1 0 1 ... 1 1 1]\n"
          ],
          "name": "stdout"
        }
      ]
    },
    {
      "cell_type": "markdown",
      "metadata": {
        "id": "yzULyc_BEABD",
        "colab_type": "text"
      },
      "source": [
        "0~1 사이로 Normalization"
      ]
    },
    {
      "cell_type": "code",
      "metadata": {
        "id": "nEZtMVH-EF4D",
        "colab_type": "code",
        "colab": {
          "base_uri": "https://localhost:8080/",
          "height": 593
        },
        "outputId": "ccf4d70d-b11f-46ca-8d4b-ac5c51a85f4f"
      },
      "source": [
        "#Data 준비\n",
        "\n",
        "(train_x, train_y), (test_x, test_y) = tf.keras.datasets.mnist.load_data()\n",
        "\n",
        "train_x = train_x/255\n",
        "test_x = test_x/255\n",
        "\n",
        "#모델\n",
        "model = keras.Sequential()\n",
        "model.add(Flatten(input_shape=(28, 28)))\n",
        "model.add(Dense(10, activation='relu'))\n",
        "model.add(Dense(10, activation='relu'))\n",
        "model.add(Dense(10, activation='softmax'))\n",
        "\n",
        "model.compile(optimizer=\"adam\", loss=\"sparse_categorical_crossentropy\", metrics=[\"accuracy\"])\n",
        "model.summary()\n",
        "\n",
        "start_time = time.time()\n",
        "model.fit(train_x, train_y, epochs=5, verbose=1, batch_size=128)\n",
        "print(\"elapsed : {}\".format(time.time() - start_time))\n",
        "\n",
        "loss, acc = model.evaluate(test_x, test_y)\n",
        "print(\"loss=\",loss)\n",
        "print(\"acc=\",acc)\n",
        "\n",
        "y_ = model.predict(test_x)\n",
        "predicted = np.argmax(y_, axis=1)\n",
        "\n",
        "print(predicted)"
      ],
      "execution_count": 21,
      "outputs": [
        {
          "output_type": "stream",
          "text": [
            "Model: \"sequential_8\"\n",
            "_________________________________________________________________\n",
            "Layer (type)                 Output Shape              Param #   \n",
            "=================================================================\n",
            "flatten_5 (Flatten)          (None, 784)               0         \n",
            "_________________________________________________________________\n",
            "dense_24 (Dense)             (None, 10)                7850      \n",
            "_________________________________________________________________\n",
            "dense_25 (Dense)             (None, 10)                110       \n",
            "_________________________________________________________________\n",
            "dense_26 (Dense)             (None, 10)                110       \n",
            "=================================================================\n",
            "Total params: 8,070\n",
            "Trainable params: 8,070\n",
            "Non-trainable params: 0\n",
            "_________________________________________________________________\n",
            "Train on 60000 samples\n",
            "Epoch 1/5\n",
            "60000/60000 [==============================] - 1s 22us/sample - loss: 0.8692 - acc: 0.7350\n",
            "Epoch 2/5\n",
            "60000/60000 [==============================] - 1s 21us/sample - loss: 0.3617 - acc: 0.8978\n",
            "Epoch 3/5\n",
            "60000/60000 [==============================] - 1s 20us/sample - loss: 0.3028 - acc: 0.9143\n",
            "Epoch 4/5\n",
            "60000/60000 [==============================] - 1s 20us/sample - loss: 0.2748 - acc: 0.9215\n",
            "Epoch 5/5\n",
            "60000/60000 [==============================] - 1s 21us/sample - loss: 0.2569 - acc: 0.9269\n",
            "elapsed : 6.673229932785034\n",
            "10000/10000 [==============================] - 0s 36us/sample - loss: 0.2497 - acc: 0.9284\n",
            "loss= 0.24970011441707612\n",
            "acc= 0.9284\n",
            "[7 2 1 ... 4 5 6]\n"
          ],
          "name": "stdout"
        }
      ]
    },
    {
      "cell_type": "markdown",
      "metadata": {
        "id": "v7tcQQOYEf8u",
        "colab_type": "text"
      },
      "source": [
        "-1~1로 Normalization"
      ]
    },
    {
      "cell_type": "code",
      "metadata": {
        "id": "nHvo1wXJElZm",
        "colab_type": "code",
        "colab": {
          "base_uri": "https://localhost:8080/",
          "height": 593
        },
        "outputId": "ebd222fb-5c67-4d9c-92e9-510b27fccb78"
      },
      "source": [
        "#Data 준비\n",
        "\n",
        "(train_x, train_y), (test_x, test_y) = tf.keras.datasets.mnist.load_data()\n",
        "\n",
        "# train_x = train_x/255\n",
        "# test_x = test_x/255\n",
        "train_x = train_x/127.5 - 1\n",
        "test_x = test_x/127.5 - 1\n",
        "\n",
        "#모델\n",
        "model = keras.Sequential()\n",
        "model.add(Flatten(input_shape=(28, 28)))\n",
        "model.add(Dense(10, activation='relu'))\n",
        "model.add(Dense(10, activation='relu'))\n",
        "model.add(Dense(10, activation='softmax'))\n",
        "\n",
        "model.compile(optimizer=\"adam\", loss=\"sparse_categorical_crossentropy\", metrics=[\"accuracy\"])\n",
        "model.summary()\n",
        "\n",
        "start_time = time.time()\n",
        "model.fit(train_x, train_y, epochs=5, verbose=1, batch_size=128)\n",
        "print(\"elapsed : {}\".format(time.time() - start_time))\n",
        "\n",
        "loss, acc = model.evaluate(test_x, test_y)\n",
        "print(\"loss=\",loss)\n",
        "print(\"acc=\",acc)\n",
        "\n",
        "y_ = model.predict(test_x)\n",
        "predicted = np.argmax(y_, axis=1)\n",
        "\n",
        "print(predicted)"
      ],
      "execution_count": 22,
      "outputs": [
        {
          "output_type": "stream",
          "text": [
            "Model: \"sequential_9\"\n",
            "_________________________________________________________________\n",
            "Layer (type)                 Output Shape              Param #   \n",
            "=================================================================\n",
            "flatten_6 (Flatten)          (None, 784)               0         \n",
            "_________________________________________________________________\n",
            "dense_27 (Dense)             (None, 10)                7850      \n",
            "_________________________________________________________________\n",
            "dense_28 (Dense)             (None, 10)                110       \n",
            "_________________________________________________________________\n",
            "dense_29 (Dense)             (None, 10)                110       \n",
            "=================================================================\n",
            "Total params: 8,070\n",
            "Trainable params: 8,070\n",
            "Non-trainable params: 0\n",
            "_________________________________________________________________\n",
            "Train on 60000 samples\n",
            "Epoch 1/5\n",
            "60000/60000 [==============================] - 1s 21us/sample - loss: 1.7792 - acc: 0.3451\n",
            "Epoch 2/5\n",
            "60000/60000 [==============================] - 1s 20us/sample - loss: 1.3118 - acc: 0.5363\n",
            "Epoch 3/5\n",
            "60000/60000 [==============================] - 1s 19us/sample - loss: 1.1773 - acc: 0.5819\n",
            "Epoch 4/5\n",
            "60000/60000 [==============================] - 1s 19us/sample - loss: 1.1196 - acc: 0.6064\n",
            "Epoch 5/5\n",
            "60000/60000 [==============================] - 1s 19us/sample - loss: 1.0899 - acc: 0.6149\n",
            "elapsed : 6.3451361656188965\n",
            "10000/10000 [==============================] - 0s 36us/sample - loss: 1.0563 - acc: 0.6366\n",
            "loss= 1.0562564421653748\n",
            "acc= 0.6366\n",
            "[7 2 1 ... 9 5 6]\n"
          ],
          "name": "stdout"
        }
      ]
    },
    {
      "cell_type": "markdown",
      "metadata": {
        "id": "74BCbau7ExgK",
        "colab_type": "text"
      },
      "source": [
        "-255~255로 Normalization"
      ]
    },
    {
      "cell_type": "code",
      "metadata": {
        "id": "B4goZi1qEz3A",
        "colab_type": "code",
        "colab": {
          "base_uri": "https://localhost:8080/",
          "height": 593
        },
        "outputId": "d326c022-f109-4855-a830-0425952c1332"
      },
      "source": [
        "#Data 준비\n",
        "\n",
        "(train_x, train_y), (test_x, test_y) = tf.keras.datasets.mnist.load_data()\n",
        "\n",
        "# train_x = train_x/255\n",
        "# test_x = test_x/255\n",
        "train_x = train_x*2 - 255\n",
        "test_x = test_x*2 - 255\n",
        "\n",
        "#모델\n",
        "model = keras.Sequential()\n",
        "model.add(Flatten(input_shape=(28, 28)))\n",
        "model.add(Dense(10, activation='relu'))\n",
        "model.add(Dense(10, activation='relu'))\n",
        "model.add(Dense(10, activation='softmax'))\n",
        "\n",
        "model.compile(optimizer=\"adam\", loss=\"sparse_categorical_crossentropy\", metrics=[\"accuracy\"])\n",
        "model.summary()\n",
        "\n",
        "start_time = time.time()\n",
        "model.fit(train_x, train_y, epochs=5, verbose=1, batch_size=128)\n",
        "print(\"elapsed : {}\".format(time.time() - start_time))\n",
        "\n",
        "loss, acc = model.evaluate(test_x, test_y)\n",
        "print(\"loss=\",loss)\n",
        "print(\"acc=\",acc)\n",
        "\n",
        "y_ = model.predict(test_x)\n",
        "predicted = np.argmax(y_, axis=1)\n",
        "\n",
        "print(predicted)"
      ],
      "execution_count": 23,
      "outputs": [
        {
          "output_type": "stream",
          "text": [
            "Model: \"sequential_10\"\n",
            "_________________________________________________________________\n",
            "Layer (type)                 Output Shape              Param #   \n",
            "=================================================================\n",
            "flatten_7 (Flatten)          (None, 784)               0         \n",
            "_________________________________________________________________\n",
            "dense_30 (Dense)             (None, 10)                7850      \n",
            "_________________________________________________________________\n",
            "dense_31 (Dense)             (None, 10)                110       \n",
            "_________________________________________________________________\n",
            "dense_32 (Dense)             (None, 10)                110       \n",
            "=================================================================\n",
            "Total params: 8,070\n",
            "Trainable params: 8,070\n",
            "Non-trainable params: 0\n",
            "_________________________________________________________________\n",
            "Train on 60000 samples\n",
            "Epoch 1/5\n",
            "60000/60000 [==============================] - 1s 20us/sample - loss: 3.1857 - acc: 0.1844\n",
            "Epoch 2/5\n",
            "60000/60000 [==============================] - 1s 18us/sample - loss: 1.9233 - acc: 0.2795\n",
            "Epoch 3/5\n",
            "60000/60000 [==============================] - 1s 19us/sample - loss: 1.5677 - acc: 0.4216\n",
            "Epoch 4/5\n",
            "60000/60000 [==============================] - 1s 19us/sample - loss: 1.2807 - acc: 0.5186\n",
            "Epoch 5/5\n",
            "60000/60000 [==============================] - 1s 19us/sample - loss: 1.1611 - acc: 0.5695\n",
            "elapsed : 6.1723597049713135\n",
            "10000/10000 [==============================] - 0s 36us/sample - loss: 1.1311 - acc: 0.5796\n",
            "loss= 1.1311326502799988\n",
            "acc= 0.5796\n",
            "[7 2 1 ... 4 5 4]\n"
          ],
          "name": "stdout"
        }
      ]
    }
  ]
}